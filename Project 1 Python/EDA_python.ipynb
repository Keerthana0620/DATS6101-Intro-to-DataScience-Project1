{
  "cells": [
    {
      "cell_type": "code",
      "execution_count": null,
      "id": "85bc01e3",
      "metadata": {
        "id": "85bc01e3"
      },
      "outputs": [],
      "source": [
        "import pandas as pd\n",
        "from sklearn.preprocessing import MinMaxScaler"
      ]
    },
    {
      "cell_type": "code",
      "execution_count": null,
      "id": "49f9ea21",
      "metadata": {
        "id": "49f9ea21"
      },
      "outputs": [],
      "source": [
        "data = pd.read_csv(\"food_access_research_atlas.csv\" )"
      ]
    },
    {
      "cell_type": "code",
      "execution_count": null,
      "id": "8afade59",
      "metadata": {
        "id": "8afade59",
        "outputId": "1ab19f52-aad2-4d0e-ce14-9045185f190a"
      },
      "outputs": [
        {
          "data": {
            "text/html": [
              "<div>\n",
              "<style scoped>\n",
              "    .dataframe tbody tr th:only-of-type {\n",
              "        vertical-align: middle;\n",
              "    }\n",
              "\n",
              "    .dataframe tbody tr th {\n",
              "        vertical-align: top;\n",
              "    }\n",
              "\n",
              "    .dataframe thead th {\n",
              "        text-align: right;\n",
              "    }\n",
              "</style>\n",
              "<table border=\"1\" class=\"dataframe\">\n",
              "  <thead>\n",
              "    <tr style=\"text-align: right;\">\n",
              "      <th></th>\n",
              "      <th>CensusTract</th>\n",
              "      <th>State</th>\n",
              "      <th>County</th>\n",
              "      <th>Urban</th>\n",
              "      <th>POP2010</th>\n",
              "      <th>OHU2010</th>\n",
              "      <th>GroupQuartersFlag</th>\n",
              "      <th>NUMGQTRS</th>\n",
              "      <th>PCTGQTRS</th>\n",
              "      <th>LILATracts_1And10</th>\n",
              "      <th>...</th>\n",
              "      <th>TractSeniors</th>\n",
              "      <th>TractWhite</th>\n",
              "      <th>TractBlack</th>\n",
              "      <th>TractAsian</th>\n",
              "      <th>TractNHOPI</th>\n",
              "      <th>TractAIAN</th>\n",
              "      <th>TractOMultir</th>\n",
              "      <th>TractHispanic</th>\n",
              "      <th>TractHUNV</th>\n",
              "      <th>TractSNAP</th>\n",
              "    </tr>\n",
              "  </thead>\n",
              "  <tbody>\n",
              "    <tr>\n",
              "      <th>0</th>\n",
              "      <td>1001020100</td>\n",
              "      <td>Alabama</td>\n",
              "      <td>Autauga</td>\n",
              "      <td>1</td>\n",
              "      <td>1912</td>\n",
              "      <td>693</td>\n",
              "      <td>0</td>\n",
              "      <td>0</td>\n",
              "      <td>0.000000</td>\n",
              "      <td>0</td>\n",
              "      <td>...</td>\n",
              "      <td>221</td>\n",
              "      <td>1622</td>\n",
              "      <td>217</td>\n",
              "      <td>14</td>\n",
              "      <td>0</td>\n",
              "      <td>14</td>\n",
              "      <td>45</td>\n",
              "      <td>44</td>\n",
              "      <td>26</td>\n",
              "      <td>112</td>\n",
              "    </tr>\n",
              "    <tr>\n",
              "      <th>1</th>\n",
              "      <td>1001020200</td>\n",
              "      <td>Alabama</td>\n",
              "      <td>Autauga</td>\n",
              "      <td>1</td>\n",
              "      <td>2170</td>\n",
              "      <td>743</td>\n",
              "      <td>0</td>\n",
              "      <td>181</td>\n",
              "      <td>0.083410</td>\n",
              "      <td>0</td>\n",
              "      <td>...</td>\n",
              "      <td>214</td>\n",
              "      <td>888</td>\n",
              "      <td>1217</td>\n",
              "      <td>5</td>\n",
              "      <td>0</td>\n",
              "      <td>5</td>\n",
              "      <td>55</td>\n",
              "      <td>75</td>\n",
              "      <td>87</td>\n",
              "      <td>202</td>\n",
              "    </tr>\n",
              "    <tr>\n",
              "      <th>2</th>\n",
              "      <td>1001020300</td>\n",
              "      <td>Alabama</td>\n",
              "      <td>Autauga</td>\n",
              "      <td>1</td>\n",
              "      <td>3373</td>\n",
              "      <td>1256</td>\n",
              "      <td>0</td>\n",
              "      <td>0</td>\n",
              "      <td>0.000000</td>\n",
              "      <td>0</td>\n",
              "      <td>...</td>\n",
              "      <td>439</td>\n",
              "      <td>2576</td>\n",
              "      <td>647</td>\n",
              "      <td>17</td>\n",
              "      <td>5</td>\n",
              "      <td>11</td>\n",
              "      <td>117</td>\n",
              "      <td>87</td>\n",
              "      <td>108</td>\n",
              "      <td>120</td>\n",
              "    </tr>\n",
              "    <tr>\n",
              "      <th>3</th>\n",
              "      <td>1001020400</td>\n",
              "      <td>Alabama</td>\n",
              "      <td>Autauga</td>\n",
              "      <td>1</td>\n",
              "      <td>4386</td>\n",
              "      <td>1722</td>\n",
              "      <td>0</td>\n",
              "      <td>0</td>\n",
              "      <td>0.000000</td>\n",
              "      <td>0</td>\n",
              "      <td>...</td>\n",
              "      <td>904</td>\n",
              "      <td>4086</td>\n",
              "      <td>193</td>\n",
              "      <td>18</td>\n",
              "      <td>4</td>\n",
              "      <td>11</td>\n",
              "      <td>74</td>\n",
              "      <td>85</td>\n",
              "      <td>19</td>\n",
              "      <td>82</td>\n",
              "    </tr>\n",
              "    <tr>\n",
              "      <th>4</th>\n",
              "      <td>1001020500</td>\n",
              "      <td>Alabama</td>\n",
              "      <td>Autauga</td>\n",
              "      <td>1</td>\n",
              "      <td>10766</td>\n",
              "      <td>4082</td>\n",
              "      <td>0</td>\n",
              "      <td>181</td>\n",
              "      <td>0.016812</td>\n",
              "      <td>0</td>\n",
              "      <td>...</td>\n",
              "      <td>1126</td>\n",
              "      <td>8666</td>\n",
              "      <td>1437</td>\n",
              "      <td>296</td>\n",
              "      <td>9</td>\n",
              "      <td>48</td>\n",
              "      <td>310</td>\n",
              "      <td>355</td>\n",
              "      <td>198</td>\n",
              "      <td>488</td>\n",
              "    </tr>\n",
              "  </tbody>\n",
              "</table>\n",
              "<p>5 rows × 147 columns</p>\n",
              "</div>"
            ],
            "text/plain": [
              "   CensusTract    State   County  Urban  POP2010  OHU2010  GroupQuartersFlag  \\\n",
              "0   1001020100  Alabama  Autauga      1     1912      693                  0   \n",
              "1   1001020200  Alabama  Autauga      1     2170      743                  0   \n",
              "2   1001020300  Alabama  Autauga      1     3373     1256                  0   \n",
              "3   1001020400  Alabama  Autauga      1     4386     1722                  0   \n",
              "4   1001020500  Alabama  Autauga      1    10766     4082                  0   \n",
              "\n",
              "   NUMGQTRS  PCTGQTRS  LILATracts_1And10  ...  TractSeniors  TractWhite  \\\n",
              "0         0  0.000000                  0  ...           221        1622   \n",
              "1       181  0.083410                  0  ...           214         888   \n",
              "2         0  0.000000                  0  ...           439        2576   \n",
              "3         0  0.000000                  0  ...           904        4086   \n",
              "4       181  0.016812                  0  ...          1126        8666   \n",
              "\n",
              "   TractBlack  TractAsian  TractNHOPI  TractAIAN  TractOMultir  TractHispanic  \\\n",
              "0         217          14           0         14            45             44   \n",
              "1        1217           5           0          5            55             75   \n",
              "2         647          17           5         11           117             87   \n",
              "3         193          18           4         11            74             85   \n",
              "4        1437         296           9         48           310            355   \n",
              "\n",
              "   TractHUNV  TractSNAP  \n",
              "0         26        112  \n",
              "1         87        202  \n",
              "2        108        120  \n",
              "3         19         82  \n",
              "4        198        488  \n",
              "\n",
              "[5 rows x 147 columns]"
            ]
          },
          "execution_count": 5,
          "metadata": {},
          "output_type": "execute_result"
        }
      ],
      "source": [
        "data.head()"
      ]
    },
    {
      "cell_type": "code",
      "execution_count": null,
      "id": "ec733fb6",
      "metadata": {
        "id": "ec733fb6",
        "outputId": "524d90a2-fdbc-436b-8745-ff93b8b8286b"
      },
      "outputs": [
        {
          "data": {
            "text/html": [
              "<div>\n",
              "<style scoped>\n",
              "    .dataframe tbody tr th:only-of-type {\n",
              "        vertical-align: middle;\n",
              "    }\n",
              "\n",
              "    .dataframe tbody tr th {\n",
              "        vertical-align: top;\n",
              "    }\n",
              "\n",
              "    .dataframe thead th {\n",
              "        text-align: right;\n",
              "    }\n",
              "</style>\n",
              "<table border=\"1\" class=\"dataframe\">\n",
              "  <thead>\n",
              "    <tr style=\"text-align: right;\">\n",
              "      <th></th>\n",
              "      <th>CensusTract</th>\n",
              "      <th>Urban</th>\n",
              "      <th>POP2010</th>\n",
              "      <th>OHU2010</th>\n",
              "      <th>GroupQuartersFlag</th>\n",
              "      <th>NUMGQTRS</th>\n",
              "      <th>PCTGQTRS</th>\n",
              "      <th>LILATracts_1And10</th>\n",
              "      <th>LILATracts_halfAnd10</th>\n",
              "      <th>LILATracts_1And20</th>\n",
              "      <th>...</th>\n",
              "      <th>TractSeniors</th>\n",
              "      <th>TractWhite</th>\n",
              "      <th>TractBlack</th>\n",
              "      <th>TractAsian</th>\n",
              "      <th>TractNHOPI</th>\n",
              "      <th>TractAIAN</th>\n",
              "      <th>TractOMultir</th>\n",
              "      <th>TractHispanic</th>\n",
              "      <th>TractHUNV</th>\n",
              "      <th>TractSNAP</th>\n",
              "    </tr>\n",
              "  </thead>\n",
              "  <tbody>\n",
              "    <tr>\n",
              "      <th>count</th>\n",
              "      <td>7.286400e+04</td>\n",
              "      <td>72864.000000</td>\n",
              "      <td>72864.000000</td>\n",
              "      <td>72864.000000</td>\n",
              "      <td>72864.000000</td>\n",
              "      <td>72864.000000</td>\n",
              "      <td>72864.000000</td>\n",
              "      <td>72864.000000</td>\n",
              "      <td>72864.000000</td>\n",
              "      <td>72864.000000</td>\n",
              "      <td>...</td>\n",
              "      <td>72864.000000</td>\n",
              "      <td>72864.000000</td>\n",
              "      <td>72864.000000</td>\n",
              "      <td>72864.000000</td>\n",
              "      <td>72864.000000</td>\n",
              "      <td>72864.000000</td>\n",
              "      <td>72864.000000</td>\n",
              "      <td>72864.000000</td>\n",
              "      <td>72864.000000</td>\n",
              "      <td>72864.000000</td>\n",
              "    </tr>\n",
              "    <tr>\n",
              "      <th>mean</th>\n",
              "      <td>2.783045e+10</td>\n",
              "      <td>0.757191</td>\n",
              "      <td>4237.285052</td>\n",
              "      <td>1601.837560</td>\n",
              "      <td>0.007082</td>\n",
              "      <td>109.619606</td>\n",
              "      <td>0.026961</td>\n",
              "      <td>0.126880</td>\n",
              "      <td>0.282115</td>\n",
              "      <td>0.111235</td>\n",
              "      <td>...</td>\n",
              "      <td>552.645806</td>\n",
              "      <td>3068.089386</td>\n",
              "      <td>534.273702</td>\n",
              "      <td>201.392347</td>\n",
              "      <td>7.411246</td>\n",
              "      <td>40.242754</td>\n",
              "      <td>385.875618</td>\n",
              "      <td>692.764520</td>\n",
              "      <td>145.356239</td>\n",
              "      <td>207.022206</td>\n",
              "    </tr>\n",
              "    <tr>\n",
              "      <th>std</th>\n",
              "      <td>1.581256e+10</td>\n",
              "      <td>0.428783</td>\n",
              "      <td>1972.520112</td>\n",
              "      <td>732.106217</td>\n",
              "      <td>0.083855</td>\n",
              "      <td>442.922669</td>\n",
              "      <td>0.095494</td>\n",
              "      <td>0.332841</td>\n",
              "      <td>0.450032</td>\n",
              "      <td>0.314425</td>\n",
              "      <td>...</td>\n",
              "      <td>352.988078</td>\n",
              "      <td>1804.353298</td>\n",
              "      <td>887.806852</td>\n",
              "      <td>435.085612</td>\n",
              "      <td>45.084789</td>\n",
              "      <td>181.024758</td>\n",
              "      <td>528.776237</td>\n",
              "      <td>1117.876349</td>\n",
              "      <td>230.201932</td>\n",
              "      <td>187.188807</td>\n",
              "    </tr>\n",
              "    <tr>\n",
              "      <th>min</th>\n",
              "      <td>1.001020e+09</td>\n",
              "      <td>0.000000</td>\n",
              "      <td>0.000000</td>\n",
              "      <td>0.000000</td>\n",
              "      <td>0.000000</td>\n",
              "      <td>0.000000</td>\n",
              "      <td>0.000000</td>\n",
              "      <td>0.000000</td>\n",
              "      <td>0.000000</td>\n",
              "      <td>0.000000</td>\n",
              "      <td>...</td>\n",
              "      <td>0.000000</td>\n",
              "      <td>0.000000</td>\n",
              "      <td>0.000000</td>\n",
              "      <td>0.000000</td>\n",
              "      <td>0.000000</td>\n",
              "      <td>0.000000</td>\n",
              "      <td>0.000000</td>\n",
              "      <td>0.000000</td>\n",
              "      <td>0.000000</td>\n",
              "      <td>0.000000</td>\n",
              "    </tr>\n",
              "    <tr>\n",
              "      <th>25%</th>\n",
              "      <td>1.212708e+10</td>\n",
              "      <td>1.000000</td>\n",
              "      <td>2883.750000</td>\n",
              "      <td>1102.000000</td>\n",
              "      <td>0.000000</td>\n",
              "      <td>0.000000</td>\n",
              "      <td>0.000000</td>\n",
              "      <td>0.000000</td>\n",
              "      <td>0.000000</td>\n",
              "      <td>0.000000</td>\n",
              "      <td>...</td>\n",
              "      <td>318.000000</td>\n",
              "      <td>1832.000000</td>\n",
              "      <td>42.000000</td>\n",
              "      <td>17.000000</td>\n",
              "      <td>0.000000</td>\n",
              "      <td>7.000000</td>\n",
              "      <td>83.000000</td>\n",
              "      <td>87.000000</td>\n",
              "      <td>37.000000</td>\n",
              "      <td>69.000000</td>\n",
              "    </tr>\n",
              "    <tr>\n",
              "      <th>50%</th>\n",
              "      <td>2.712979e+10</td>\n",
              "      <td>1.000000</td>\n",
              "      <td>4002.000000</td>\n",
              "      <td>1521.000000</td>\n",
              "      <td>0.000000</td>\n",
              "      <td>7.000000</td>\n",
              "      <td>0.001779</td>\n",
              "      <td>0.000000</td>\n",
              "      <td>0.000000</td>\n",
              "      <td>0.000000</td>\n",
              "      <td>...</td>\n",
              "      <td>495.000000</td>\n",
              "      <td>2903.000000</td>\n",
              "      <td>158.000000</td>\n",
              "      <td>57.000000</td>\n",
              "      <td>1.000000</td>\n",
              "      <td>15.000000</td>\n",
              "      <td>184.000000</td>\n",
              "      <td>240.000000</td>\n",
              "      <td>84.000000</td>\n",
              "      <td>158.000000</td>\n",
              "    </tr>\n",
              "    <tr>\n",
              "      <th>75%</th>\n",
              "      <td>4.103900e+10</td>\n",
              "      <td>1.000000</td>\n",
              "      <td>5323.000000</td>\n",
              "      <td>2018.000000</td>\n",
              "      <td>0.000000</td>\n",
              "      <td>63.000000</td>\n",
              "      <td>0.015516</td>\n",
              "      <td>0.000000</td>\n",
              "      <td>1.000000</td>\n",
              "      <td>0.000000</td>\n",
              "      <td>...</td>\n",
              "      <td>716.000000</td>\n",
              "      <td>4111.000000</td>\n",
              "      <td>606.000000</td>\n",
              "      <td>188.000000</td>\n",
              "      <td>5.000000</td>\n",
              "      <td>33.000000</td>\n",
              "      <td>446.000000</td>\n",
              "      <td>746.000000</td>\n",
              "      <td>172.000000</td>\n",
              "      <td>293.000000</td>\n",
              "    </tr>\n",
              "    <tr>\n",
              "      <th>max</th>\n",
              "      <td>5.604595e+10</td>\n",
              "      <td>1.000000</td>\n",
              "      <td>37452.000000</td>\n",
              "      <td>16043.000000</td>\n",
              "      <td>1.000000</td>\n",
              "      <td>19496.000000</td>\n",
              "      <td>1.000000</td>\n",
              "      <td>1.000000</td>\n",
              "      <td>1.000000</td>\n",
              "      <td>1.000000</td>\n",
              "      <td>...</td>\n",
              "      <td>17271.000000</td>\n",
              "      <td>28983.000000</td>\n",
              "      <td>16804.000000</td>\n",
              "      <td>10485.000000</td>\n",
              "      <td>3491.000000</td>\n",
              "      <td>9009.000000</td>\n",
              "      <td>8839.000000</td>\n",
              "      <td>15420.000000</td>\n",
              "      <td>6176.000000</td>\n",
              "      <td>2152.000000</td>\n",
              "    </tr>\n",
              "  </tbody>\n",
              "</table>\n",
              "<p>8 rows × 145 columns</p>\n",
              "</div>"
            ],
            "text/plain": [
              "        CensusTract         Urban       POP2010       OHU2010  \\\n",
              "count  7.286400e+04  72864.000000  72864.000000  72864.000000   \n",
              "mean   2.783045e+10      0.757191   4237.285052   1601.837560   \n",
              "std    1.581256e+10      0.428783   1972.520112    732.106217   \n",
              "min    1.001020e+09      0.000000      0.000000      0.000000   \n",
              "25%    1.212708e+10      1.000000   2883.750000   1102.000000   \n",
              "50%    2.712979e+10      1.000000   4002.000000   1521.000000   \n",
              "75%    4.103900e+10      1.000000   5323.000000   2018.000000   \n",
              "max    5.604595e+10      1.000000  37452.000000  16043.000000   \n",
              "\n",
              "       GroupQuartersFlag      NUMGQTRS      PCTGQTRS  LILATracts_1And10  \\\n",
              "count       72864.000000  72864.000000  72864.000000       72864.000000   \n",
              "mean            0.007082    109.619606      0.026961           0.126880   \n",
              "std             0.083855    442.922669      0.095494           0.332841   \n",
              "min             0.000000      0.000000      0.000000           0.000000   \n",
              "25%             0.000000      0.000000      0.000000           0.000000   \n",
              "50%             0.000000      7.000000      0.001779           0.000000   \n",
              "75%             0.000000     63.000000      0.015516           0.000000   \n",
              "max             1.000000  19496.000000      1.000000           1.000000   \n",
              "\n",
              "       LILATracts_halfAnd10  LILATracts_1And20  ...  TractSeniors  \\\n",
              "count          72864.000000       72864.000000  ...  72864.000000   \n",
              "mean               0.282115           0.111235  ...    552.645806   \n",
              "std                0.450032           0.314425  ...    352.988078   \n",
              "min                0.000000           0.000000  ...      0.000000   \n",
              "25%                0.000000           0.000000  ...    318.000000   \n",
              "50%                0.000000           0.000000  ...    495.000000   \n",
              "75%                1.000000           0.000000  ...    716.000000   \n",
              "max                1.000000           1.000000  ...  17271.000000   \n",
              "\n",
              "         TractWhite    TractBlack    TractAsian    TractNHOPI     TractAIAN  \\\n",
              "count  72864.000000  72864.000000  72864.000000  72864.000000  72864.000000   \n",
              "mean    3068.089386    534.273702    201.392347      7.411246     40.242754   \n",
              "std     1804.353298    887.806852    435.085612     45.084789    181.024758   \n",
              "min        0.000000      0.000000      0.000000      0.000000      0.000000   \n",
              "25%     1832.000000     42.000000     17.000000      0.000000      7.000000   \n",
              "50%     2903.000000    158.000000     57.000000      1.000000     15.000000   \n",
              "75%     4111.000000    606.000000    188.000000      5.000000     33.000000   \n",
              "max    28983.000000  16804.000000  10485.000000   3491.000000   9009.000000   \n",
              "\n",
              "       TractOMultir  TractHispanic     TractHUNV     TractSNAP  \n",
              "count  72864.000000   72864.000000  72864.000000  72864.000000  \n",
              "mean     385.875618     692.764520    145.356239    207.022206  \n",
              "std      528.776237    1117.876349    230.201932    187.188807  \n",
              "min        0.000000       0.000000      0.000000      0.000000  \n",
              "25%       83.000000      87.000000     37.000000     69.000000  \n",
              "50%      184.000000     240.000000     84.000000    158.000000  \n",
              "75%      446.000000     746.000000    172.000000    293.000000  \n",
              "max     8839.000000   15420.000000   6176.000000   2152.000000  \n",
              "\n",
              "[8 rows x 145 columns]"
            ]
          },
          "execution_count": 6,
          "metadata": {},
          "output_type": "execute_result"
        }
      ],
      "source": [
        "data.describe()"
      ]
    },
    {
      "cell_type": "markdown",
      "id": "63e7716b",
      "metadata": {
        "id": "63e7716b"
      },
      "source": [
        "# Question 1"
      ]
    },
    {
      "cell_type": "code",
      "execution_count": null,
      "id": "f33fafdb",
      "metadata": {
        "id": "f33fafdb"
      },
      "outputs": [],
      "source": [
        "county = pd.DataFrame(data[\"County\"].value_counts())"
      ]
    },
    {
      "cell_type": "code",
      "execution_count": null,
      "id": "f08b282f",
      "metadata": {
        "id": "f08b282f",
        "outputId": "6f62d94c-5ef2-446d-c0aa-04f61c81df02"
      },
      "outputs": [
        {
          "data": {
            "text/plain": [
              "County    1837\n",
              "dtype: int64"
            ]
          },
          "execution_count": 15,
          "metadata": {},
          "output_type": "execute_result"
        }
      ],
      "source": [
        "county.count()"
      ]
    },
    {
      "cell_type": "code",
      "execution_count": null,
      "id": "b16f379b",
      "metadata": {
        "id": "b16f379b",
        "outputId": "5f0e89ac-5ad3-4056-e4f8-0af20ce0e65d"
      },
      "outputs": [
        {
          "data": {
            "text/plain": [
              "County     Urban\n",
              "0          0        7\n",
              "Abbeville  0        5\n",
              "           1        1\n",
              "Acadia     0        6\n",
              "           1        6\n",
              "                   ..\n",
              "Zapata     1        2\n",
              "           0        1\n",
              "Zavala     0        3\n",
              "           1        1\n",
              "Ziebach    0        1\n",
              "Name: Urban, Length: 3187, dtype: int64"
            ]
          },
          "execution_count": 18,
          "metadata": {},
          "output_type": "execute_result"
        }
      ],
      "source": [
        "data.groupby(\"County\")[\"Urban\"].value_counts()"
      ]
    },
    {
      "cell_type": "code",
      "execution_count": null,
      "id": "44fd086c",
      "metadata": {
        "id": "44fd086c"
      },
      "outputs": [],
      "source": [
        "states = pd.DataFrame(data[\"State\"].value_counts())"
      ]
    },
    {
      "cell_type": "code",
      "execution_count": null,
      "id": "b53b5cb0",
      "metadata": {
        "id": "b53b5cb0",
        "outputId": "2096b230-8b42-4494-e959-5a5a747586af"
      },
      "outputs": [
        {
          "data": {
            "text/plain": [
              "State    51\n",
              "dtype: int64"
            ]
          },
          "execution_count": 232,
          "metadata": {},
          "output_type": "execute_result"
        }
      ],
      "source": [
        "states.count()"
      ]
    },
    {
      "cell_type": "code",
      "execution_count": null,
      "id": "96e09df8",
      "metadata": {
        "id": "96e09df8",
        "outputId": "82abe50c-5a95-4af0-c19f-5747f08c499e"
      },
      "outputs": [
        {
          "data": {
            "text/html": [
              "<div>\n",
              "<style scoped>\n",
              "    .dataframe tbody tr th:only-of-type {\n",
              "        vertical-align: middle;\n",
              "    }\n",
              "\n",
              "    .dataframe tbody tr th {\n",
              "        vertical-align: top;\n",
              "    }\n",
              "\n",
              "    .dataframe thead th {\n",
              "        text-align: right;\n",
              "    }\n",
              "</style>\n",
              "<table border=\"1\" class=\"dataframe\">\n",
              "  <thead>\n",
              "    <tr style=\"text-align: right;\">\n",
              "      <th></th>\n",
              "      <th>CensusTract</th>\n",
              "      <th>State</th>\n",
              "      <th>County</th>\n",
              "      <th>Urban</th>\n",
              "      <th>POP2010</th>\n",
              "      <th>OHU2010</th>\n",
              "      <th>GroupQuartersFlag</th>\n",
              "      <th>NUMGQTRS</th>\n",
              "      <th>PCTGQTRS</th>\n",
              "      <th>LILATracts_1And10</th>\n",
              "      <th>...</th>\n",
              "      <th>TractSeniors</th>\n",
              "      <th>TractWhite</th>\n",
              "      <th>TractBlack</th>\n",
              "      <th>TractAsian</th>\n",
              "      <th>TractNHOPI</th>\n",
              "      <th>TractAIAN</th>\n",
              "      <th>TractOMultir</th>\n",
              "      <th>TractHispanic</th>\n",
              "      <th>TractHUNV</th>\n",
              "      <th>TractSNAP</th>\n",
              "    </tr>\n",
              "  </thead>\n",
              "  <tbody>\n",
              "    <tr>\n",
              "      <th>1265</th>\n",
              "      <td>2105000300</td>\n",
              "      <td>Alaska</td>\n",
              "      <td>0</td>\n",
              "      <td>0</td>\n",
              "      <td>2055</td>\n",
              "      <td>872</td>\n",
              "      <td>0</td>\n",
              "      <td>0</td>\n",
              "      <td>0.000000</td>\n",
              "      <td>1</td>\n",
              "      <td>...</td>\n",
              "      <td>275</td>\n",
              "      <td>1006</td>\n",
              "      <td>8</td>\n",
              "      <td>11</td>\n",
              "      <td>1</td>\n",
              "      <td>814</td>\n",
              "      <td>215</td>\n",
              "      <td>75</td>\n",
              "      <td>239</td>\n",
              "      <td>168</td>\n",
              "    </tr>\n",
              "    <tr>\n",
              "      <th>1326</th>\n",
              "      <td>2195000200</td>\n",
              "      <td>Alaska</td>\n",
              "      <td>0</td>\n",
              "      <td>0</td>\n",
              "      <td>3815</td>\n",
              "      <td>1599</td>\n",
              "      <td>0</td>\n",
              "      <td>43</td>\n",
              "      <td>0.011271</td>\n",
              "      <td>0</td>\n",
              "      <td>...</td>\n",
              "      <td>438</td>\n",
              "      <td>2711</td>\n",
              "      <td>15</td>\n",
              "      <td>100</td>\n",
              "      <td>7</td>\n",
              "      <td>614</td>\n",
              "      <td>368</td>\n",
              "      <td>130</td>\n",
              "      <td>157</td>\n",
              "      <td>128</td>\n",
              "    </tr>\n",
              "    <tr>\n",
              "      <th>1327</th>\n",
              "      <td>2198000100</td>\n",
              "      <td>Alaska</td>\n",
              "      <td>0</td>\n",
              "      <td>0</td>\n",
              "      <td>1685</td>\n",
              "      <td>729</td>\n",
              "      <td>0</td>\n",
              "      <td>37</td>\n",
              "      <td>0.021958</td>\n",
              "      <td>1</td>\n",
              "      <td>...</td>\n",
              "      <td>181</td>\n",
              "      <td>1217</td>\n",
              "      <td>5</td>\n",
              "      <td>6</td>\n",
              "      <td>7</td>\n",
              "      <td>351</td>\n",
              "      <td>99</td>\n",
              "      <td>29</td>\n",
              "      <td>159</td>\n",
              "      <td>203</td>\n",
              "    </tr>\n",
              "    <tr>\n",
              "      <th>1328</th>\n",
              "      <td>2198000200</td>\n",
              "      <td>Alaska</td>\n",
              "      <td>0</td>\n",
              "      <td>0</td>\n",
              "      <td>2327</td>\n",
              "      <td>908</td>\n",
              "      <td>0</td>\n",
              "      <td>13</td>\n",
              "      <td>0.005587</td>\n",
              "      <td>0</td>\n",
              "      <td>...</td>\n",
              "      <td>227</td>\n",
              "      <td>1358</td>\n",
              "      <td>6</td>\n",
              "      <td>13</td>\n",
              "      <td>3</td>\n",
              "      <td>645</td>\n",
              "      <td>302</td>\n",
              "      <td>70</td>\n",
              "      <td>125</td>\n",
              "      <td>170</td>\n",
              "    </tr>\n",
              "    <tr>\n",
              "      <th>1329</th>\n",
              "      <td>2198000300</td>\n",
              "      <td>Alaska</td>\n",
              "      <td>0</td>\n",
              "      <td>0</td>\n",
              "      <td>87</td>\n",
              "      <td>48</td>\n",
              "      <td>0</td>\n",
              "      <td>0</td>\n",
              "      <td>0.000000</td>\n",
              "      <td>1</td>\n",
              "      <td>...</td>\n",
              "      <td>18</td>\n",
              "      <td>79</td>\n",
              "      <td>0</td>\n",
              "      <td>0</td>\n",
              "      <td>1</td>\n",
              "      <td>1</td>\n",
              "      <td>6</td>\n",
              "      <td>2</td>\n",
              "      <td>7</td>\n",
              "      <td>0</td>\n",
              "    </tr>\n",
              "    <tr>\n",
              "      <th>1330</th>\n",
              "      <td>2198940100</td>\n",
              "      <td>Alaska</td>\n",
              "      <td>0</td>\n",
              "      <td>0</td>\n",
              "      <td>1460</td>\n",
              "      <td>509</td>\n",
              "      <td>0</td>\n",
              "      <td>0</td>\n",
              "      <td>0.000000</td>\n",
              "      <td>0</td>\n",
              "      <td>...</td>\n",
              "      <td>133</td>\n",
              "      <td>145</td>\n",
              "      <td>6</td>\n",
              "      <td>2</td>\n",
              "      <td>10</td>\n",
              "      <td>1210</td>\n",
              "      <td>87</td>\n",
              "      <td>26</td>\n",
              "      <td>70</td>\n",
              "      <td>177</td>\n",
              "    </tr>\n",
              "    <tr>\n",
              "      <th>1340</th>\n",
              "      <td>2275000300</td>\n",
              "      <td>Alaska</td>\n",
              "      <td>0</td>\n",
              "      <td>0</td>\n",
              "      <td>2369</td>\n",
              "      <td>1053</td>\n",
              "      <td>0</td>\n",
              "      <td>19</td>\n",
              "      <td>0.008020</td>\n",
              "      <td>1</td>\n",
              "      <td>...</td>\n",
              "      <td>374</td>\n",
              "      <td>1719</td>\n",
              "      <td>4</td>\n",
              "      <td>33</td>\n",
              "      <td>1</td>\n",
              "      <td>384</td>\n",
              "      <td>228</td>\n",
              "      <td>37</td>\n",
              "      <td>136</td>\n",
              "      <td>171</td>\n",
              "    </tr>\n",
              "  </tbody>\n",
              "</table>\n",
              "<p>7 rows × 147 columns</p>\n",
              "</div>"
            ],
            "text/plain": [
              "      CensusTract   State County  Urban  POP2010  OHU2010  GroupQuartersFlag  \\\n",
              "1265   2105000300  Alaska      0      0     2055      872                  0   \n",
              "1326   2195000200  Alaska      0      0     3815     1599                  0   \n",
              "1327   2198000100  Alaska      0      0     1685      729                  0   \n",
              "1328   2198000200  Alaska      0      0     2327      908                  0   \n",
              "1329   2198000300  Alaska      0      0       87       48                  0   \n",
              "1330   2198940100  Alaska      0      0     1460      509                  0   \n",
              "1340   2275000300  Alaska      0      0     2369     1053                  0   \n",
              "\n",
              "      NUMGQTRS  PCTGQTRS  LILATracts_1And10  ...  TractSeniors  TractWhite  \\\n",
              "1265         0  0.000000                  1  ...           275        1006   \n",
              "1326        43  0.011271                  0  ...           438        2711   \n",
              "1327        37  0.021958                  1  ...           181        1217   \n",
              "1328        13  0.005587                  0  ...           227        1358   \n",
              "1329         0  0.000000                  1  ...            18          79   \n",
              "1330         0  0.000000                  0  ...           133         145   \n",
              "1340        19  0.008020                  1  ...           374        1719   \n",
              "\n",
              "      TractBlack  TractAsian  TractNHOPI  TractAIAN  TractOMultir  \\\n",
              "1265           8          11           1        814           215   \n",
              "1326          15         100           7        614           368   \n",
              "1327           5           6           7        351            99   \n",
              "1328           6          13           3        645           302   \n",
              "1329           0           0           1          1             6   \n",
              "1330           6           2          10       1210            87   \n",
              "1340           4          33           1        384           228   \n",
              "\n",
              "      TractHispanic  TractHUNV  TractSNAP  \n",
              "1265             75        239        168  \n",
              "1326            130        157        128  \n",
              "1327             29        159        203  \n",
              "1328             70        125        170  \n",
              "1329              2          7          0  \n",
              "1330             26         70        177  \n",
              "1340             37        136        171  \n",
              "\n",
              "[7 rows x 147 columns]"
            ]
          },
          "execution_count": 19,
          "metadata": {},
          "output_type": "execute_result"
        }
      ],
      "source": [
        "data[data[\"County\"] == \"0\"]"
      ]
    },
    {
      "cell_type": "code",
      "execution_count": null,
      "id": "307c2236",
      "metadata": {
        "id": "307c2236",
        "outputId": "96735e53-b5dc-4b9a-f635-5c8e060ce7da"
      },
      "outputs": [
        {
          "data": {
            "text/html": [
              "<div>\n",
              "<style scoped>\n",
              "    .dataframe tbody tr th:only-of-type {\n",
              "        vertical-align: middle;\n",
              "    }\n",
              "\n",
              "    .dataframe tbody tr th {\n",
              "        vertical-align: top;\n",
              "    }\n",
              "\n",
              "    .dataframe thead th {\n",
              "        text-align: right;\n",
              "    }\n",
              "</style>\n",
              "<table border=\"1\" class=\"dataframe\">\n",
              "  <thead>\n",
              "    <tr style=\"text-align: right;\">\n",
              "      <th></th>\n",
              "      <th>State</th>\n",
              "    </tr>\n",
              "  </thead>\n",
              "  <tbody>\n",
              "    <tr>\n",
              "      <th>California</th>\n",
              "      <td>8044</td>\n",
              "    </tr>\n",
              "    <tr>\n",
              "      <th>Texas</th>\n",
              "      <td>5258</td>\n",
              "    </tr>\n",
              "    <tr>\n",
              "      <th>New York</th>\n",
              "      <td>4907</td>\n",
              "    </tr>\n",
              "    <tr>\n",
              "      <th>Florida</th>\n",
              "      <td>4214</td>\n",
              "    </tr>\n",
              "    <tr>\n",
              "      <th>Pennsylvania</th>\n",
              "      <td>3218</td>\n",
              "    </tr>\n",
              "    <tr>\n",
              "      <th>Illinois</th>\n",
              "      <td>3121</td>\n",
              "    </tr>\n",
              "    <tr>\n",
              "      <th>Ohio</th>\n",
              "      <td>2949</td>\n",
              "    </tr>\n",
              "    <tr>\n",
              "      <th>Michigan</th>\n",
              "      <td>2774</td>\n",
              "    </tr>\n",
              "    <tr>\n",
              "      <th>North Carolina</th>\n",
              "      <td>2192</td>\n",
              "    </tr>\n",
              "    <tr>\n",
              "      <th>New Jersey</th>\n",
              "      <td>2007</td>\n",
              "    </tr>\n",
              "    <tr>\n",
              "      <th>Georgia</th>\n",
              "      <td>1965</td>\n",
              "    </tr>\n",
              "    <tr>\n",
              "      <th>Virginia</th>\n",
              "      <td>1900</td>\n",
              "    </tr>\n",
              "    <tr>\n",
              "      <th>Arizona</th>\n",
              "      <td>1526</td>\n",
              "    </tr>\n",
              "    <tr>\n",
              "      <th>Indiana</th>\n",
              "      <td>1508</td>\n",
              "    </tr>\n",
              "    <tr>\n",
              "      <th>Tennessee</th>\n",
              "      <td>1497</td>\n",
              "    </tr>\n",
              "    <tr>\n",
              "      <th>Massachusetts</th>\n",
              "      <td>1476</td>\n",
              "    </tr>\n",
              "    <tr>\n",
              "      <th>Washington</th>\n",
              "      <td>1455</td>\n",
              "    </tr>\n",
              "    <tr>\n",
              "      <th>Maryland</th>\n",
              "      <td>1399</td>\n",
              "    </tr>\n",
              "    <tr>\n",
              "      <th>Wisconsin</th>\n",
              "      <td>1395</td>\n",
              "    </tr>\n",
              "    <tr>\n",
              "      <th>Missouri</th>\n",
              "      <td>1393</td>\n",
              "    </tr>\n",
              "    <tr>\n",
              "      <th>Minnesota</th>\n",
              "      <td>1336</td>\n",
              "    </tr>\n",
              "    <tr>\n",
              "      <th>Colorado</th>\n",
              "      <td>1249</td>\n",
              "    </tr>\n",
              "    <tr>\n",
              "      <th>Alabama</th>\n",
              "      <td>1179</td>\n",
              "    </tr>\n",
              "    <tr>\n",
              "      <th>Louisiana</th>\n",
              "      <td>1143</td>\n",
              "    </tr>\n",
              "    <tr>\n",
              "      <th>Kentucky</th>\n",
              "      <td>1115</td>\n",
              "    </tr>\n",
              "    <tr>\n",
              "      <th>South Carolina</th>\n",
              "      <td>1103</td>\n",
              "    </tr>\n",
              "    <tr>\n",
              "      <th>Oklahoma</th>\n",
              "      <td>1046</td>\n",
              "    </tr>\n",
              "    <tr>\n",
              "      <th>Connecticut</th>\n",
              "      <td>832</td>\n",
              "    </tr>\n",
              "    <tr>\n",
              "      <th>Oregon</th>\n",
              "      <td>830</td>\n",
              "    </tr>\n",
              "    <tr>\n",
              "      <th>Iowa</th>\n",
              "      <td>825</td>\n",
              "    </tr>\n",
              "    <tr>\n",
              "      <th>Kansas</th>\n",
              "      <td>770</td>\n",
              "    </tr>\n",
              "    <tr>\n",
              "      <th>Nevada</th>\n",
              "      <td>687</td>\n",
              "    </tr>\n",
              "    <tr>\n",
              "      <th>Arkansas</th>\n",
              "      <td>686</td>\n",
              "    </tr>\n",
              "    <tr>\n",
              "      <th>Mississippi</th>\n",
              "      <td>662</td>\n",
              "    </tr>\n",
              "    <tr>\n",
              "      <th>Utah</th>\n",
              "      <td>588</td>\n",
              "    </tr>\n",
              "    <tr>\n",
              "      <th>Nebraska</th>\n",
              "      <td>532</td>\n",
              "    </tr>\n",
              "    <tr>\n",
              "      <th>New Mexico</th>\n",
              "      <td>499</td>\n",
              "    </tr>\n",
              "    <tr>\n",
              "      <th>West Virginia</th>\n",
              "      <td>484</td>\n",
              "    </tr>\n",
              "    <tr>\n",
              "      <th>Maine</th>\n",
              "      <td>355</td>\n",
              "    </tr>\n",
              "    <tr>\n",
              "      <th>Hawaii</th>\n",
              "      <td>332</td>\n",
              "    </tr>\n",
              "    <tr>\n",
              "      <th>Idaho</th>\n",
              "      <td>298</td>\n",
              "    </tr>\n",
              "    <tr>\n",
              "      <th>New Hampshire</th>\n",
              "      <td>295</td>\n",
              "    </tr>\n",
              "    <tr>\n",
              "      <th>Montana</th>\n",
              "      <td>271</td>\n",
              "    </tr>\n",
              "    <tr>\n",
              "      <th>Rhode Island</th>\n",
              "      <td>242</td>\n",
              "    </tr>\n",
              "    <tr>\n",
              "      <th>South Dakota</th>\n",
              "      <td>222</td>\n",
              "    </tr>\n",
              "    <tr>\n",
              "      <th>Delaware</th>\n",
              "      <td>218</td>\n",
              "    </tr>\n",
              "    <tr>\n",
              "      <th>North Dakota</th>\n",
              "      <td>205</td>\n",
              "    </tr>\n",
              "    <tr>\n",
              "      <th>Vermont</th>\n",
              "      <td>184</td>\n",
              "    </tr>\n",
              "    <tr>\n",
              "      <th>District of Columbia</th>\n",
              "      <td>179</td>\n",
              "    </tr>\n",
              "    <tr>\n",
              "      <th>Alaska</th>\n",
              "      <td>167</td>\n",
              "    </tr>\n",
              "    <tr>\n",
              "      <th>Wyoming</th>\n",
              "      <td>132</td>\n",
              "    </tr>\n",
              "  </tbody>\n",
              "</table>\n",
              "</div>"
            ],
            "text/plain": [
              "                      State\n",
              "California             8044\n",
              "Texas                  5258\n",
              "New York               4907\n",
              "Florida                4214\n",
              "Pennsylvania           3218\n",
              "Illinois               3121\n",
              "Ohio                   2949\n",
              "Michigan               2774\n",
              "North Carolina         2192\n",
              "New Jersey             2007\n",
              "Georgia                1965\n",
              "Virginia               1900\n",
              "Arizona                1526\n",
              "Indiana                1508\n",
              "Tennessee              1497\n",
              "Massachusetts          1476\n",
              "Washington             1455\n",
              "Maryland               1399\n",
              "Wisconsin              1395\n",
              "Missouri               1393\n",
              "Minnesota              1336\n",
              "Colorado               1249\n",
              "Alabama                1179\n",
              "Louisiana              1143\n",
              "Kentucky               1115\n",
              "South Carolina         1103\n",
              "Oklahoma               1046\n",
              "Connecticut             832\n",
              "Oregon                  830\n",
              "Iowa                    825\n",
              "Kansas                  770\n",
              "Nevada                  687\n",
              "Arkansas                686\n",
              "Mississippi             662\n",
              "Utah                    588\n",
              "Nebraska                532\n",
              "New Mexico              499\n",
              "West Virginia           484\n",
              "Maine                   355\n",
              "Hawaii                  332\n",
              "Idaho                   298\n",
              "New Hampshire           295\n",
              "Montana                 271\n",
              "Rhode Island            242\n",
              "South Dakota            222\n",
              "Delaware                218\n",
              "North Dakota            205\n",
              "Vermont                 184\n",
              "District of Columbia    179\n",
              "Alaska                  167\n",
              "Wyoming                 132"
            ]
          },
          "execution_count": 230,
          "metadata": {},
          "output_type": "execute_result"
        }
      ],
      "source": [
        "pd.DataFrame(data[\"State\"].value_counts())"
      ]
    },
    {
      "cell_type": "code",
      "execution_count": null,
      "id": "e5df3d10",
      "metadata": {
        "id": "e5df3d10",
        "outputId": "2e6347fc-aa00-4d19-f9e1-cb3ba9c8a353"
      },
      "outputs": [
        {
          "data": {
            "text/plain": [
              "13901    0\n",
              "13902    0\n",
              "13903    0\n",
              "13904    0\n",
              "13905    0\n",
              "        ..\n",
              "14075    0\n",
              "14076    0\n",
              "14077    0\n",
              "14078    0\n",
              "14079    0\n",
              "Name: LILATracts_1And10, Length: 179, dtype: int64"
            ]
          },
          "execution_count": 33,
          "metadata": {},
          "output_type": "execute_result"
        }
      ],
      "source": [
        "data[data[\"State\"] == \"District of Columbia\" ]"
      ]
    },
    {
      "cell_type": "markdown",
      "id": "5fd27a24",
      "metadata": {
        "id": "5fd27a24"
      },
      "source": [
        "## Question 1.2"
      ]
    },
    {
      "cell_type": "code",
      "execution_count": null,
      "id": "01e7d298",
      "metadata": {
        "id": "01e7d298",
        "outputId": "336a902b-1c53-449b-9802-d86edb34bf22"
      },
      "outputs": [
        {
          "data": {
            "text/plain": [
              "9245"
            ]
          },
          "execution_count": 36,
          "metadata": {},
          "output_type": "execute_result"
        }
      ],
      "source": [
        "data[\"LILATracts_1And10\"]"
      ]
    },
    {
      "cell_type": "markdown",
      "id": "b8033072",
      "metadata": {
        "id": "b8033072"
      },
      "source": [
        "# Question 2"
      ]
    },
    {
      "cell_type": "code",
      "execution_count": null,
      "id": "c3e45c6d",
      "metadata": {
        "id": "c3e45c6d",
        "outputId": "82624466-a75d-44bc-f52f-43390acdbf54"
      },
      "outputs": [
        {
          "data": {
            "text/plain": [
              "1    55172\n",
              "0    17692\n",
              "Name: Urban, dtype: int64"
            ]
          },
          "execution_count": 234,
          "metadata": {},
          "output_type": "execute_result"
        }
      ],
      "source": [
        "data[\"Urban\"].value_counts()"
      ]
    },
    {
      "cell_type": "markdown",
      "id": "91349f25",
      "metadata": {
        "id": "91349f25"
      },
      "source": [
        "75 % of the tracts are urban"
      ]
    },
    {
      "cell_type": "code",
      "execution_count": null,
      "id": "224deb59",
      "metadata": {
        "id": "224deb59",
        "outputId": "fdfcea83-7b71-4044-dfb4-d371ddda03cc"
      },
      "outputs": [
        {
          "data": {
            "text/plain": [
              "0.757191480017567"
            ]
          },
          "execution_count": 235,
          "metadata": {},
          "output_type": "execute_result"
        }
      ],
      "source": [
        "55172 / (55172 + 17692)"
      ]
    },
    {
      "cell_type": "code",
      "execution_count": null,
      "id": "7dca9fb0",
      "metadata": {
        "id": "7dca9fb0",
        "outputId": "cbd9f83d-b91a-441b-fe24-564d4e108a5f"
      },
      "outputs": [
        {
          "data": {
            "text/plain": [
              "Urban  LILATracts_1And10\n",
              "0      0                    16352\n",
              "       1                     1340\n",
              "1      0                    47267\n",
              "       1                     7905\n",
              "Name: LILATracts_1And10, dtype: int64"
            ]
          },
          "execution_count": 37,
          "metadata": {},
          "output_type": "execute_result"
        }
      ],
      "source": [
        "data.groupby(\"Urban\")[\"LILATracts_1And10\"].value_counts()"
      ]
    },
    {
      "cell_type": "markdown",
      "id": "f7bb178b",
      "metadata": {
        "id": "f7bb178b"
      },
      "source": [
        "### Urban\n",
        "Out of the 75% urban tracts, 14% are food deserts"
      ]
    },
    {
      "cell_type": "code",
      "execution_count": null,
      "id": "69ba1c33",
      "metadata": {
        "id": "69ba1c33",
        "outputId": "08cd20a0-b370-4ad7-a977-c242816d0e6a"
      },
      "outputs": [
        {
          "data": {
            "text/plain": [
              "14.327919959399695"
            ]
          },
          "execution_count": 77,
          "metadata": {},
          "output_type": "execute_result"
        }
      ],
      "source": [
        "(7905/(47267+7905))*100"
      ]
    },
    {
      "cell_type": "markdown",
      "id": "e56147b5",
      "metadata": {
        "id": "e56147b5"
      },
      "source": [
        "### Rural\n",
        "Out of the 25% Rural tracts, 7% are food deserts"
      ]
    },
    {
      "cell_type": "code",
      "execution_count": null,
      "id": "2620d617",
      "metadata": {
        "id": "2620d617",
        "outputId": "a04678bf-4c2a-47e2-f2e9-ff26012987f4"
      },
      "outputs": [
        {
          "data": {
            "text/plain": [
              "7.57404476599593"
            ]
          },
          "execution_count": 79,
          "metadata": {},
          "output_type": "execute_result"
        }
      ],
      "source": [
        "(1340/(1340+16352))*100"
      ]
    },
    {
      "cell_type": "code",
      "execution_count": null,
      "id": "ef7dc0f3",
      "metadata": {
        "id": "ef7dc0f3",
        "outputId": "762c2eba-b326-4701-be7c-e33135595bef"
      },
      "outputs": [
        {
          "data": {
            "text/plain": [
              "CensusTract      72864\n",
              "State               51\n",
              "County            1837\n",
              "Urban                2\n",
              "POP2010           9123\n",
              "                 ...  \n",
              "TractAIAN          972\n",
              "TractOMultir      2979\n",
              "TractHispanic     5256\n",
              "TractHUNV         1601\n",
              "TractSNAP         1200\n",
              "Length: 147, dtype: int64"
            ]
          },
          "execution_count": 27,
          "metadata": {},
          "output_type": "execute_result"
        }
      ],
      "source": [
        "data.nunique()"
      ]
    },
    {
      "cell_type": "markdown",
      "id": "7c274b90",
      "metadata": {
        "id": "7c274b90"
      },
      "source": [
        "CensusTract      72864\n",
        "State               51\n",
        "County            1837"
      ]
    },
    {
      "cell_type": "code",
      "execution_count": null,
      "id": "f33849e9",
      "metadata": {
        "id": "f33849e9",
        "outputId": "e74aba2b-65b0-4aa2-efdc-81954d2b3841"
      },
      "outputs": [
        {
          "data": {
            "text/html": [
              "<div>\n",
              "<style scoped>\n",
              "    .dataframe tbody tr th:only-of-type {\n",
              "        vertical-align: middle;\n",
              "    }\n",
              "\n",
              "    .dataframe tbody tr th {\n",
              "        vertical-align: top;\n",
              "    }\n",
              "\n",
              "    .dataframe thead th {\n",
              "        text-align: right;\n",
              "    }\n",
              "</style>\n",
              "<table border=\"1\" class=\"dataframe\">\n",
              "  <thead>\n",
              "    <tr style=\"text-align: right;\">\n",
              "      <th></th>\n",
              "      <th>CensusTract</th>\n",
              "      <th>State</th>\n",
              "      <th>County</th>\n",
              "      <th>Urban</th>\n",
              "      <th>POP2010</th>\n",
              "      <th>OHU2010</th>\n",
              "      <th>GroupQuartersFlag</th>\n",
              "      <th>NUMGQTRS</th>\n",
              "      <th>PCTGQTRS</th>\n",
              "      <th>LILATracts_1And10</th>\n",
              "      <th>...</th>\n",
              "      <th>TractSeniors</th>\n",
              "      <th>TractWhite</th>\n",
              "      <th>TractBlack</th>\n",
              "      <th>TractAsian</th>\n",
              "      <th>TractNHOPI</th>\n",
              "      <th>TractAIAN</th>\n",
              "      <th>TractOMultir</th>\n",
              "      <th>TractHispanic</th>\n",
              "      <th>TractHUNV</th>\n",
              "      <th>TractSNAP</th>\n",
              "    </tr>\n",
              "  </thead>\n",
              "  <tbody>\n",
              "    <tr>\n",
              "      <th>1179</th>\n",
              "      <td>2013000100</td>\n",
              "      <td>Alaska</td>\n",
              "      <td>Aleutians East</td>\n",
              "      <td>0</td>\n",
              "      <td>3141</td>\n",
              "      <td>553</td>\n",
              "      <td>0</td>\n",
              "      <td>1726</td>\n",
              "      <td>0.549507</td>\n",
              "      <td>1</td>\n",
              "      <td>...</td>\n",
              "      <td>155</td>\n",
              "      <td>660</td>\n",
              "      <td>219</td>\n",
              "      <td>1130</td>\n",
              "      <td>19</td>\n",
              "      <td>876</td>\n",
              "      <td>237</td>\n",
              "      <td>385</td>\n",
              "      <td>124</td>\n",
              "      <td>84</td>\n",
              "    </tr>\n",
              "    <tr>\n",
              "      <th>1180</th>\n",
              "      <td>2016000100</td>\n",
              "      <td>Alaska</td>\n",
              "      <td>Aleutians West</td>\n",
              "      <td>0</td>\n",
              "      <td>1185</td>\n",
              "      <td>285</td>\n",
              "      <td>0</td>\n",
              "      <td>444</td>\n",
              "      <td>0.374684</td>\n",
              "      <td>1</td>\n",
              "      <td>...</td>\n",
              "      <td>75</td>\n",
              "      <td>289</td>\n",
              "      <td>32</td>\n",
              "      <td>178</td>\n",
              "      <td>7</td>\n",
              "      <td>589</td>\n",
              "      <td>90</td>\n",
              "      <td>60</td>\n",
              "      <td>88</td>\n",
              "      <td>31</td>\n",
              "    </tr>\n",
              "    <tr>\n",
              "      <th>1181</th>\n",
              "      <td>2016000200</td>\n",
              "      <td>Alaska</td>\n",
              "      <td>Aleutians West</td>\n",
              "      <td>0</td>\n",
              "      <td>4376</td>\n",
              "      <td>927</td>\n",
              "      <td>0</td>\n",
              "      <td>2099</td>\n",
              "      <td>0.479662</td>\n",
              "      <td>0</td>\n",
              "      <td>...</td>\n",
              "      <td>118</td>\n",
              "      <td>1715</td>\n",
              "      <td>300</td>\n",
              "      <td>1428</td>\n",
              "      <td>96</td>\n",
              "      <td>268</td>\n",
              "      <td>569</td>\n",
              "      <td>666</td>\n",
              "      <td>88</td>\n",
              "      <td>47</td>\n",
              "    </tr>\n",
              "    <tr>\n",
              "      <th>1182</th>\n",
              "      <td>2020000101</td>\n",
              "      <td>Alaska</td>\n",
              "      <td>Anchorage</td>\n",
              "      <td>1</td>\n",
              "      <td>5736</td>\n",
              "      <td>1946</td>\n",
              "      <td>0</td>\n",
              "      <td>139</td>\n",
              "      <td>0.024233</td>\n",
              "      <td>0</td>\n",
              "      <td>...</td>\n",
              "      <td>300</td>\n",
              "      <td>4951</td>\n",
              "      <td>57</td>\n",
              "      <td>73</td>\n",
              "      <td>4</td>\n",
              "      <td>295</td>\n",
              "      <td>356</td>\n",
              "      <td>209</td>\n",
              "      <td>21</td>\n",
              "      <td>65</td>\n",
              "    </tr>\n",
              "    <tr>\n",
              "      <th>1183</th>\n",
              "      <td>2020000102</td>\n",
              "      <td>Alaska</td>\n",
              "      <td>Anchorage</td>\n",
              "      <td>0</td>\n",
              "      <td>5259</td>\n",
              "      <td>2010</td>\n",
              "      <td>0</td>\n",
              "      <td>16</td>\n",
              "      <td>0.003042</td>\n",
              "      <td>0</td>\n",
              "      <td>...</td>\n",
              "      <td>479</td>\n",
              "      <td>4391</td>\n",
              "      <td>48</td>\n",
              "      <td>121</td>\n",
              "      <td>12</td>\n",
              "      <td>286</td>\n",
              "      <td>401</td>\n",
              "      <td>201</td>\n",
              "      <td>73</td>\n",
              "      <td>106</td>\n",
              "    </tr>\n",
              "    <tr>\n",
              "      <th>...</th>\n",
              "      <td>...</td>\n",
              "      <td>...</td>\n",
              "      <td>...</td>\n",
              "      <td>...</td>\n",
              "      <td>...</td>\n",
              "      <td>...</td>\n",
              "      <td>...</td>\n",
              "      <td>...</td>\n",
              "      <td>...</td>\n",
              "      <td>...</td>\n",
              "      <td>...</td>\n",
              "      <td>...</td>\n",
              "      <td>...</td>\n",
              "      <td>...</td>\n",
              "      <td>...</td>\n",
              "      <td>...</td>\n",
              "      <td>...</td>\n",
              "      <td>...</td>\n",
              "      <td>...</td>\n",
              "      <td>...</td>\n",
              "      <td>...</td>\n",
              "    </tr>\n",
              "    <tr>\n",
              "      <th>1341</th>\n",
              "      <td>2282000100</td>\n",
              "      <td>Alaska</td>\n",
              "      <td>Yakutat</td>\n",
              "      <td>0</td>\n",
              "      <td>662</td>\n",
              "      <td>270</td>\n",
              "      <td>0</td>\n",
              "      <td>18</td>\n",
              "      <td>0.027190</td>\n",
              "      <td>0</td>\n",
              "      <td>...</td>\n",
              "      <td>64</td>\n",
              "      <td>281</td>\n",
              "      <td>2</td>\n",
              "      <td>27</td>\n",
              "      <td>12</td>\n",
              "      <td>237</td>\n",
              "      <td>103</td>\n",
              "      <td>17</td>\n",
              "      <td>26</td>\n",
              "      <td>26</td>\n",
              "    </tr>\n",
              "    <tr>\n",
              "      <th>1342</th>\n",
              "      <td>2290000100</td>\n",
              "      <td>Alaska</td>\n",
              "      <td>Yukon-Koyukuk</td>\n",
              "      <td>0</td>\n",
              "      <td>1311</td>\n",
              "      <td>558</td>\n",
              "      <td>0</td>\n",
              "      <td>2</td>\n",
              "      <td>0.001526</td>\n",
              "      <td>1</td>\n",
              "      <td>...</td>\n",
              "      <td>117</td>\n",
              "      <td>185</td>\n",
              "      <td>3</td>\n",
              "      <td>2</td>\n",
              "      <td>3</td>\n",
              "      <td>1076</td>\n",
              "      <td>42</td>\n",
              "      <td>13</td>\n",
              "      <td>340</td>\n",
              "      <td>222</td>\n",
              "    </tr>\n",
              "    <tr>\n",
              "      <th>1343</th>\n",
              "      <td>2290000200</td>\n",
              "      <td>Alaska</td>\n",
              "      <td>Yukon-Koyukuk</td>\n",
              "      <td>0</td>\n",
              "      <td>1461</td>\n",
              "      <td>595</td>\n",
              "      <td>0</td>\n",
              "      <td>28</td>\n",
              "      <td>0.019165</td>\n",
              "      <td>1</td>\n",
              "      <td>...</td>\n",
              "      <td>172</td>\n",
              "      <td>640</td>\n",
              "      <td>5</td>\n",
              "      <td>4</td>\n",
              "      <td>0</td>\n",
              "      <td>713</td>\n",
              "      <td>99</td>\n",
              "      <td>27</td>\n",
              "      <td>130</td>\n",
              "      <td>134</td>\n",
              "    </tr>\n",
              "    <tr>\n",
              "      <th>1344</th>\n",
              "      <td>2290000300</td>\n",
              "      <td>Alaska</td>\n",
              "      <td>Yukon-Koyukuk</td>\n",
              "      <td>0</td>\n",
              "      <td>1758</td>\n",
              "      <td>658</td>\n",
              "      <td>0</td>\n",
              "      <td>0</td>\n",
              "      <td>0.000000</td>\n",
              "      <td>1</td>\n",
              "      <td>...</td>\n",
              "      <td>183</td>\n",
              "      <td>198</td>\n",
              "      <td>2</td>\n",
              "      <td>6</td>\n",
              "      <td>0</td>\n",
              "      <td>1495</td>\n",
              "      <td>57</td>\n",
              "      <td>14</td>\n",
              "      <td>330</td>\n",
              "      <td>208</td>\n",
              "    </tr>\n",
              "    <tr>\n",
              "      <th>1345</th>\n",
              "      <td>2290000400</td>\n",
              "      <td>Alaska</td>\n",
              "      <td>Yukon-Koyukuk</td>\n",
              "      <td>0</td>\n",
              "      <td>1058</td>\n",
              "      <td>406</td>\n",
              "      <td>0</td>\n",
              "      <td>1</td>\n",
              "      <td>0.000945</td>\n",
              "      <td>1</td>\n",
              "      <td>...</td>\n",
              "      <td>97</td>\n",
              "      <td>220</td>\n",
              "      <td>0</td>\n",
              "      <td>2</td>\n",
              "      <td>3</td>\n",
              "      <td>708</td>\n",
              "      <td>125</td>\n",
              "      <td>12</td>\n",
              "      <td>216</td>\n",
              "      <td>101</td>\n",
              "    </tr>\n",
              "  </tbody>\n",
              "</table>\n",
              "<p>167 rows × 147 columns</p>\n",
              "</div>"
            ],
            "text/plain": [
              "      CensusTract   State          County  Urban  POP2010  OHU2010  \\\n",
              "1179   2013000100  Alaska  Aleutians East      0     3141      553   \n",
              "1180   2016000100  Alaska  Aleutians West      0     1185      285   \n",
              "1181   2016000200  Alaska  Aleutians West      0     4376      927   \n",
              "1182   2020000101  Alaska       Anchorage      1     5736     1946   \n",
              "1183   2020000102  Alaska       Anchorage      0     5259     2010   \n",
              "...           ...     ...             ...    ...      ...      ...   \n",
              "1341   2282000100  Alaska         Yakutat      0      662      270   \n",
              "1342   2290000100  Alaska   Yukon-Koyukuk      0     1311      558   \n",
              "1343   2290000200  Alaska   Yukon-Koyukuk      0     1461      595   \n",
              "1344   2290000300  Alaska   Yukon-Koyukuk      0     1758      658   \n",
              "1345   2290000400  Alaska   Yukon-Koyukuk      0     1058      406   \n",
              "\n",
              "      GroupQuartersFlag  NUMGQTRS  PCTGQTRS  LILATracts_1And10  ...  \\\n",
              "1179                  0      1726  0.549507                  1  ...   \n",
              "1180                  0       444  0.374684                  1  ...   \n",
              "1181                  0      2099  0.479662                  0  ...   \n",
              "1182                  0       139  0.024233                  0  ...   \n",
              "1183                  0        16  0.003042                  0  ...   \n",
              "...                 ...       ...       ...                ...  ...   \n",
              "1341                  0        18  0.027190                  0  ...   \n",
              "1342                  0         2  0.001526                  1  ...   \n",
              "1343                  0        28  0.019165                  1  ...   \n",
              "1344                  0         0  0.000000                  1  ...   \n",
              "1345                  0         1  0.000945                  1  ...   \n",
              "\n",
              "      TractSeniors  TractWhite  TractBlack  TractAsian  TractNHOPI  TractAIAN  \\\n",
              "1179           155         660         219        1130          19        876   \n",
              "1180            75         289          32         178           7        589   \n",
              "1181           118        1715         300        1428          96        268   \n",
              "1182           300        4951          57          73           4        295   \n",
              "1183           479        4391          48         121          12        286   \n",
              "...            ...         ...         ...         ...         ...        ...   \n",
              "1341            64         281           2          27          12        237   \n",
              "1342           117         185           3           2           3       1076   \n",
              "1343           172         640           5           4           0        713   \n",
              "1344           183         198           2           6           0       1495   \n",
              "1345            97         220           0           2           3        708   \n",
              "\n",
              "      TractOMultir  TractHispanic  TractHUNV  TractSNAP  \n",
              "1179           237            385        124         84  \n",
              "1180            90             60         88         31  \n",
              "1181           569            666         88         47  \n",
              "1182           356            209         21         65  \n",
              "1183           401            201         73        106  \n",
              "...            ...            ...        ...        ...  \n",
              "1341           103             17         26         26  \n",
              "1342            42             13        340        222  \n",
              "1343            99             27        130        134  \n",
              "1344            57             14        330        208  \n",
              "1345           125             12        216        101  \n",
              "\n",
              "[167 rows x 147 columns]"
            ]
          },
          "execution_count": 21,
          "metadata": {},
          "output_type": "execute_result"
        }
      ],
      "source": [
        "data[data[\"State\"] == \"Alaska\"]"
      ]
    },
    {
      "cell_type": "code",
      "execution_count": null,
      "id": "0f09b4be",
      "metadata": {
        "id": "0f09b4be",
        "outputId": "7695b75c-e7b1-4f6e-e62f-3fdb90112f54"
      },
      "outputs": [
        {
          "data": {
            "text/html": [
              "<div>\n",
              "<style scoped>\n",
              "    .dataframe tbody tr th:only-of-type {\n",
              "        vertical-align: middle;\n",
              "    }\n",
              "\n",
              "    .dataframe tbody tr th {\n",
              "        vertical-align: top;\n",
              "    }\n",
              "\n",
              "    .dataframe thead th {\n",
              "        text-align: right;\n",
              "    }\n",
              "</style>\n",
              "<table border=\"1\" class=\"dataframe\">\n",
              "  <thead>\n",
              "    <tr style=\"text-align: right;\">\n",
              "      <th></th>\n",
              "      <th>CensusTract</th>\n",
              "      <th>Urban</th>\n",
              "      <th>POP2010</th>\n",
              "      <th>OHU2010</th>\n",
              "      <th>GroupQuartersFlag</th>\n",
              "      <th>NUMGQTRS</th>\n",
              "      <th>PCTGQTRS</th>\n",
              "      <th>LILATracts_1And10</th>\n",
              "      <th>LILATracts_halfAnd10</th>\n",
              "      <th>LILATracts_1And20</th>\n",
              "      <th>...</th>\n",
              "      <th>TractSeniors</th>\n",
              "      <th>TractWhite</th>\n",
              "      <th>TractBlack</th>\n",
              "      <th>TractAsian</th>\n",
              "      <th>TractNHOPI</th>\n",
              "      <th>TractAIAN</th>\n",
              "      <th>TractOMultir</th>\n",
              "      <th>TractHispanic</th>\n",
              "      <th>TractHUNV</th>\n",
              "      <th>TractSNAP</th>\n",
              "    </tr>\n",
              "  </thead>\n",
              "  <tbody>\n",
              "    <tr>\n",
              "      <th>count</th>\n",
              "      <td>7.286400e+04</td>\n",
              "      <td>72864.000000</td>\n",
              "      <td>72864.000000</td>\n",
              "      <td>72864.000000</td>\n",
              "      <td>72864.000000</td>\n",
              "      <td>72864.000000</td>\n",
              "      <td>72864.000000</td>\n",
              "      <td>72864.000000</td>\n",
              "      <td>72864.000000</td>\n",
              "      <td>72864.000000</td>\n",
              "      <td>...</td>\n",
              "      <td>72864.000000</td>\n",
              "      <td>72864.000000</td>\n",
              "      <td>72864.000000</td>\n",
              "      <td>72864.000000</td>\n",
              "      <td>72864.000000</td>\n",
              "      <td>72864.000000</td>\n",
              "      <td>72864.000000</td>\n",
              "      <td>72864.000000</td>\n",
              "      <td>72864.000000</td>\n",
              "      <td>72864.000000</td>\n",
              "    </tr>\n",
              "    <tr>\n",
              "      <th>mean</th>\n",
              "      <td>2.783045e+10</td>\n",
              "      <td>0.757191</td>\n",
              "      <td>4237.285052</td>\n",
              "      <td>1601.837560</td>\n",
              "      <td>0.007082</td>\n",
              "      <td>109.619606</td>\n",
              "      <td>0.026961</td>\n",
              "      <td>0.126880</td>\n",
              "      <td>0.282115</td>\n",
              "      <td>0.111235</td>\n",
              "      <td>...</td>\n",
              "      <td>552.645806</td>\n",
              "      <td>3068.089386</td>\n",
              "      <td>534.273702</td>\n",
              "      <td>201.392347</td>\n",
              "      <td>7.411246</td>\n",
              "      <td>40.242754</td>\n",
              "      <td>385.875618</td>\n",
              "      <td>692.764520</td>\n",
              "      <td>145.356239</td>\n",
              "      <td>207.022206</td>\n",
              "    </tr>\n",
              "    <tr>\n",
              "      <th>std</th>\n",
              "      <td>1.581256e+10</td>\n",
              "      <td>0.428783</td>\n",
              "      <td>1972.520112</td>\n",
              "      <td>732.106217</td>\n",
              "      <td>0.083855</td>\n",
              "      <td>442.922669</td>\n",
              "      <td>0.095494</td>\n",
              "      <td>0.332841</td>\n",
              "      <td>0.450032</td>\n",
              "      <td>0.314425</td>\n",
              "      <td>...</td>\n",
              "      <td>352.988078</td>\n",
              "      <td>1804.353298</td>\n",
              "      <td>887.806852</td>\n",
              "      <td>435.085612</td>\n",
              "      <td>45.084789</td>\n",
              "      <td>181.024758</td>\n",
              "      <td>528.776237</td>\n",
              "      <td>1117.876349</td>\n",
              "      <td>230.201932</td>\n",
              "      <td>187.188807</td>\n",
              "    </tr>\n",
              "    <tr>\n",
              "      <th>min</th>\n",
              "      <td>1.001020e+09</td>\n",
              "      <td>0.000000</td>\n",
              "      <td>0.000000</td>\n",
              "      <td>0.000000</td>\n",
              "      <td>0.000000</td>\n",
              "      <td>0.000000</td>\n",
              "      <td>0.000000</td>\n",
              "      <td>0.000000</td>\n",
              "      <td>0.000000</td>\n",
              "      <td>0.000000</td>\n",
              "      <td>...</td>\n",
              "      <td>0.000000</td>\n",
              "      <td>0.000000</td>\n",
              "      <td>0.000000</td>\n",
              "      <td>0.000000</td>\n",
              "      <td>0.000000</td>\n",
              "      <td>0.000000</td>\n",
              "      <td>0.000000</td>\n",
              "      <td>0.000000</td>\n",
              "      <td>0.000000</td>\n",
              "      <td>0.000000</td>\n",
              "    </tr>\n",
              "    <tr>\n",
              "      <th>25%</th>\n",
              "      <td>1.212708e+10</td>\n",
              "      <td>1.000000</td>\n",
              "      <td>2883.750000</td>\n",
              "      <td>1102.000000</td>\n",
              "      <td>0.000000</td>\n",
              "      <td>0.000000</td>\n",
              "      <td>0.000000</td>\n",
              "      <td>0.000000</td>\n",
              "      <td>0.000000</td>\n",
              "      <td>0.000000</td>\n",
              "      <td>...</td>\n",
              "      <td>318.000000</td>\n",
              "      <td>1832.000000</td>\n",
              "      <td>42.000000</td>\n",
              "      <td>17.000000</td>\n",
              "      <td>0.000000</td>\n",
              "      <td>7.000000</td>\n",
              "      <td>83.000000</td>\n",
              "      <td>87.000000</td>\n",
              "      <td>37.000000</td>\n",
              "      <td>69.000000</td>\n",
              "    </tr>\n",
              "    <tr>\n",
              "      <th>50%</th>\n",
              "      <td>2.712979e+10</td>\n",
              "      <td>1.000000</td>\n",
              "      <td>4002.000000</td>\n",
              "      <td>1521.000000</td>\n",
              "      <td>0.000000</td>\n",
              "      <td>7.000000</td>\n",
              "      <td>0.001779</td>\n",
              "      <td>0.000000</td>\n",
              "      <td>0.000000</td>\n",
              "      <td>0.000000</td>\n",
              "      <td>...</td>\n",
              "      <td>495.000000</td>\n",
              "      <td>2903.000000</td>\n",
              "      <td>158.000000</td>\n",
              "      <td>57.000000</td>\n",
              "      <td>1.000000</td>\n",
              "      <td>15.000000</td>\n",
              "      <td>184.000000</td>\n",
              "      <td>240.000000</td>\n",
              "      <td>84.000000</td>\n",
              "      <td>158.000000</td>\n",
              "    </tr>\n",
              "    <tr>\n",
              "      <th>75%</th>\n",
              "      <td>4.103900e+10</td>\n",
              "      <td>1.000000</td>\n",
              "      <td>5323.000000</td>\n",
              "      <td>2018.000000</td>\n",
              "      <td>0.000000</td>\n",
              "      <td>63.000000</td>\n",
              "      <td>0.015516</td>\n",
              "      <td>0.000000</td>\n",
              "      <td>1.000000</td>\n",
              "      <td>0.000000</td>\n",
              "      <td>...</td>\n",
              "      <td>716.000000</td>\n",
              "      <td>4111.000000</td>\n",
              "      <td>606.000000</td>\n",
              "      <td>188.000000</td>\n",
              "      <td>5.000000</td>\n",
              "      <td>33.000000</td>\n",
              "      <td>446.000000</td>\n",
              "      <td>746.000000</td>\n",
              "      <td>172.000000</td>\n",
              "      <td>293.000000</td>\n",
              "    </tr>\n",
              "    <tr>\n",
              "      <th>max</th>\n",
              "      <td>5.604595e+10</td>\n",
              "      <td>1.000000</td>\n",
              "      <td>37452.000000</td>\n",
              "      <td>16043.000000</td>\n",
              "      <td>1.000000</td>\n",
              "      <td>19496.000000</td>\n",
              "      <td>1.000000</td>\n",
              "      <td>1.000000</td>\n",
              "      <td>1.000000</td>\n",
              "      <td>1.000000</td>\n",
              "      <td>...</td>\n",
              "      <td>17271.000000</td>\n",
              "      <td>28983.000000</td>\n",
              "      <td>16804.000000</td>\n",
              "      <td>10485.000000</td>\n",
              "      <td>3491.000000</td>\n",
              "      <td>9009.000000</td>\n",
              "      <td>8839.000000</td>\n",
              "      <td>15420.000000</td>\n",
              "      <td>6176.000000</td>\n",
              "      <td>2152.000000</td>\n",
              "    </tr>\n",
              "  </tbody>\n",
              "</table>\n",
              "<p>8 rows × 145 columns</p>\n",
              "</div>"
            ],
            "text/plain": [
              "        CensusTract         Urban       POP2010       OHU2010  \\\n",
              "count  7.286400e+04  72864.000000  72864.000000  72864.000000   \n",
              "mean   2.783045e+10      0.757191   4237.285052   1601.837560   \n",
              "std    1.581256e+10      0.428783   1972.520112    732.106217   \n",
              "min    1.001020e+09      0.000000      0.000000      0.000000   \n",
              "25%    1.212708e+10      1.000000   2883.750000   1102.000000   \n",
              "50%    2.712979e+10      1.000000   4002.000000   1521.000000   \n",
              "75%    4.103900e+10      1.000000   5323.000000   2018.000000   \n",
              "max    5.604595e+10      1.000000  37452.000000  16043.000000   \n",
              "\n",
              "       GroupQuartersFlag      NUMGQTRS      PCTGQTRS  LILATracts_1And10  \\\n",
              "count       72864.000000  72864.000000  72864.000000       72864.000000   \n",
              "mean            0.007082    109.619606      0.026961           0.126880   \n",
              "std             0.083855    442.922669      0.095494           0.332841   \n",
              "min             0.000000      0.000000      0.000000           0.000000   \n",
              "25%             0.000000      0.000000      0.000000           0.000000   \n",
              "50%             0.000000      7.000000      0.001779           0.000000   \n",
              "75%             0.000000     63.000000      0.015516           0.000000   \n",
              "max             1.000000  19496.000000      1.000000           1.000000   \n",
              "\n",
              "       LILATracts_halfAnd10  LILATracts_1And20  ...  TractSeniors  \\\n",
              "count          72864.000000       72864.000000  ...  72864.000000   \n",
              "mean               0.282115           0.111235  ...    552.645806   \n",
              "std                0.450032           0.314425  ...    352.988078   \n",
              "min                0.000000           0.000000  ...      0.000000   \n",
              "25%                0.000000           0.000000  ...    318.000000   \n",
              "50%                0.000000           0.000000  ...    495.000000   \n",
              "75%                1.000000           0.000000  ...    716.000000   \n",
              "max                1.000000           1.000000  ...  17271.000000   \n",
              "\n",
              "         TractWhite    TractBlack    TractAsian    TractNHOPI     TractAIAN  \\\n",
              "count  72864.000000  72864.000000  72864.000000  72864.000000  72864.000000   \n",
              "mean    3068.089386    534.273702    201.392347      7.411246     40.242754   \n",
              "std     1804.353298    887.806852    435.085612     45.084789    181.024758   \n",
              "min        0.000000      0.000000      0.000000      0.000000      0.000000   \n",
              "25%     1832.000000     42.000000     17.000000      0.000000      7.000000   \n",
              "50%     2903.000000    158.000000     57.000000      1.000000     15.000000   \n",
              "75%     4111.000000    606.000000    188.000000      5.000000     33.000000   \n",
              "max    28983.000000  16804.000000  10485.000000   3491.000000   9009.000000   \n",
              "\n",
              "       TractOMultir  TractHispanic     TractHUNV     TractSNAP  \n",
              "count  72864.000000   72864.000000  72864.000000  72864.000000  \n",
              "mean     385.875618     692.764520    145.356239    207.022206  \n",
              "std      528.776237    1117.876349    230.201932    187.188807  \n",
              "min        0.000000       0.000000      0.000000      0.000000  \n",
              "25%       83.000000      87.000000     37.000000     69.000000  \n",
              "50%      184.000000     240.000000     84.000000    158.000000  \n",
              "75%      446.000000     746.000000    172.000000    293.000000  \n",
              "max     8839.000000   15420.000000   6176.000000   2152.000000  \n",
              "\n",
              "[8 rows x 145 columns]"
            ]
          },
          "execution_count": 20,
          "metadata": {},
          "output_type": "execute_result"
        }
      ],
      "source": [
        "data.describe()"
      ]
    },
    {
      "cell_type": "markdown",
      "id": "fa37048a",
      "metadata": {
        "id": "fa37048a"
      },
      "source": [
        "# Question 3"
      ]
    },
    {
      "cell_type": "code",
      "execution_count": null,
      "id": "108c75b7",
      "metadata": {
        "id": "108c75b7",
        "outputId": "5dd7833d-ad76-4e42-e307-7c1f08770df5"
      },
      "outputs": [
        {
          "data": {
            "text/plain": [
              "GroupQuartersFlag  LILATracts_1And10\n",
              "0                  0                    63215\n",
              "                   1                     9133\n",
              "1                  0                      404\n",
              "                   1                      112\n",
              "Name: LILATracts_1And10, dtype: int64"
            ]
          },
          "execution_count": 44,
          "metadata": {},
          "output_type": "execute_result"
        }
      ],
      "source": [
        "data.groupby(\"GroupQuartersFlag\")[\"LILATracts_1And10\"].value_counts()"
      ]
    },
    {
      "cell_type": "code",
      "execution_count": null,
      "id": "d260e20b",
      "metadata": {
        "id": "d260e20b"
      },
      "outputs": [],
      "source": [
        "# group quarters with food deserts"
      ]
    },
    {
      "cell_type": "code",
      "execution_count": null,
      "id": "f9bd08f8",
      "metadata": {
        "id": "f9bd08f8",
        "outputId": "def18910-b976-45a1-95e0-4c4d8a9e61af"
      },
      "outputs": [
        {
          "data": {
            "text/plain": [
              "0.21705426356589147"
            ]
          },
          "execution_count": 75,
          "metadata": {},
          "output_type": "execute_result"
        }
      ],
      "source": [
        "112/(404 + 112)"
      ]
    },
    {
      "cell_type": "code",
      "execution_count": null,
      "id": "44335f11",
      "metadata": {
        "id": "44335f11"
      },
      "outputs": [],
      "source": [
        "# # group quarters without food deserts"
      ]
    },
    {
      "cell_type": "code",
      "execution_count": null,
      "id": "a880fddf",
      "metadata": {
        "id": "a880fddf",
        "outputId": "70dcaf48-7056-4f20-bb03-6c1fcbcff3a5"
      },
      "outputs": [
        {
          "data": {
            "text/plain": [
              "0.12623707635318185"
            ]
          },
          "execution_count": 76,
          "metadata": {},
          "output_type": "execute_result"
        }
      ],
      "source": [
        "9133/(63215 +9133)"
      ]
    },
    {
      "cell_type": "code",
      "execution_count": null,
      "id": "01d77a65",
      "metadata": {
        "id": "01d77a65"
      },
      "outputs": [],
      "source": [
        "# percentage of group quarters"
      ]
    },
    {
      "cell_type": "code",
      "execution_count": null,
      "id": "7740d78f",
      "metadata": {
        "id": "7740d78f",
        "outputId": "6c6de01d-9f3a-4a16-da17-8f13dfa10d2f"
      },
      "outputs": [
        {
          "data": {
            "text/plain": [
              "0    72348\n",
              "1      516\n",
              "Name: GroupQuartersFlag, dtype: int64"
            ]
          },
          "execution_count": 45,
          "metadata": {},
          "output_type": "execute_result"
        }
      ],
      "source": [
        "data[\"GroupQuartersFlag\"].value_counts()"
      ]
    },
    {
      "cell_type": "code",
      "execution_count": null,
      "id": "e971e2e2",
      "metadata": {
        "id": "e971e2e2",
        "outputId": "1e5f5a29-9454-413d-bd4c-1e49ac72642d"
      },
      "outputs": [
        {
          "data": {
            "text/plain": [
              "0.7081686429512516"
            ]
          },
          "execution_count": 85,
          "metadata": {},
          "output_type": "execute_result"
        }
      ],
      "source": [
        "(516/(516 + 72348) ) * 100"
      ]
    },
    {
      "cell_type": "markdown",
      "id": "c6072ece",
      "metadata": {
        "id": "c6072ece"
      },
      "source": [
        "The number of food deserts are high for urban group quarters tract"
      ]
    },
    {
      "cell_type": "code",
      "execution_count": null,
      "id": "17e97950",
      "metadata": {
        "id": "17e97950",
        "outputId": "db5b96f3-6077-44ad-b32f-8789854b4071"
      },
      "outputs": [
        {
          "data": {
            "text/plain": [
              "1    107\n",
              "0      5\n",
              "Name: Urban, dtype: int64"
            ]
          },
          "execution_count": 59,
          "metadata": {},
          "output_type": "execute_result"
        }
      ],
      "source": [
        "data[(data[\"GroupQuartersFlag\"] ==1) & (data[\"LILATracts_1And10\"]==1)][\"Urban\"].value_counts()"
      ]
    },
    {
      "cell_type": "code",
      "execution_count": null,
      "id": "8c6f996a",
      "metadata": {
        "id": "8c6f996a",
        "outputId": "bc787363-ba38-44e9-802a-1d5bca543aa8"
      },
      "outputs": [
        {
          "data": {
            "text/plain": [
              "63327"
            ]
          },
          "execution_count": 58,
          "metadata": {},
          "output_type": "execute_result"
        }
      ],
      "source": [
        "47038 + 16289"
      ]
    },
    {
      "cell_type": "code",
      "execution_count": null,
      "id": "34321e30",
      "metadata": {
        "id": "34321e30"
      },
      "outputs": [],
      "source": [
        "# Ratio of group quarters in urban and rurla areas"
      ]
    },
    {
      "cell_type": "code",
      "execution_count": null,
      "id": "3cc0e8bd",
      "metadata": {
        "id": "3cc0e8bd",
        "outputId": "cae21ac2-96b7-477d-815b-6b4bfa4be6ef"
      },
      "outputs": [
        {
          "data": {
            "text/plain": [
              "Urban  GroupQuartersFlag\n",
              "0      0                    17619\n",
              "       1                       73\n",
              "1      0                    54729\n",
              "       1                      443\n",
              "Name: GroupQuartersFlag, dtype: int64"
            ]
          },
          "execution_count": 61,
          "metadata": {},
          "output_type": "execute_result"
        }
      ],
      "source": [
        "data.groupby(\"Urban\")[\"GroupQuartersFlag\"].value_counts()"
      ]
    },
    {
      "cell_type": "markdown",
      "id": "d1551193",
      "metadata": {
        "id": "d1551193"
      },
      "source": [
        "#### Rural\n",
        "Percentage of rural people in group quarters"
      ]
    },
    {
      "cell_type": "code",
      "execution_count": null,
      "id": "c443a265",
      "metadata": {
        "id": "c443a265",
        "outputId": "36566bf8-6e63-44f2-8527-ce376fe7e16e"
      },
      "outputs": [
        {
          "data": {
            "text/plain": [
              "0.0041261587158037535"
            ]
          },
          "execution_count": 90,
          "metadata": {},
          "output_type": "execute_result"
        }
      ],
      "source": [
        "73/(17619 +73)"
      ]
    },
    {
      "cell_type": "markdown",
      "id": "a7577c9c",
      "metadata": {
        "id": "a7577c9c"
      },
      "source": [
        "#### Urban\n",
        "Percentage of urban people in group quarters"
      ]
    },
    {
      "cell_type": "code",
      "execution_count": null,
      "id": "f4b99b42",
      "metadata": {
        "id": "f4b99b42",
        "outputId": "e0e92400-7a30-4e07-d1d6-b1ca85e68cab"
      },
      "outputs": [
        {
          "data": {
            "text/plain": [
              "0.008029435220764155"
            ]
          },
          "execution_count": 91,
          "metadata": {},
          "output_type": "execute_result"
        }
      ],
      "source": [
        "443/(443 + 54729)"
      ]
    },
    {
      "cell_type": "markdown",
      "id": "59c1a930",
      "metadata": {
        "id": "59c1a930"
      },
      "source": [
        "### Poverty rate in group quarters"
      ]
    },
    {
      "cell_type": "code",
      "execution_count": null,
      "id": "9cf79576",
      "metadata": {
        "id": "9cf79576"
      },
      "outputs": [],
      "source": [
        "# Poverty rate in group quarters\n",
        "# poverty rate is high in gq"
      ]
    },
    {
      "cell_type": "code",
      "execution_count": null,
      "id": "2f4b31f3",
      "metadata": {
        "id": "2f4b31f3",
        "outputId": "404807b8-9875-4baf-ff21-05e8adab4293"
      },
      "outputs": [
        {
          "data": {
            "text/plain": [
              "GroupQuartersFlag\n",
              "0    16.473564\n",
              "1    29.659302\n",
              "Name: PovertyRate, dtype: float64"
            ]
          },
          "execution_count": 70,
          "metadata": {},
          "output_type": "execute_result"
        }
      ],
      "source": [
        "data.groupby(\"GroupQuartersFlag\")[\"PovertyRate\"].mean()"
      ]
    },
    {
      "cell_type": "code",
      "execution_count": null,
      "id": "e4d3c563",
      "metadata": {
        "id": "e4d3c563",
        "outputId": "5c10dfd5-e21e-4b46-f7fe-0a39d8b6c864",
        "scrolled": true
      },
      "outputs": [
        {
          "data": {
            "text/plain": [
              "GroupQuartersFlag  LowIncomeTracts\n",
              "0                  0                  41750\n",
              "                   1                  30598\n",
              "1                  1                    272\n",
              "                   0                    244\n",
              "Name: LowIncomeTracts, dtype: int64"
            ]
          },
          "execution_count": 73,
          "metadata": {},
          "output_type": "execute_result"
        }
      ],
      "source": [
        "data.groupby(\"GroupQuartersFlag\")[\"LowIncomeTracts\"].value_counts()"
      ]
    },
    {
      "cell_type": "code",
      "execution_count": null,
      "id": "259f383b",
      "metadata": {
        "id": "259f383b"
      },
      "outputs": [],
      "source": [
        "# Ratio of low income in group quarters"
      ]
    },
    {
      "cell_type": "code",
      "execution_count": null,
      "id": "5e243276",
      "metadata": {
        "id": "5e243276",
        "outputId": "744bcf5c-7064-44a3-f4a0-6cb1eb1ca422"
      },
      "outputs": [
        {
          "data": {
            "text/plain": [
              "0.5271317829457365"
            ]
          },
          "execution_count": 98,
          "metadata": {},
          "output_type": "execute_result"
        }
      ],
      "source": [
        "272/(272 + 244)"
      ]
    },
    {
      "cell_type": "code",
      "execution_count": null,
      "id": "93b127d6",
      "metadata": {
        "id": "93b127d6"
      },
      "outputs": [],
      "source": [
        "# Ratio of low income in non- group quarters"
      ]
    },
    {
      "cell_type": "code",
      "execution_count": null,
      "id": "21ab0f30",
      "metadata": {
        "id": "21ab0f30",
        "outputId": "c0dd3942-93ce-457e-809d-16a6bfcf3950"
      },
      "outputs": [
        {
          "data": {
            "text/plain": [
              "0.42292806988444737"
            ]
          },
          "execution_count": 100,
          "metadata": {},
          "output_type": "execute_result"
        }
      ],
      "source": [
        "30598/ (30598 + 41750)"
      ]
    },
    {
      "cell_type": "markdown",
      "id": "5732aa2d",
      "metadata": {
        "id": "5732aa2d"
      },
      "source": [
        "# Question 4"
      ]
    },
    {
      "cell_type": "code",
      "execution_count": null,
      "id": "2f51351b",
      "metadata": {
        "id": "2f51351b"
      },
      "outputs": [],
      "source": [
        "# Low access is not correlated with low income"
      ]
    },
    {
      "cell_type": "code",
      "execution_count": null,
      "id": "a201e749",
      "metadata": {
        "id": "a201e749",
        "outputId": "ba11a49c-e2cf-4d1d-ca43-31b60f4f1c60"
      },
      "outputs": [
        {
          "data": {
            "text/plain": [
              "0    23712\n",
              "1    21625\n",
              "Name: LowIncomeTracts, dtype: int64"
            ]
          },
          "execution_count": 93,
          "metadata": {},
          "output_type": "execute_result"
        }
      ],
      "source": [
        "data[data[\"LA1and10\"] == 0][\"LowIncomeTracts\"].value_counts()"
      ]
    },
    {
      "cell_type": "code",
      "execution_count": null,
      "id": "88954d7c",
      "metadata": {
        "id": "88954d7c"
      },
      "outputs": [],
      "source": [
        "# Low access people are rich, rich people wants to stay outside. we need to multivariate with urban, ethnicity."
      ]
    },
    {
      "cell_type": "code",
      "execution_count": null,
      "id": "f41b1069",
      "metadata": {
        "id": "f41b1069",
        "outputId": "71d6be2f-ed7c-487b-b73b-1ac125fb60d4"
      },
      "outputs": [
        {
          "data": {
            "text/plain": [
              "0    18282\n",
              "1     9245\n",
              "Name: LowIncomeTracts, dtype: int64"
            ]
          },
          "execution_count": 95,
          "metadata": {},
          "output_type": "execute_result"
        }
      ],
      "source": [
        "data[data[\"LA1and10\"] == 1][\"LowIncomeTracts\"].value_counts()"
      ]
    },
    {
      "cell_type": "code",
      "execution_count": null,
      "id": "13acf75c",
      "metadata": {
        "id": "13acf75c",
        "outputId": "cf695b8f-ba35-4897-8f67-afa1c2b3c877"
      },
      "outputs": [
        {
          "data": {
            "text/plain": [
              "LA1and10\n",
              "0    17.976803\n",
              "1    14.244898\n",
              "Name: PovertyRate, dtype: float64"
            ]
          },
          "execution_count": 105,
          "metadata": {},
          "output_type": "execute_result"
        }
      ],
      "source": [
        "data.groupby(\"LA1and10\")[\"PovertyRate\"].mean()"
      ]
    },
    {
      "cell_type": "code",
      "execution_count": null,
      "id": "71de64fb",
      "metadata": {
        "id": "71de64fb",
        "outputId": "4404fb3a-5f8c-449c-f867-5a831d0928fd"
      },
      "outputs": [
        {
          "data": {
            "text/plain": [
              "LA1and20\n",
              "0    17.849840\n",
              "1    14.066872\n",
              "Name: PovertyRate, dtype: float64"
            ]
          },
          "execution_count": 108,
          "metadata": {},
          "output_type": "execute_result"
        }
      ],
      "source": [
        "data.groupby(\"LA1and20\")[\"PovertyRate\"].mean()"
      ]
    },
    {
      "cell_type": "code",
      "execution_count": null,
      "id": "6af00273",
      "metadata": {
        "id": "6af00273",
        "outputId": "a3fd4213-a8ad-46ae-e2fb-a22931c83427"
      },
      "outputs": [
        {
          "data": {
            "text/plain": [
              "1    24322\n",
              "0     3205\n",
              "Name: Urban, dtype: int64"
            ]
          },
          "execution_count": 111,
          "metadata": {},
          "output_type": "execute_result"
        }
      ],
      "source": [
        "data[data[\"LA1and10\"] == 1][\"Urban\"].value_counts()"
      ]
    },
    {
      "cell_type": "code",
      "execution_count": null,
      "id": "dd98cd94",
      "metadata": {
        "id": "dd98cd94",
        "outputId": "0932400c-76a3-4cce-d512-fd5618b5bed2"
      },
      "outputs": [
        {
          "data": {
            "text/plain": [
              "1    30228\n",
              "0    11766\n",
              "Name: Urban, dtype: int64"
            ]
          },
          "execution_count": 122,
          "metadata": {},
          "output_type": "execute_result"
        }
      ],
      "source": [
        "data[data[\"LowIncomeTracts\"] == 0][\"Urban\"].value_counts()"
      ]
    },
    {
      "cell_type": "code",
      "execution_count": null,
      "id": "ba768b3d",
      "metadata": {
        "id": "ba768b3d"
      },
      "outputs": [],
      "source": [
        "# rich and urban"
      ]
    },
    {
      "cell_type": "code",
      "execution_count": null,
      "id": "0df0f181",
      "metadata": {
        "id": "0df0f181",
        "outputId": "9fcb3a8c-1fdf-424c-aa1e-b2fd9aaf35e8"
      },
      "outputs": [
        {
          "data": {
            "text/plain": [
              "0.7198171167309616"
            ]
          },
          "execution_count": 120,
          "metadata": {},
          "output_type": "execute_result"
        }
      ],
      "source": [
        "30228/ (11766 + 30228)"
      ]
    },
    {
      "cell_type": "code",
      "execution_count": null,
      "id": "e346993e",
      "metadata": {
        "id": "e346993e"
      },
      "outputs": [],
      "source": [
        "# rich and rural"
      ]
    },
    {
      "cell_type": "code",
      "execution_count": null,
      "id": "09feb9b0",
      "metadata": {
        "id": "09feb9b0",
        "outputId": "088c41d9-0f5e-472d-930b-52b82bb07748"
      },
      "outputs": [
        {
          "data": {
            "text/plain": [
              "0.2801828832690384"
            ]
          },
          "execution_count": 127,
          "metadata": {},
          "output_type": "execute_result"
        }
      ],
      "source": [
        "1 - 0.7198171167309616\n"
      ]
    },
    {
      "cell_type": "code",
      "execution_count": null,
      "id": "4cb75bea",
      "metadata": {
        "id": "4cb75bea"
      },
      "outputs": [],
      "source": [
        "# poor and urban"
      ]
    },
    {
      "cell_type": "code",
      "execution_count": null,
      "id": "57c89dff",
      "metadata": {
        "id": "57c89dff",
        "outputId": "74976039-7c13-47a2-ede4-f89caedd3bd0"
      },
      "outputs": [
        {
          "data": {
            "text/plain": [
              "0.8080336896663427"
            ]
          },
          "execution_count": 125,
          "metadata": {},
          "output_type": "execute_result"
        }
      ],
      "source": [
        "24944/(5926 + 24944)"
      ]
    },
    {
      "cell_type": "markdown",
      "id": "bcde7b3b",
      "metadata": {
        "id": "bcde7b3b"
      },
      "source": [
        "## Question 4.1"
      ]
    },
    {
      "cell_type": "code",
      "execution_count": null,
      "id": "a25557f9",
      "metadata": {
        "id": "a25557f9"
      },
      "outputs": [],
      "source": [
        "## Poverty rate is high in food deserted areas"
      ]
    },
    {
      "cell_type": "code",
      "execution_count": null,
      "id": "a1c682b0",
      "metadata": {
        "id": "a1c682b0",
        "outputId": "7bc5eac3-b639-435d-e340-1943e21f356f"
      },
      "outputs": [
        {
          "data": {
            "text/plain": [
              "LILATracts_1And10\n",
              "0    15.125722\n",
              "1    26.484619\n",
              "Name: PovertyRate, dtype: float64"
            ]
          },
          "execution_count": 102,
          "metadata": {},
          "output_type": "execute_result"
        }
      ],
      "source": [
        "data.groupby(\"LILATracts_1And10\")[\"PovertyRate\"].mean()"
      ]
    },
    {
      "cell_type": "code",
      "execution_count": null,
      "id": "ab41c4c9",
      "metadata": {
        "id": "ab41c4c9",
        "outputId": "1895ffc4-bd7b-48f0-c3ff-44be842ef701"
      },
      "outputs": [
        {
          "data": {
            "text/plain": [
              "LILATracts_1And20\n",
              "0    15.248630\n",
              "1    27.100259\n",
              "Name: PovertyRate, dtype: float64"
            ]
          },
          "execution_count": 109,
          "metadata": {},
          "output_type": "execute_result"
        }
      ],
      "source": [
        "data.groupby(\"LILATracts_1And20\")[\"PovertyRate\"].mean()"
      ]
    },
    {
      "cell_type": "code",
      "execution_count": null,
      "id": "6fd0e66b",
      "metadata": {
        "id": "6fd0e66b",
        "outputId": "d18ffa4a-c292-4499-864a-4ac138d0abd3"
      },
      "outputs": [
        {
          "data": {
            "text/plain": [
              "LowIncomeTracts\n",
              "0     8.634436\n",
              "1    27.357924\n",
              "Name: PovertyRate, dtype: float64"
            ]
          },
          "execution_count": 103,
          "metadata": {},
          "output_type": "execute_result"
        }
      ],
      "source": [
        "data.groupby(\"LowIncomeTracts\")[\"PovertyRate\"].mean()"
      ]
    },
    {
      "cell_type": "code",
      "execution_count": null,
      "id": "79fa9d62",
      "metadata": {
        "id": "79fa9d62"
      },
      "outputs": [],
      "source": [
        "## Poverty rate is high in non low access areas"
      ]
    },
    {
      "cell_type": "code",
      "execution_count": null,
      "id": "2dbe3538",
      "metadata": {
        "id": "2dbe3538",
        "outputId": "ae20c1da-c592-4fa5-a7b4-650f658f8a6f"
      },
      "outputs": [
        {
          "data": {
            "text/plain": [
              "LA1and10\n",
              "0    17.976803\n",
              "1    14.244898\n",
              "Name: PovertyRate, dtype: float64"
            ]
          },
          "execution_count": 104,
          "metadata": {},
          "output_type": "execute_result"
        }
      ],
      "source": [
        "data.groupby(\"LA1and10\")[\"PovertyRate\"].mean()"
      ]
    },
    {
      "cell_type": "code",
      "execution_count": null,
      "id": "a2be79be",
      "metadata": {
        "id": "a2be79be",
        "outputId": "05a13376-ade6-48dc-8210-d5e5f695268b"
      },
      "outputs": [
        {
          "data": {
            "text/plain": [
              "LA1and20\n",
              "0    17.849840\n",
              "1    14.066872\n",
              "Name: PovertyRate, dtype: float64"
            ]
          },
          "execution_count": 113,
          "metadata": {},
          "output_type": "execute_result"
        }
      ],
      "source": [
        "data.groupby(\"LA1and20\")[\"PovertyRate\"].mean()"
      ]
    },
    {
      "cell_type": "code",
      "execution_count": null,
      "id": "8e41731d",
      "metadata": {
        "id": "8e41731d"
      },
      "outputs": [],
      "source": [
        "#data.groupby(\"State\").sort_values(by=\"PovertyRate\",ascending=False)"
      ]
    },
    {
      "cell_type": "code",
      "execution_count": null,
      "id": "2c25c09d",
      "metadata": {
        "id": "2c25c09d",
        "outputId": "4cf555d6-ed3a-4522-f095-c250d9b9af1c"
      },
      "outputs": [
        {
          "data": {
            "text/plain": [
              "22.7"
            ]
          },
          "execution_count": 129,
          "metadata": {},
          "output_type": "execute_result"
        }
      ],
      "source": [
        "data['PovertyRate'].quantile(0.75)"
      ]
    },
    {
      "cell_type": "code",
      "execution_count": null,
      "id": "3070e775",
      "metadata": {
        "id": "3070e775"
      },
      "outputs": [],
      "source": [
        "states_pov = pd.DataFrame(data.groupby(\"State\").mean(\"PovertyRate\")[\"PovertyRate\"])"
      ]
    },
    {
      "cell_type": "code",
      "execution_count": null,
      "id": "e363d20e",
      "metadata": {
        "id": "e363d20e",
        "outputId": "218e2fda-0071-43b3-f67b-739f93a4ff55"
      },
      "outputs": [
        {
          "data": {
            "text/html": [
              "<div>\n",
              "<style scoped>\n",
              "    .dataframe tbody tr th:only-of-type {\n",
              "        vertical-align: middle;\n",
              "    }\n",
              "\n",
              "    .dataframe tbody tr th {\n",
              "        vertical-align: top;\n",
              "    }\n",
              "\n",
              "    .dataframe thead th {\n",
              "        text-align: right;\n",
              "    }\n",
              "</style>\n",
              "<table border=\"1\" class=\"dataframe\">\n",
              "  <thead>\n",
              "    <tr style=\"text-align: right;\">\n",
              "      <th></th>\n",
              "      <th>PovertyRate</th>\n",
              "    </tr>\n",
              "    <tr>\n",
              "      <th>State</th>\n",
              "      <th></th>\n",
              "    </tr>\n",
              "  </thead>\n",
              "  <tbody>\n",
              "    <tr>\n",
              "      <th>Alabama</th>\n",
              "      <td>21.222053</td>\n",
              "    </tr>\n",
              "    <tr>\n",
              "      <th>Alaska</th>\n",
              "      <td>11.231737</td>\n",
              "    </tr>\n",
              "    <tr>\n",
              "      <th>Arizona</th>\n",
              "      <td>18.488663</td>\n",
              "    </tr>\n",
              "    <tr>\n",
              "      <th>Arkansas</th>\n",
              "      <td>20.350146</td>\n",
              "    </tr>\n",
              "    <tr>\n",
              "      <th>California</th>\n",
              "      <td>16.523695</td>\n",
              "    </tr>\n",
              "  </tbody>\n",
              "</table>\n",
              "</div>"
            ],
            "text/plain": [
              "            PovertyRate\n",
              "State                  \n",
              "Alabama       21.222053\n",
              "Alaska        11.231737\n",
              "Arizona       18.488663\n",
              "Arkansas      20.350146\n",
              "California    16.523695"
            ]
          },
          "execution_count": 298,
          "metadata": {},
          "output_type": "execute_result"
        }
      ],
      "source": [
        "states_pov.head()"
      ]
    },
    {
      "cell_type": "markdown",
      "id": "3e105753",
      "metadata": {
        "id": "3e105753"
      },
      "source": [
        "### Normalising the povertyrate count\n",
        "This is done before picking the high poverty states to have it normalised based on the overall data"
      ]
    },
    {
      "cell_type": "code",
      "execution_count": null,
      "id": "f43ab067",
      "metadata": {
        "id": "f43ab067"
      },
      "outputs": [],
      "source": [
        "scaler = MinMaxScaler()\n",
        "\n",
        "states_pov_nm = pd.DataFrame(scaler.fit_transform(states_pov), columns=[\"PovertyRate\"], index=states_pov.index)"
      ]
    },
    {
      "cell_type": "code",
      "execution_count": null,
      "id": "03777697",
      "metadata": {
        "id": "03777697",
        "outputId": "ca14d573-70de-47ca-dd27-19e5aa08be94"
      },
      "outputs": [
        {
          "data": {
            "text/html": [
              "<div>\n",
              "<style scoped>\n",
              "    .dataframe tbody tr th:only-of-type {\n",
              "        vertical-align: middle;\n",
              "    }\n",
              "\n",
              "    .dataframe tbody tr th {\n",
              "        vertical-align: top;\n",
              "    }\n",
              "\n",
              "    .dataframe thead th {\n",
              "        text-align: right;\n",
              "    }\n",
              "</style>\n",
              "<table border=\"1\" class=\"dataframe\">\n",
              "  <thead>\n",
              "    <tr style=\"text-align: right;\">\n",
              "      <th></th>\n",
              "      <th>PovertyRate</th>\n",
              "    </tr>\n",
              "    <tr>\n",
              "      <th>State</th>\n",
              "      <th></th>\n",
              "    </tr>\n",
              "  </thead>\n",
              "  <tbody>\n",
              "    <tr>\n",
              "      <th>Alabama</th>\n",
              "      <td>0.773809</td>\n",
              "    </tr>\n",
              "    <tr>\n",
              "      <th>Alaska</th>\n",
              "      <td>0.112711</td>\n",
              "    </tr>\n",
              "    <tr>\n",
              "      <th>Arizona</th>\n",
              "      <td>0.592930</td>\n",
              "    </tr>\n",
              "    <tr>\n",
              "      <th>Arkansas</th>\n",
              "      <td>0.716112</td>\n",
              "    </tr>\n",
              "    <tr>\n",
              "      <th>California</th>\n",
              "      <td>0.462901</td>\n",
              "    </tr>\n",
              "    <tr>\n",
              "      <th>Colorado</th>\n",
              "      <td>0.263934</td>\n",
              "    </tr>\n",
              "    <tr>\n",
              "      <th>Connecticut</th>\n",
              "      <td>0.145297</td>\n",
              "    </tr>\n",
              "    <tr>\n",
              "      <th>Delaware</th>\n",
              "      <td>0.207535</td>\n",
              "    </tr>\n",
              "    <tr>\n",
              "      <th>District of Columbia</th>\n",
              "      <td>0.674124</td>\n",
              "    </tr>\n",
              "    <tr>\n",
              "      <th>Florida</th>\n",
              "      <td>0.503553</td>\n",
              "    </tr>\n",
              "    <tr>\n",
              "      <th>Georgia</th>\n",
              "      <td>0.726746</td>\n",
              "    </tr>\n",
              "    <tr>\n",
              "      <th>Hawaii</th>\n",
              "      <td>0.080953</td>\n",
              "    </tr>\n",
              "    <tr>\n",
              "      <th>Idaho</th>\n",
              "      <td>0.458046</td>\n",
              "    </tr>\n",
              "    <tr>\n",
              "      <th>Illinois</th>\n",
              "      <td>0.447909</td>\n",
              "    </tr>\n",
              "    <tr>\n",
              "      <th>Indiana</th>\n",
              "      <td>0.554305</td>\n",
              "    </tr>\n",
              "    <tr>\n",
              "      <th>Iowa</th>\n",
              "      <td>0.249215</td>\n",
              "    </tr>\n",
              "    <tr>\n",
              "      <th>Kansas</th>\n",
              "      <td>0.353504</td>\n",
              "    </tr>\n",
              "    <tr>\n",
              "      <th>Kentucky</th>\n",
              "      <td>0.700390</td>\n",
              "    </tr>\n",
              "    <tr>\n",
              "      <th>Louisiana</th>\n",
              "      <td>0.801888</td>\n",
              "    </tr>\n",
              "    <tr>\n",
              "      <th>Maine</th>\n",
              "      <td>0.340430</td>\n",
              "    </tr>\n",
              "    <tr>\n",
              "      <th>Maryland</th>\n",
              "      <td>0.095953</td>\n",
              "    </tr>\n",
              "    <tr>\n",
              "      <th>Massachusetts</th>\n",
              "      <td>0.214158</td>\n",
              "    </tr>\n",
              "    <tr>\n",
              "      <th>Michigan</th>\n",
              "      <td>0.606417</td>\n",
              "    </tr>\n",
              "    <tr>\n",
              "      <th>Minnesota</th>\n",
              "      <td>0.192734</td>\n",
              "    </tr>\n",
              "    <tr>\n",
              "      <th>Mississippi</th>\n",
              "      <td>1.000000</td>\n",
              "    </tr>\n",
              "    <tr>\n",
              "      <th>Missouri</th>\n",
              "      <td>0.518495</td>\n",
              "    </tr>\n",
              "    <tr>\n",
              "      <th>Montana</th>\n",
              "      <td>0.443776</td>\n",
              "    </tr>\n",
              "    <tr>\n",
              "      <th>Nebraska</th>\n",
              "      <td>0.265249</td>\n",
              "    </tr>\n",
              "    <tr>\n",
              "      <th>Nevada</th>\n",
              "      <td>0.422996</td>\n",
              "    </tr>\n",
              "    <tr>\n",
              "      <th>New Hampshire</th>\n",
              "      <td>0.000000</td>\n",
              "    </tr>\n",
              "    <tr>\n",
              "      <th>New Jersey</th>\n",
              "      <td>0.129966</td>\n",
              "    </tr>\n",
              "    <tr>\n",
              "      <th>New Mexico</th>\n",
              "      <td>0.743427</td>\n",
              "    </tr>\n",
              "    <tr>\n",
              "      <th>New York</th>\n",
              "      <td>0.420159</td>\n",
              "    </tr>\n",
              "    <tr>\n",
              "      <th>North Carolina</th>\n",
              "      <td>0.576896</td>\n",
              "    </tr>\n",
              "    <tr>\n",
              "      <th>North Dakota</th>\n",
              "      <td>0.169167</td>\n",
              "    </tr>\n",
              "    <tr>\n",
              "      <th>Ohio</th>\n",
              "      <td>0.616299</td>\n",
              "    </tr>\n",
              "    <tr>\n",
              "      <th>Oklahoma</th>\n",
              "      <td>0.577896</td>\n",
              "    </tr>\n",
              "    <tr>\n",
              "      <th>Oregon</th>\n",
              "      <td>0.481432</td>\n",
              "    </tr>\n",
              "    <tr>\n",
              "      <th>Pennsylvania</th>\n",
              "      <td>0.341488</td>\n",
              "    </tr>\n",
              "    <tr>\n",
              "      <th>Rhode Island</th>\n",
              "      <td>0.357834</td>\n",
              "    </tr>\n",
              "    <tr>\n",
              "      <th>South Carolina</th>\n",
              "      <td>0.663904</td>\n",
              "    </tr>\n",
              "    <tr>\n",
              "      <th>South Dakota</th>\n",
              "      <td>0.355663</td>\n",
              "    </tr>\n",
              "    <tr>\n",
              "      <th>Tennessee</th>\n",
              "      <td>0.631038</td>\n",
              "    </tr>\n",
              "    <tr>\n",
              "      <th>Texas</th>\n",
              "      <td>0.595956</td>\n",
              "    </tr>\n",
              "    <tr>\n",
              "      <th>Utah</th>\n",
              "      <td>0.260999</td>\n",
              "    </tr>\n",
              "    <tr>\n",
              "      <th>Vermont</th>\n",
              "      <td>0.188294</td>\n",
              "    </tr>\n",
              "    <tr>\n",
              "      <th>Virginia</th>\n",
              "      <td>0.190344</td>\n",
              "    </tr>\n",
              "    <tr>\n",
              "      <th>Washington</th>\n",
              "      <td>0.288830</td>\n",
              "    </tr>\n",
              "    <tr>\n",
              "      <th>West Virginia</th>\n",
              "      <td>0.666417</td>\n",
              "    </tr>\n",
              "    <tr>\n",
              "      <th>Wisconsin</th>\n",
              "      <td>0.354553</td>\n",
              "    </tr>\n",
              "    <tr>\n",
              "      <th>Wyoming</th>\n",
              "      <td>0.182199</td>\n",
              "    </tr>\n",
              "  </tbody>\n",
              "</table>\n",
              "</div>"
            ],
            "text/plain": [
              "                      PovertyRate\n",
              "State                            \n",
              "Alabama                  0.773809\n",
              "Alaska                   0.112711\n",
              "Arizona                  0.592930\n",
              "Arkansas                 0.716112\n",
              "California               0.462901\n",
              "Colorado                 0.263934\n",
              "Connecticut              0.145297\n",
              "Delaware                 0.207535\n",
              "District of Columbia     0.674124\n",
              "Florida                  0.503553\n",
              "Georgia                  0.726746\n",
              "Hawaii                   0.080953\n",
              "Idaho                    0.458046\n",
              "Illinois                 0.447909\n",
              "Indiana                  0.554305\n",
              "Iowa                     0.249215\n",
              "Kansas                   0.353504\n",
              "Kentucky                 0.700390\n",
              "Louisiana                0.801888\n",
              "Maine                    0.340430\n",
              "Maryland                 0.095953\n",
              "Massachusetts            0.214158\n",
              "Michigan                 0.606417\n",
              "Minnesota                0.192734\n",
              "Mississippi              1.000000\n",
              "Missouri                 0.518495\n",
              "Montana                  0.443776\n",
              "Nebraska                 0.265249\n",
              "Nevada                   0.422996\n",
              "New Hampshire            0.000000\n",
              "New Jersey               0.129966\n",
              "New Mexico               0.743427\n",
              "New York                 0.420159\n",
              "North Carolina           0.576896\n",
              "North Dakota             0.169167\n",
              "Ohio                     0.616299\n",
              "Oklahoma                 0.577896\n",
              "Oregon                   0.481432\n",
              "Pennsylvania             0.341488\n",
              "Rhode Island             0.357834\n",
              "South Carolina           0.663904\n",
              "South Dakota             0.355663\n",
              "Tennessee                0.631038\n",
              "Texas                    0.595956\n",
              "Utah                     0.260999\n",
              "Vermont                  0.188294\n",
              "Virginia                 0.190344\n",
              "Washington               0.288830\n",
              "West Virginia            0.666417\n",
              "Wisconsin                0.354553\n",
              "Wyoming                  0.182199"
            ]
          },
          "execution_count": 342,
          "metadata": {},
          "output_type": "execute_result"
        }
      ],
      "source": [
        "states_pov_nm"
      ]
    },
    {
      "cell_type": "code",
      "execution_count": null,
      "id": "d5249cb1",
      "metadata": {
        "id": "d5249cb1"
      },
      "outputs": [],
      "source": [
        "states_high_pov =pd.DataFrame(states_pov_nm[ (states_pov_nm[\"PovertyRate\"] > states_pov_nm['PovertyRate'].quantile(0.85))])"
      ]
    },
    {
      "cell_type": "code",
      "execution_count": null,
      "id": "c09b4efb",
      "metadata": {
        "id": "c09b4efb",
        "outputId": "78bc5429-06cf-49fe-b520-85d3cee7387a"
      },
      "outputs": [
        {
          "data": {
            "text/html": [
              "<div>\n",
              "<style scoped>\n",
              "    .dataframe tbody tr th:only-of-type {\n",
              "        vertical-align: middle;\n",
              "    }\n",
              "\n",
              "    .dataframe tbody tr th {\n",
              "        vertical-align: top;\n",
              "    }\n",
              "\n",
              "    .dataframe thead th {\n",
              "        text-align: right;\n",
              "    }\n",
              "</style>\n",
              "<table border=\"1\" class=\"dataframe\">\n",
              "  <thead>\n",
              "    <tr style=\"text-align: right;\">\n",
              "      <th></th>\n",
              "      <th>PovertyRate</th>\n",
              "    </tr>\n",
              "    <tr>\n",
              "      <th>State</th>\n",
              "      <th></th>\n",
              "    </tr>\n",
              "  </thead>\n",
              "  <tbody>\n",
              "    <tr>\n",
              "      <th>Alabama</th>\n",
              "      <td>0.773809</td>\n",
              "    </tr>\n",
              "    <tr>\n",
              "      <th>Arkansas</th>\n",
              "      <td>0.716112</td>\n",
              "    </tr>\n",
              "    <tr>\n",
              "      <th>District of Columbia</th>\n",
              "      <td>0.674124</td>\n",
              "    </tr>\n",
              "    <tr>\n",
              "      <th>Georgia</th>\n",
              "      <td>0.726746</td>\n",
              "    </tr>\n",
              "    <tr>\n",
              "      <th>Kentucky</th>\n",
              "      <td>0.700390</td>\n",
              "    </tr>\n",
              "    <tr>\n",
              "      <th>Louisiana</th>\n",
              "      <td>0.801888</td>\n",
              "    </tr>\n",
              "    <tr>\n",
              "      <th>Mississippi</th>\n",
              "      <td>1.000000</td>\n",
              "    </tr>\n",
              "    <tr>\n",
              "      <th>New Mexico</th>\n",
              "      <td>0.743427</td>\n",
              "    </tr>\n",
              "  </tbody>\n",
              "</table>\n",
              "</div>"
            ],
            "text/plain": [
              "                      PovertyRate\n",
              "State                            \n",
              "Alabama                  0.773809\n",
              "Arkansas                 0.716112\n",
              "District of Columbia     0.674124\n",
              "Georgia                  0.726746\n",
              "Kentucky                 0.700390\n",
              "Louisiana                0.801888\n",
              "Mississippi              1.000000\n",
              "New Mexico               0.743427"
            ]
          },
          "execution_count": 357,
          "metadata": {},
          "output_type": "execute_result"
        }
      ],
      "source": [
        "states_high_pov"
      ]
    }
  ],
  "metadata": {
    "colab": {
      "provenance": []
    },
    "kernelspec": {
      "display_name": "Python 3 (ipykernel)",
      "language": "python",
      "name": "python3"
    },
    "language_info": {
      "codemirror_mode": {
        "name": "ipython",
        "version": 3
      },
      "file_extension": ".py",
      "mimetype": "text/x-python",
      "name": "python",
      "nbconvert_exporter": "python",
      "pygments_lexer": "ipython3",
      "version": "3.11.6"
    }
  },
  "nbformat": 4,
  "nbformat_minor": 5
}
