{
 "cells": [
  {
   "cell_type": "code",
   "execution_count": 1,
   "id": "086b0b5d",
   "metadata": {},
   "outputs": [],
   "source": [
    "import pandas as pd\n",
    "from sklearn.preprocessing import MinMaxScaler\n",
    "import seaborn as sns\n",
    "import matplotlib.pyplot as plt"
   ]
  },
  {
   "cell_type": "code",
   "execution_count": 2,
   "id": "09ffc8f2",
   "metadata": {},
   "outputs": [],
   "source": [
    "data = pd.read_csv(\"food_access_research_atlas.csv\" )"
   ]
  },
  {
   "cell_type": "code",
   "execution_count": 3,
   "id": "bf20049e",
   "metadata": {},
   "outputs": [
    {
     "data": {
      "text/html": [
       "<div>\n",
       "<style scoped>\n",
       "    .dataframe tbody tr th:only-of-type {\n",
       "        vertical-align: middle;\n",
       "    }\n",
       "\n",
       "    .dataframe tbody tr th {\n",
       "        vertical-align: top;\n",
       "    }\n",
       "\n",
       "    .dataframe thead th {\n",
       "        text-align: right;\n",
       "    }\n",
       "</style>\n",
       "<table border=\"1\" class=\"dataframe\">\n",
       "  <thead>\n",
       "    <tr style=\"text-align: right;\">\n",
       "      <th></th>\n",
       "      <th>CensusTract</th>\n",
       "      <th>State</th>\n",
       "      <th>County</th>\n",
       "      <th>Urban</th>\n",
       "      <th>POP2010</th>\n",
       "      <th>OHU2010</th>\n",
       "      <th>GroupQuartersFlag</th>\n",
       "      <th>NUMGQTRS</th>\n",
       "      <th>PCTGQTRS</th>\n",
       "      <th>LILATracts_1And10</th>\n",
       "      <th>...</th>\n",
       "      <th>TractSeniors</th>\n",
       "      <th>TractWhite</th>\n",
       "      <th>TractBlack</th>\n",
       "      <th>TractAsian</th>\n",
       "      <th>TractNHOPI</th>\n",
       "      <th>TractAIAN</th>\n",
       "      <th>TractOMultir</th>\n",
       "      <th>TractHispanic</th>\n",
       "      <th>TractHUNV</th>\n",
       "      <th>TractSNAP</th>\n",
       "    </tr>\n",
       "  </thead>\n",
       "  <tbody>\n",
       "    <tr>\n",
       "      <th>0</th>\n",
       "      <td>1001020100</td>\n",
       "      <td>Alabama</td>\n",
       "      <td>Autauga</td>\n",
       "      <td>1</td>\n",
       "      <td>1912</td>\n",
       "      <td>693</td>\n",
       "      <td>0</td>\n",
       "      <td>0</td>\n",
       "      <td>0.000000</td>\n",
       "      <td>0</td>\n",
       "      <td>...</td>\n",
       "      <td>221</td>\n",
       "      <td>1622</td>\n",
       "      <td>217</td>\n",
       "      <td>14</td>\n",
       "      <td>0</td>\n",
       "      <td>14</td>\n",
       "      <td>45</td>\n",
       "      <td>44</td>\n",
       "      <td>26</td>\n",
       "      <td>112</td>\n",
       "    </tr>\n",
       "    <tr>\n",
       "      <th>1</th>\n",
       "      <td>1001020200</td>\n",
       "      <td>Alabama</td>\n",
       "      <td>Autauga</td>\n",
       "      <td>1</td>\n",
       "      <td>2170</td>\n",
       "      <td>743</td>\n",
       "      <td>0</td>\n",
       "      <td>181</td>\n",
       "      <td>0.083410</td>\n",
       "      <td>0</td>\n",
       "      <td>...</td>\n",
       "      <td>214</td>\n",
       "      <td>888</td>\n",
       "      <td>1217</td>\n",
       "      <td>5</td>\n",
       "      <td>0</td>\n",
       "      <td>5</td>\n",
       "      <td>55</td>\n",
       "      <td>75</td>\n",
       "      <td>87</td>\n",
       "      <td>202</td>\n",
       "    </tr>\n",
       "    <tr>\n",
       "      <th>2</th>\n",
       "      <td>1001020300</td>\n",
       "      <td>Alabama</td>\n",
       "      <td>Autauga</td>\n",
       "      <td>1</td>\n",
       "      <td>3373</td>\n",
       "      <td>1256</td>\n",
       "      <td>0</td>\n",
       "      <td>0</td>\n",
       "      <td>0.000000</td>\n",
       "      <td>0</td>\n",
       "      <td>...</td>\n",
       "      <td>439</td>\n",
       "      <td>2576</td>\n",
       "      <td>647</td>\n",
       "      <td>17</td>\n",
       "      <td>5</td>\n",
       "      <td>11</td>\n",
       "      <td>117</td>\n",
       "      <td>87</td>\n",
       "      <td>108</td>\n",
       "      <td>120</td>\n",
       "    </tr>\n",
       "    <tr>\n",
       "      <th>3</th>\n",
       "      <td>1001020400</td>\n",
       "      <td>Alabama</td>\n",
       "      <td>Autauga</td>\n",
       "      <td>1</td>\n",
       "      <td>4386</td>\n",
       "      <td>1722</td>\n",
       "      <td>0</td>\n",
       "      <td>0</td>\n",
       "      <td>0.000000</td>\n",
       "      <td>0</td>\n",
       "      <td>...</td>\n",
       "      <td>904</td>\n",
       "      <td>4086</td>\n",
       "      <td>193</td>\n",
       "      <td>18</td>\n",
       "      <td>4</td>\n",
       "      <td>11</td>\n",
       "      <td>74</td>\n",
       "      <td>85</td>\n",
       "      <td>19</td>\n",
       "      <td>82</td>\n",
       "    </tr>\n",
       "    <tr>\n",
       "      <th>4</th>\n",
       "      <td>1001020500</td>\n",
       "      <td>Alabama</td>\n",
       "      <td>Autauga</td>\n",
       "      <td>1</td>\n",
       "      <td>10766</td>\n",
       "      <td>4082</td>\n",
       "      <td>0</td>\n",
       "      <td>181</td>\n",
       "      <td>0.016812</td>\n",
       "      <td>0</td>\n",
       "      <td>...</td>\n",
       "      <td>1126</td>\n",
       "      <td>8666</td>\n",
       "      <td>1437</td>\n",
       "      <td>296</td>\n",
       "      <td>9</td>\n",
       "      <td>48</td>\n",
       "      <td>310</td>\n",
       "      <td>355</td>\n",
       "      <td>198</td>\n",
       "      <td>488</td>\n",
       "    </tr>\n",
       "  </tbody>\n",
       "</table>\n",
       "<p>5 rows × 147 columns</p>\n",
       "</div>"
      ],
      "text/plain": [
       "   CensusTract    State   County  Urban  POP2010  OHU2010  GroupQuartersFlag  \\\n",
       "0   1001020100  Alabama  Autauga      1     1912      693                  0   \n",
       "1   1001020200  Alabama  Autauga      1     2170      743                  0   \n",
       "2   1001020300  Alabama  Autauga      1     3373     1256                  0   \n",
       "3   1001020400  Alabama  Autauga      1     4386     1722                  0   \n",
       "4   1001020500  Alabama  Autauga      1    10766     4082                  0   \n",
       "\n",
       "   NUMGQTRS  PCTGQTRS  LILATracts_1And10  ...  TractSeniors  TractWhite  \\\n",
       "0         0  0.000000                  0  ...           221        1622   \n",
       "1       181  0.083410                  0  ...           214         888   \n",
       "2         0  0.000000                  0  ...           439        2576   \n",
       "3         0  0.000000                  0  ...           904        4086   \n",
       "4       181  0.016812                  0  ...          1126        8666   \n",
       "\n",
       "   TractBlack  TractAsian  TractNHOPI  TractAIAN  TractOMultir  TractHispanic  \\\n",
       "0         217          14           0         14            45             44   \n",
       "1        1217           5           0          5            55             75   \n",
       "2         647          17           5         11           117             87   \n",
       "3         193          18           4         11            74             85   \n",
       "4        1437         296           9         48           310            355   \n",
       "\n",
       "   TractHUNV  TractSNAP  \n",
       "0         26        112  \n",
       "1         87        202  \n",
       "2        108        120  \n",
       "3         19         82  \n",
       "4        198        488  \n",
       "\n",
       "[5 rows x 147 columns]"
      ]
     },
     "execution_count": 3,
     "metadata": {},
     "output_type": "execute_result"
    }
   ],
   "source": [
    "data.head()"
   ]
  },
  {
   "cell_type": "code",
   "execution_count": 4,
   "id": "3146552a",
   "metadata": {},
   "outputs": [
    {
     "data": {
      "text/html": [
       "<div>\n",
       "<style scoped>\n",
       "    .dataframe tbody tr th:only-of-type {\n",
       "        vertical-align: middle;\n",
       "    }\n",
       "\n",
       "    .dataframe tbody tr th {\n",
       "        vertical-align: top;\n",
       "    }\n",
       "\n",
       "    .dataframe thead th {\n",
       "        text-align: right;\n",
       "    }\n",
       "</style>\n",
       "<table border=\"1\" class=\"dataframe\">\n",
       "  <thead>\n",
       "    <tr style=\"text-align: right;\">\n",
       "      <th></th>\n",
       "      <th>CensusTract</th>\n",
       "      <th>Urban</th>\n",
       "      <th>POP2010</th>\n",
       "      <th>OHU2010</th>\n",
       "      <th>GroupQuartersFlag</th>\n",
       "      <th>NUMGQTRS</th>\n",
       "      <th>PCTGQTRS</th>\n",
       "      <th>LILATracts_1And10</th>\n",
       "      <th>LILATracts_halfAnd10</th>\n",
       "      <th>LILATracts_1And20</th>\n",
       "      <th>...</th>\n",
       "      <th>TractSeniors</th>\n",
       "      <th>TractWhite</th>\n",
       "      <th>TractBlack</th>\n",
       "      <th>TractAsian</th>\n",
       "      <th>TractNHOPI</th>\n",
       "      <th>TractAIAN</th>\n",
       "      <th>TractOMultir</th>\n",
       "      <th>TractHispanic</th>\n",
       "      <th>TractHUNV</th>\n",
       "      <th>TractSNAP</th>\n",
       "    </tr>\n",
       "  </thead>\n",
       "  <tbody>\n",
       "    <tr>\n",
       "      <th>count</th>\n",
       "      <td>7.286400e+04</td>\n",
       "      <td>72864.000000</td>\n",
       "      <td>72864.000000</td>\n",
       "      <td>72864.000000</td>\n",
       "      <td>72864.000000</td>\n",
       "      <td>72864.000000</td>\n",
       "      <td>72864.000000</td>\n",
       "      <td>72864.000000</td>\n",
       "      <td>72864.000000</td>\n",
       "      <td>72864.000000</td>\n",
       "      <td>...</td>\n",
       "      <td>72864.000000</td>\n",
       "      <td>72864.000000</td>\n",
       "      <td>72864.000000</td>\n",
       "      <td>72864.000000</td>\n",
       "      <td>72864.000000</td>\n",
       "      <td>72864.000000</td>\n",
       "      <td>72864.000000</td>\n",
       "      <td>72864.000000</td>\n",
       "      <td>72864.000000</td>\n",
       "      <td>72864.000000</td>\n",
       "    </tr>\n",
       "    <tr>\n",
       "      <th>mean</th>\n",
       "      <td>2.783045e+10</td>\n",
       "      <td>0.757191</td>\n",
       "      <td>4237.285052</td>\n",
       "      <td>1601.837560</td>\n",
       "      <td>0.007082</td>\n",
       "      <td>109.619606</td>\n",
       "      <td>0.026961</td>\n",
       "      <td>0.126880</td>\n",
       "      <td>0.282115</td>\n",
       "      <td>0.111235</td>\n",
       "      <td>...</td>\n",
       "      <td>552.645806</td>\n",
       "      <td>3068.089386</td>\n",
       "      <td>534.273702</td>\n",
       "      <td>201.392347</td>\n",
       "      <td>7.411246</td>\n",
       "      <td>40.242754</td>\n",
       "      <td>385.875618</td>\n",
       "      <td>692.764520</td>\n",
       "      <td>145.356239</td>\n",
       "      <td>207.022206</td>\n",
       "    </tr>\n",
       "    <tr>\n",
       "      <th>std</th>\n",
       "      <td>1.581256e+10</td>\n",
       "      <td>0.428783</td>\n",
       "      <td>1972.520112</td>\n",
       "      <td>732.106217</td>\n",
       "      <td>0.083855</td>\n",
       "      <td>442.922669</td>\n",
       "      <td>0.095494</td>\n",
       "      <td>0.332841</td>\n",
       "      <td>0.450032</td>\n",
       "      <td>0.314425</td>\n",
       "      <td>...</td>\n",
       "      <td>352.988078</td>\n",
       "      <td>1804.353298</td>\n",
       "      <td>887.806852</td>\n",
       "      <td>435.085612</td>\n",
       "      <td>45.084789</td>\n",
       "      <td>181.024758</td>\n",
       "      <td>528.776237</td>\n",
       "      <td>1117.876349</td>\n",
       "      <td>230.201932</td>\n",
       "      <td>187.188807</td>\n",
       "    </tr>\n",
       "    <tr>\n",
       "      <th>min</th>\n",
       "      <td>1.001020e+09</td>\n",
       "      <td>0.000000</td>\n",
       "      <td>0.000000</td>\n",
       "      <td>0.000000</td>\n",
       "      <td>0.000000</td>\n",
       "      <td>0.000000</td>\n",
       "      <td>0.000000</td>\n",
       "      <td>0.000000</td>\n",
       "      <td>0.000000</td>\n",
       "      <td>0.000000</td>\n",
       "      <td>...</td>\n",
       "      <td>0.000000</td>\n",
       "      <td>0.000000</td>\n",
       "      <td>0.000000</td>\n",
       "      <td>0.000000</td>\n",
       "      <td>0.000000</td>\n",
       "      <td>0.000000</td>\n",
       "      <td>0.000000</td>\n",
       "      <td>0.000000</td>\n",
       "      <td>0.000000</td>\n",
       "      <td>0.000000</td>\n",
       "    </tr>\n",
       "    <tr>\n",
       "      <th>25%</th>\n",
       "      <td>1.212708e+10</td>\n",
       "      <td>1.000000</td>\n",
       "      <td>2883.750000</td>\n",
       "      <td>1102.000000</td>\n",
       "      <td>0.000000</td>\n",
       "      <td>0.000000</td>\n",
       "      <td>0.000000</td>\n",
       "      <td>0.000000</td>\n",
       "      <td>0.000000</td>\n",
       "      <td>0.000000</td>\n",
       "      <td>...</td>\n",
       "      <td>318.000000</td>\n",
       "      <td>1832.000000</td>\n",
       "      <td>42.000000</td>\n",
       "      <td>17.000000</td>\n",
       "      <td>0.000000</td>\n",
       "      <td>7.000000</td>\n",
       "      <td>83.000000</td>\n",
       "      <td>87.000000</td>\n",
       "      <td>37.000000</td>\n",
       "      <td>69.000000</td>\n",
       "    </tr>\n",
       "    <tr>\n",
       "      <th>50%</th>\n",
       "      <td>2.712979e+10</td>\n",
       "      <td>1.000000</td>\n",
       "      <td>4002.000000</td>\n",
       "      <td>1521.000000</td>\n",
       "      <td>0.000000</td>\n",
       "      <td>7.000000</td>\n",
       "      <td>0.001779</td>\n",
       "      <td>0.000000</td>\n",
       "      <td>0.000000</td>\n",
       "      <td>0.000000</td>\n",
       "      <td>...</td>\n",
       "      <td>495.000000</td>\n",
       "      <td>2903.000000</td>\n",
       "      <td>158.000000</td>\n",
       "      <td>57.000000</td>\n",
       "      <td>1.000000</td>\n",
       "      <td>15.000000</td>\n",
       "      <td>184.000000</td>\n",
       "      <td>240.000000</td>\n",
       "      <td>84.000000</td>\n",
       "      <td>158.000000</td>\n",
       "    </tr>\n",
       "    <tr>\n",
       "      <th>75%</th>\n",
       "      <td>4.103900e+10</td>\n",
       "      <td>1.000000</td>\n",
       "      <td>5323.000000</td>\n",
       "      <td>2018.000000</td>\n",
       "      <td>0.000000</td>\n",
       "      <td>63.000000</td>\n",
       "      <td>0.015516</td>\n",
       "      <td>0.000000</td>\n",
       "      <td>1.000000</td>\n",
       "      <td>0.000000</td>\n",
       "      <td>...</td>\n",
       "      <td>716.000000</td>\n",
       "      <td>4111.000000</td>\n",
       "      <td>606.000000</td>\n",
       "      <td>188.000000</td>\n",
       "      <td>5.000000</td>\n",
       "      <td>33.000000</td>\n",
       "      <td>446.000000</td>\n",
       "      <td>746.000000</td>\n",
       "      <td>172.000000</td>\n",
       "      <td>293.000000</td>\n",
       "    </tr>\n",
       "    <tr>\n",
       "      <th>max</th>\n",
       "      <td>5.604595e+10</td>\n",
       "      <td>1.000000</td>\n",
       "      <td>37452.000000</td>\n",
       "      <td>16043.000000</td>\n",
       "      <td>1.000000</td>\n",
       "      <td>19496.000000</td>\n",
       "      <td>1.000000</td>\n",
       "      <td>1.000000</td>\n",
       "      <td>1.000000</td>\n",
       "      <td>1.000000</td>\n",
       "      <td>...</td>\n",
       "      <td>17271.000000</td>\n",
       "      <td>28983.000000</td>\n",
       "      <td>16804.000000</td>\n",
       "      <td>10485.000000</td>\n",
       "      <td>3491.000000</td>\n",
       "      <td>9009.000000</td>\n",
       "      <td>8839.000000</td>\n",
       "      <td>15420.000000</td>\n",
       "      <td>6176.000000</td>\n",
       "      <td>2152.000000</td>\n",
       "    </tr>\n",
       "  </tbody>\n",
       "</table>\n",
       "<p>8 rows × 145 columns</p>\n",
       "</div>"
      ],
      "text/plain": [
       "        CensusTract         Urban       POP2010       OHU2010  \\\n",
       "count  7.286400e+04  72864.000000  72864.000000  72864.000000   \n",
       "mean   2.783045e+10      0.757191   4237.285052   1601.837560   \n",
       "std    1.581256e+10      0.428783   1972.520112    732.106217   \n",
       "min    1.001020e+09      0.000000      0.000000      0.000000   \n",
       "25%    1.212708e+10      1.000000   2883.750000   1102.000000   \n",
       "50%    2.712979e+10      1.000000   4002.000000   1521.000000   \n",
       "75%    4.103900e+10      1.000000   5323.000000   2018.000000   \n",
       "max    5.604595e+10      1.000000  37452.000000  16043.000000   \n",
       "\n",
       "       GroupQuartersFlag      NUMGQTRS      PCTGQTRS  LILATracts_1And10  \\\n",
       "count       72864.000000  72864.000000  72864.000000       72864.000000   \n",
       "mean            0.007082    109.619606      0.026961           0.126880   \n",
       "std             0.083855    442.922669      0.095494           0.332841   \n",
       "min             0.000000      0.000000      0.000000           0.000000   \n",
       "25%             0.000000      0.000000      0.000000           0.000000   \n",
       "50%             0.000000      7.000000      0.001779           0.000000   \n",
       "75%             0.000000     63.000000      0.015516           0.000000   \n",
       "max             1.000000  19496.000000      1.000000           1.000000   \n",
       "\n",
       "       LILATracts_halfAnd10  LILATracts_1And20  ...  TractSeniors  \\\n",
       "count          72864.000000       72864.000000  ...  72864.000000   \n",
       "mean               0.282115           0.111235  ...    552.645806   \n",
       "std                0.450032           0.314425  ...    352.988078   \n",
       "min                0.000000           0.000000  ...      0.000000   \n",
       "25%                0.000000           0.000000  ...    318.000000   \n",
       "50%                0.000000           0.000000  ...    495.000000   \n",
       "75%                1.000000           0.000000  ...    716.000000   \n",
       "max                1.000000           1.000000  ...  17271.000000   \n",
       "\n",
       "         TractWhite    TractBlack    TractAsian    TractNHOPI     TractAIAN  \\\n",
       "count  72864.000000  72864.000000  72864.000000  72864.000000  72864.000000   \n",
       "mean    3068.089386    534.273702    201.392347      7.411246     40.242754   \n",
       "std     1804.353298    887.806852    435.085612     45.084789    181.024758   \n",
       "min        0.000000      0.000000      0.000000      0.000000      0.000000   \n",
       "25%     1832.000000     42.000000     17.000000      0.000000      7.000000   \n",
       "50%     2903.000000    158.000000     57.000000      1.000000     15.000000   \n",
       "75%     4111.000000    606.000000    188.000000      5.000000     33.000000   \n",
       "max    28983.000000  16804.000000  10485.000000   3491.000000   9009.000000   \n",
       "\n",
       "       TractOMultir  TractHispanic     TractHUNV     TractSNAP  \n",
       "count  72864.000000   72864.000000  72864.000000  72864.000000  \n",
       "mean     385.875618     692.764520    145.356239    207.022206  \n",
       "std      528.776237    1117.876349    230.201932    187.188807  \n",
       "min        0.000000       0.000000      0.000000      0.000000  \n",
       "25%       83.000000      87.000000     37.000000     69.000000  \n",
       "50%      184.000000     240.000000     84.000000    158.000000  \n",
       "75%      446.000000     746.000000    172.000000    293.000000  \n",
       "max     8839.000000   15420.000000   6176.000000   2152.000000  \n",
       "\n",
       "[8 rows x 145 columns]"
      ]
     },
     "execution_count": 4,
     "metadata": {},
     "output_type": "execute_result"
    }
   ],
   "source": [
    "data.describe()"
   ]
  },
  {
   "cell_type": "markdown",
   "id": "03b4ac9b",
   "metadata": {},
   "source": [
    "# Question 1 \n",
    "* Do Chi-square 3+ test of independence between state, LILATracts_1And10 "
   ]
  },
  {
   "cell_type": "code",
   "execution_count": 5,
   "id": "6c6d67cb",
   "metadata": {},
   "outputs": [],
   "source": [
    "county = pd.DataFrame(data[\"County\"].value_counts())"
   ]
  },
  {
   "cell_type": "code",
   "execution_count": 6,
   "id": "ee102534",
   "metadata": {},
   "outputs": [
    {
     "data": {
      "text/plain": [
       "County    1837\n",
       "dtype: int64"
      ]
     },
     "execution_count": 6,
     "metadata": {},
     "output_type": "execute_result"
    }
   ],
   "source": [
    "county.count()"
   ]
  },
  {
   "cell_type": "code",
   "execution_count": 7,
   "id": "1d1560d0",
   "metadata": {},
   "outputs": [
    {
     "data": {
      "text/plain": [
       "County     Urban\n",
       "0          0        7\n",
       "Abbeville  0        5\n",
       "           1        1\n",
       "Acadia     0        6\n",
       "           1        6\n",
       "                   ..\n",
       "Zapata     1        2\n",
       "           0        1\n",
       "Zavala     0        3\n",
       "           1        1\n",
       "Ziebach    0        1\n",
       "Name: Urban, Length: 3187, dtype: int64"
      ]
     },
     "execution_count": 7,
     "metadata": {},
     "output_type": "execute_result"
    }
   ],
   "source": [
    "data.groupby(\"County\")[\"Urban\"].value_counts()"
   ]
  },
  {
   "cell_type": "code",
   "execution_count": 8,
   "id": "969bd044",
   "metadata": {},
   "outputs": [],
   "source": [
    "states = pd.DataFrame(data[\"State\"].value_counts())"
   ]
  },
  {
   "cell_type": "code",
   "execution_count": 9,
   "id": "44862d61",
   "metadata": {},
   "outputs": [
    {
     "data": {
      "text/plain": [
       "State    51\n",
       "dtype: int64"
      ]
     },
     "execution_count": 9,
     "metadata": {},
     "output_type": "execute_result"
    }
   ],
   "source": [
    "states.count()"
   ]
  },
  {
   "cell_type": "code",
   "execution_count": 10,
   "id": "52175d62",
   "metadata": {},
   "outputs": [
    {
     "data": {
      "text/html": [
       "<div>\n",
       "<style scoped>\n",
       "    .dataframe tbody tr th:only-of-type {\n",
       "        vertical-align: middle;\n",
       "    }\n",
       "\n",
       "    .dataframe tbody tr th {\n",
       "        vertical-align: top;\n",
       "    }\n",
       "\n",
       "    .dataframe thead th {\n",
       "        text-align: right;\n",
       "    }\n",
       "</style>\n",
       "<table border=\"1\" class=\"dataframe\">\n",
       "  <thead>\n",
       "    <tr style=\"text-align: right;\">\n",
       "      <th></th>\n",
       "      <th>CensusTract</th>\n",
       "      <th>State</th>\n",
       "      <th>County</th>\n",
       "      <th>Urban</th>\n",
       "      <th>POP2010</th>\n",
       "      <th>OHU2010</th>\n",
       "      <th>GroupQuartersFlag</th>\n",
       "      <th>NUMGQTRS</th>\n",
       "      <th>PCTGQTRS</th>\n",
       "      <th>LILATracts_1And10</th>\n",
       "      <th>...</th>\n",
       "      <th>TractSeniors</th>\n",
       "      <th>TractWhite</th>\n",
       "      <th>TractBlack</th>\n",
       "      <th>TractAsian</th>\n",
       "      <th>TractNHOPI</th>\n",
       "      <th>TractAIAN</th>\n",
       "      <th>TractOMultir</th>\n",
       "      <th>TractHispanic</th>\n",
       "      <th>TractHUNV</th>\n",
       "      <th>TractSNAP</th>\n",
       "    </tr>\n",
       "  </thead>\n",
       "  <tbody>\n",
       "    <tr>\n",
       "      <th>1265</th>\n",
       "      <td>2105000300</td>\n",
       "      <td>Alaska</td>\n",
       "      <td>0</td>\n",
       "      <td>0</td>\n",
       "      <td>2055</td>\n",
       "      <td>872</td>\n",
       "      <td>0</td>\n",
       "      <td>0</td>\n",
       "      <td>0.000000</td>\n",
       "      <td>1</td>\n",
       "      <td>...</td>\n",
       "      <td>275</td>\n",
       "      <td>1006</td>\n",
       "      <td>8</td>\n",
       "      <td>11</td>\n",
       "      <td>1</td>\n",
       "      <td>814</td>\n",
       "      <td>215</td>\n",
       "      <td>75</td>\n",
       "      <td>239</td>\n",
       "      <td>168</td>\n",
       "    </tr>\n",
       "    <tr>\n",
       "      <th>1326</th>\n",
       "      <td>2195000200</td>\n",
       "      <td>Alaska</td>\n",
       "      <td>0</td>\n",
       "      <td>0</td>\n",
       "      <td>3815</td>\n",
       "      <td>1599</td>\n",
       "      <td>0</td>\n",
       "      <td>43</td>\n",
       "      <td>0.011271</td>\n",
       "      <td>0</td>\n",
       "      <td>...</td>\n",
       "      <td>438</td>\n",
       "      <td>2711</td>\n",
       "      <td>15</td>\n",
       "      <td>100</td>\n",
       "      <td>7</td>\n",
       "      <td>614</td>\n",
       "      <td>368</td>\n",
       "      <td>130</td>\n",
       "      <td>157</td>\n",
       "      <td>128</td>\n",
       "    </tr>\n",
       "    <tr>\n",
       "      <th>1327</th>\n",
       "      <td>2198000100</td>\n",
       "      <td>Alaska</td>\n",
       "      <td>0</td>\n",
       "      <td>0</td>\n",
       "      <td>1685</td>\n",
       "      <td>729</td>\n",
       "      <td>0</td>\n",
       "      <td>37</td>\n",
       "      <td>0.021958</td>\n",
       "      <td>1</td>\n",
       "      <td>...</td>\n",
       "      <td>181</td>\n",
       "      <td>1217</td>\n",
       "      <td>5</td>\n",
       "      <td>6</td>\n",
       "      <td>7</td>\n",
       "      <td>351</td>\n",
       "      <td>99</td>\n",
       "      <td>29</td>\n",
       "      <td>159</td>\n",
       "      <td>203</td>\n",
       "    </tr>\n",
       "    <tr>\n",
       "      <th>1328</th>\n",
       "      <td>2198000200</td>\n",
       "      <td>Alaska</td>\n",
       "      <td>0</td>\n",
       "      <td>0</td>\n",
       "      <td>2327</td>\n",
       "      <td>908</td>\n",
       "      <td>0</td>\n",
       "      <td>13</td>\n",
       "      <td>0.005587</td>\n",
       "      <td>0</td>\n",
       "      <td>...</td>\n",
       "      <td>227</td>\n",
       "      <td>1358</td>\n",
       "      <td>6</td>\n",
       "      <td>13</td>\n",
       "      <td>3</td>\n",
       "      <td>645</td>\n",
       "      <td>302</td>\n",
       "      <td>70</td>\n",
       "      <td>125</td>\n",
       "      <td>170</td>\n",
       "    </tr>\n",
       "    <tr>\n",
       "      <th>1329</th>\n",
       "      <td>2198000300</td>\n",
       "      <td>Alaska</td>\n",
       "      <td>0</td>\n",
       "      <td>0</td>\n",
       "      <td>87</td>\n",
       "      <td>48</td>\n",
       "      <td>0</td>\n",
       "      <td>0</td>\n",
       "      <td>0.000000</td>\n",
       "      <td>1</td>\n",
       "      <td>...</td>\n",
       "      <td>18</td>\n",
       "      <td>79</td>\n",
       "      <td>0</td>\n",
       "      <td>0</td>\n",
       "      <td>1</td>\n",
       "      <td>1</td>\n",
       "      <td>6</td>\n",
       "      <td>2</td>\n",
       "      <td>7</td>\n",
       "      <td>0</td>\n",
       "    </tr>\n",
       "    <tr>\n",
       "      <th>1330</th>\n",
       "      <td>2198940100</td>\n",
       "      <td>Alaska</td>\n",
       "      <td>0</td>\n",
       "      <td>0</td>\n",
       "      <td>1460</td>\n",
       "      <td>509</td>\n",
       "      <td>0</td>\n",
       "      <td>0</td>\n",
       "      <td>0.000000</td>\n",
       "      <td>0</td>\n",
       "      <td>...</td>\n",
       "      <td>133</td>\n",
       "      <td>145</td>\n",
       "      <td>6</td>\n",
       "      <td>2</td>\n",
       "      <td>10</td>\n",
       "      <td>1210</td>\n",
       "      <td>87</td>\n",
       "      <td>26</td>\n",
       "      <td>70</td>\n",
       "      <td>177</td>\n",
       "    </tr>\n",
       "    <tr>\n",
       "      <th>1340</th>\n",
       "      <td>2275000300</td>\n",
       "      <td>Alaska</td>\n",
       "      <td>0</td>\n",
       "      <td>0</td>\n",
       "      <td>2369</td>\n",
       "      <td>1053</td>\n",
       "      <td>0</td>\n",
       "      <td>19</td>\n",
       "      <td>0.008020</td>\n",
       "      <td>1</td>\n",
       "      <td>...</td>\n",
       "      <td>374</td>\n",
       "      <td>1719</td>\n",
       "      <td>4</td>\n",
       "      <td>33</td>\n",
       "      <td>1</td>\n",
       "      <td>384</td>\n",
       "      <td>228</td>\n",
       "      <td>37</td>\n",
       "      <td>136</td>\n",
       "      <td>171</td>\n",
       "    </tr>\n",
       "  </tbody>\n",
       "</table>\n",
       "<p>7 rows × 147 columns</p>\n",
       "</div>"
      ],
      "text/plain": [
       "      CensusTract   State County  Urban  POP2010  OHU2010  GroupQuartersFlag  \\\n",
       "1265   2105000300  Alaska      0      0     2055      872                  0   \n",
       "1326   2195000200  Alaska      0      0     3815     1599                  0   \n",
       "1327   2198000100  Alaska      0      0     1685      729                  0   \n",
       "1328   2198000200  Alaska      0      0     2327      908                  0   \n",
       "1329   2198000300  Alaska      0      0       87       48                  0   \n",
       "1330   2198940100  Alaska      0      0     1460      509                  0   \n",
       "1340   2275000300  Alaska      0      0     2369     1053                  0   \n",
       "\n",
       "      NUMGQTRS  PCTGQTRS  LILATracts_1And10  ...  TractSeniors  TractWhite  \\\n",
       "1265         0  0.000000                  1  ...           275        1006   \n",
       "1326        43  0.011271                  0  ...           438        2711   \n",
       "1327        37  0.021958                  1  ...           181        1217   \n",
       "1328        13  0.005587                  0  ...           227        1358   \n",
       "1329         0  0.000000                  1  ...            18          79   \n",
       "1330         0  0.000000                  0  ...           133         145   \n",
       "1340        19  0.008020                  1  ...           374        1719   \n",
       "\n",
       "      TractBlack  TractAsian  TractNHOPI  TractAIAN  TractOMultir  \\\n",
       "1265           8          11           1        814           215   \n",
       "1326          15         100           7        614           368   \n",
       "1327           5           6           7        351            99   \n",
       "1328           6          13           3        645           302   \n",
       "1329           0           0           1          1             6   \n",
       "1330           6           2          10       1210            87   \n",
       "1340           4          33           1        384           228   \n",
       "\n",
       "      TractHispanic  TractHUNV  TractSNAP  \n",
       "1265             75        239        168  \n",
       "1326            130        157        128  \n",
       "1327             29        159        203  \n",
       "1328             70        125        170  \n",
       "1329              2          7          0  \n",
       "1330             26         70        177  \n",
       "1340             37        136        171  \n",
       "\n",
       "[7 rows x 147 columns]"
      ]
     },
     "execution_count": 10,
     "metadata": {},
     "output_type": "execute_result"
    }
   ],
   "source": [
    "data[data[\"County\"] == \"0\"]"
   ]
  },
  {
   "cell_type": "code",
   "execution_count": 11,
   "id": "1e859627",
   "metadata": {},
   "outputs": [
    {
     "data": {
      "text/html": [
       "<div>\n",
       "<style scoped>\n",
       "    .dataframe tbody tr th:only-of-type {\n",
       "        vertical-align: middle;\n",
       "    }\n",
       "\n",
       "    .dataframe tbody tr th {\n",
       "        vertical-align: top;\n",
       "    }\n",
       "\n",
       "    .dataframe thead th {\n",
       "        text-align: right;\n",
       "    }\n",
       "</style>\n",
       "<table border=\"1\" class=\"dataframe\">\n",
       "  <thead>\n",
       "    <tr style=\"text-align: right;\">\n",
       "      <th></th>\n",
       "      <th>State</th>\n",
       "    </tr>\n",
       "  </thead>\n",
       "  <tbody>\n",
       "    <tr>\n",
       "      <th>California</th>\n",
       "      <td>8044</td>\n",
       "    </tr>\n",
       "    <tr>\n",
       "      <th>Texas</th>\n",
       "      <td>5258</td>\n",
       "    </tr>\n",
       "    <tr>\n",
       "      <th>New York</th>\n",
       "      <td>4907</td>\n",
       "    </tr>\n",
       "    <tr>\n",
       "      <th>Florida</th>\n",
       "      <td>4214</td>\n",
       "    </tr>\n",
       "    <tr>\n",
       "      <th>Pennsylvania</th>\n",
       "      <td>3218</td>\n",
       "    </tr>\n",
       "    <tr>\n",
       "      <th>Illinois</th>\n",
       "      <td>3121</td>\n",
       "    </tr>\n",
       "    <tr>\n",
       "      <th>Ohio</th>\n",
       "      <td>2949</td>\n",
       "    </tr>\n",
       "    <tr>\n",
       "      <th>Michigan</th>\n",
       "      <td>2774</td>\n",
       "    </tr>\n",
       "    <tr>\n",
       "      <th>North Carolina</th>\n",
       "      <td>2192</td>\n",
       "    </tr>\n",
       "    <tr>\n",
       "      <th>New Jersey</th>\n",
       "      <td>2007</td>\n",
       "    </tr>\n",
       "    <tr>\n",
       "      <th>Georgia</th>\n",
       "      <td>1965</td>\n",
       "    </tr>\n",
       "    <tr>\n",
       "      <th>Virginia</th>\n",
       "      <td>1900</td>\n",
       "    </tr>\n",
       "    <tr>\n",
       "      <th>Arizona</th>\n",
       "      <td>1526</td>\n",
       "    </tr>\n",
       "    <tr>\n",
       "      <th>Indiana</th>\n",
       "      <td>1508</td>\n",
       "    </tr>\n",
       "    <tr>\n",
       "      <th>Tennessee</th>\n",
       "      <td>1497</td>\n",
       "    </tr>\n",
       "    <tr>\n",
       "      <th>Massachusetts</th>\n",
       "      <td>1476</td>\n",
       "    </tr>\n",
       "    <tr>\n",
       "      <th>Washington</th>\n",
       "      <td>1455</td>\n",
       "    </tr>\n",
       "    <tr>\n",
       "      <th>Maryland</th>\n",
       "      <td>1399</td>\n",
       "    </tr>\n",
       "    <tr>\n",
       "      <th>Wisconsin</th>\n",
       "      <td>1395</td>\n",
       "    </tr>\n",
       "    <tr>\n",
       "      <th>Missouri</th>\n",
       "      <td>1393</td>\n",
       "    </tr>\n",
       "    <tr>\n",
       "      <th>Minnesota</th>\n",
       "      <td>1336</td>\n",
       "    </tr>\n",
       "    <tr>\n",
       "      <th>Colorado</th>\n",
       "      <td>1249</td>\n",
       "    </tr>\n",
       "    <tr>\n",
       "      <th>Alabama</th>\n",
       "      <td>1179</td>\n",
       "    </tr>\n",
       "    <tr>\n",
       "      <th>Louisiana</th>\n",
       "      <td>1143</td>\n",
       "    </tr>\n",
       "    <tr>\n",
       "      <th>Kentucky</th>\n",
       "      <td>1115</td>\n",
       "    </tr>\n",
       "    <tr>\n",
       "      <th>South Carolina</th>\n",
       "      <td>1103</td>\n",
       "    </tr>\n",
       "    <tr>\n",
       "      <th>Oklahoma</th>\n",
       "      <td>1046</td>\n",
       "    </tr>\n",
       "    <tr>\n",
       "      <th>Connecticut</th>\n",
       "      <td>832</td>\n",
       "    </tr>\n",
       "    <tr>\n",
       "      <th>Oregon</th>\n",
       "      <td>830</td>\n",
       "    </tr>\n",
       "    <tr>\n",
       "      <th>Iowa</th>\n",
       "      <td>825</td>\n",
       "    </tr>\n",
       "    <tr>\n",
       "      <th>Kansas</th>\n",
       "      <td>770</td>\n",
       "    </tr>\n",
       "    <tr>\n",
       "      <th>Nevada</th>\n",
       "      <td>687</td>\n",
       "    </tr>\n",
       "    <tr>\n",
       "      <th>Arkansas</th>\n",
       "      <td>686</td>\n",
       "    </tr>\n",
       "    <tr>\n",
       "      <th>Mississippi</th>\n",
       "      <td>662</td>\n",
       "    </tr>\n",
       "    <tr>\n",
       "      <th>Utah</th>\n",
       "      <td>588</td>\n",
       "    </tr>\n",
       "    <tr>\n",
       "      <th>Nebraska</th>\n",
       "      <td>532</td>\n",
       "    </tr>\n",
       "    <tr>\n",
       "      <th>New Mexico</th>\n",
       "      <td>499</td>\n",
       "    </tr>\n",
       "    <tr>\n",
       "      <th>West Virginia</th>\n",
       "      <td>484</td>\n",
       "    </tr>\n",
       "    <tr>\n",
       "      <th>Maine</th>\n",
       "      <td>355</td>\n",
       "    </tr>\n",
       "    <tr>\n",
       "      <th>Hawaii</th>\n",
       "      <td>332</td>\n",
       "    </tr>\n",
       "    <tr>\n",
       "      <th>Idaho</th>\n",
       "      <td>298</td>\n",
       "    </tr>\n",
       "    <tr>\n",
       "      <th>New Hampshire</th>\n",
       "      <td>295</td>\n",
       "    </tr>\n",
       "    <tr>\n",
       "      <th>Montana</th>\n",
       "      <td>271</td>\n",
       "    </tr>\n",
       "    <tr>\n",
       "      <th>Rhode Island</th>\n",
       "      <td>242</td>\n",
       "    </tr>\n",
       "    <tr>\n",
       "      <th>South Dakota</th>\n",
       "      <td>222</td>\n",
       "    </tr>\n",
       "    <tr>\n",
       "      <th>Delaware</th>\n",
       "      <td>218</td>\n",
       "    </tr>\n",
       "    <tr>\n",
       "      <th>North Dakota</th>\n",
       "      <td>205</td>\n",
       "    </tr>\n",
       "    <tr>\n",
       "      <th>Vermont</th>\n",
       "      <td>184</td>\n",
       "    </tr>\n",
       "    <tr>\n",
       "      <th>District of Columbia</th>\n",
       "      <td>179</td>\n",
       "    </tr>\n",
       "    <tr>\n",
       "      <th>Alaska</th>\n",
       "      <td>167</td>\n",
       "    </tr>\n",
       "    <tr>\n",
       "      <th>Wyoming</th>\n",
       "      <td>132</td>\n",
       "    </tr>\n",
       "  </tbody>\n",
       "</table>\n",
       "</div>"
      ],
      "text/plain": [
       "                      State\n",
       "California             8044\n",
       "Texas                  5258\n",
       "New York               4907\n",
       "Florida                4214\n",
       "Pennsylvania           3218\n",
       "Illinois               3121\n",
       "Ohio                   2949\n",
       "Michigan               2774\n",
       "North Carolina         2192\n",
       "New Jersey             2007\n",
       "Georgia                1965\n",
       "Virginia               1900\n",
       "Arizona                1526\n",
       "Indiana                1508\n",
       "Tennessee              1497\n",
       "Massachusetts          1476\n",
       "Washington             1455\n",
       "Maryland               1399\n",
       "Wisconsin              1395\n",
       "Missouri               1393\n",
       "Minnesota              1336\n",
       "Colorado               1249\n",
       "Alabama                1179\n",
       "Louisiana              1143\n",
       "Kentucky               1115\n",
       "South Carolina         1103\n",
       "Oklahoma               1046\n",
       "Connecticut             832\n",
       "Oregon                  830\n",
       "Iowa                    825\n",
       "Kansas                  770\n",
       "Nevada                  687\n",
       "Arkansas                686\n",
       "Mississippi             662\n",
       "Utah                    588\n",
       "Nebraska                532\n",
       "New Mexico              499\n",
       "West Virginia           484\n",
       "Maine                   355\n",
       "Hawaii                  332\n",
       "Idaho                   298\n",
       "New Hampshire           295\n",
       "Montana                 271\n",
       "Rhode Island            242\n",
       "South Dakota            222\n",
       "Delaware                218\n",
       "North Dakota            205\n",
       "Vermont                 184\n",
       "District of Columbia    179\n",
       "Alaska                  167\n",
       "Wyoming                 132"
      ]
     },
     "execution_count": 11,
     "metadata": {},
     "output_type": "execute_result"
    }
   ],
   "source": [
    "pd.DataFrame(data[\"State\"].value_counts())"
   ]
  },
  {
   "cell_type": "code",
   "execution_count": 12,
   "id": "f65ffae2",
   "metadata": {},
   "outputs": [
    {
     "data": {
      "text/html": [
       "<div>\n",
       "<style scoped>\n",
       "    .dataframe tbody tr th:only-of-type {\n",
       "        vertical-align: middle;\n",
       "    }\n",
       "\n",
       "    .dataframe tbody tr th {\n",
       "        vertical-align: top;\n",
       "    }\n",
       "\n",
       "    .dataframe thead th {\n",
       "        text-align: right;\n",
       "    }\n",
       "</style>\n",
       "<table border=\"1\" class=\"dataframe\">\n",
       "  <thead>\n",
       "    <tr style=\"text-align: right;\">\n",
       "      <th></th>\n",
       "      <th>CensusTract</th>\n",
       "      <th>State</th>\n",
       "      <th>County</th>\n",
       "      <th>Urban</th>\n",
       "      <th>POP2010</th>\n",
       "      <th>OHU2010</th>\n",
       "      <th>GroupQuartersFlag</th>\n",
       "      <th>NUMGQTRS</th>\n",
       "      <th>PCTGQTRS</th>\n",
       "      <th>LILATracts_1And10</th>\n",
       "      <th>...</th>\n",
       "      <th>TractSeniors</th>\n",
       "      <th>TractWhite</th>\n",
       "      <th>TractBlack</th>\n",
       "      <th>TractAsian</th>\n",
       "      <th>TractNHOPI</th>\n",
       "      <th>TractAIAN</th>\n",
       "      <th>TractOMultir</th>\n",
       "      <th>TractHispanic</th>\n",
       "      <th>TractHUNV</th>\n",
       "      <th>TractSNAP</th>\n",
       "    </tr>\n",
       "  </thead>\n",
       "  <tbody>\n",
       "    <tr>\n",
       "      <th>13901</th>\n",
       "      <td>11001000100</td>\n",
       "      <td>District of Columbia</td>\n",
       "      <td>District of Columbia</td>\n",
       "      <td>1</td>\n",
       "      <td>4890</td>\n",
       "      <td>2686</td>\n",
       "      <td>0</td>\n",
       "      <td>24</td>\n",
       "      <td>0.004908</td>\n",
       "      <td>0</td>\n",
       "      <td>...</td>\n",
       "      <td>885</td>\n",
       "      <td>4444</td>\n",
       "      <td>105</td>\n",
       "      <td>201</td>\n",
       "      <td>2</td>\n",
       "      <td>9</td>\n",
       "      <td>129</td>\n",
       "      <td>296</td>\n",
       "      <td>634</td>\n",
       "      <td>0</td>\n",
       "    </tr>\n",
       "    <tr>\n",
       "      <th>13902</th>\n",
       "      <td>11001000201</td>\n",
       "      <td>District of Columbia</td>\n",
       "      <td>District of Columbia</td>\n",
       "      <td>1</td>\n",
       "      <td>3916</td>\n",
       "      <td>2</td>\n",
       "      <td>1</td>\n",
       "      <td>3908</td>\n",
       "      <td>0.997957</td>\n",
       "      <td>0</td>\n",
       "      <td>...</td>\n",
       "      <td>41</td>\n",
       "      <td>2940</td>\n",
       "      <td>259</td>\n",
       "      <td>482</td>\n",
       "      <td>5</td>\n",
       "      <td>7</td>\n",
       "      <td>223</td>\n",
       "      <td>275</td>\n",
       "      <td>0</td>\n",
       "      <td>0</td>\n",
       "    </tr>\n",
       "    <tr>\n",
       "      <th>13903</th>\n",
       "      <td>11001000202</td>\n",
       "      <td>District of Columbia</td>\n",
       "      <td>District of Columbia</td>\n",
       "      <td>1</td>\n",
       "      <td>5425</td>\n",
       "      <td>1933</td>\n",
       "      <td>0</td>\n",
       "      <td>1135</td>\n",
       "      <td>0.209217</td>\n",
       "      <td>0</td>\n",
       "      <td>...</td>\n",
       "      <td>536</td>\n",
       "      <td>4705</td>\n",
       "      <td>159</td>\n",
       "      <td>375</td>\n",
       "      <td>3</td>\n",
       "      <td>5</td>\n",
       "      <td>178</td>\n",
       "      <td>343</td>\n",
       "      <td>332</td>\n",
       "      <td>0</td>\n",
       "    </tr>\n",
       "    <tr>\n",
       "      <th>13904</th>\n",
       "      <td>11001000300</td>\n",
       "      <td>District of Columbia</td>\n",
       "      <td>District of Columbia</td>\n",
       "      <td>1</td>\n",
       "      <td>6233</td>\n",
       "      <td>2754</td>\n",
       "      <td>0</td>\n",
       "      <td>0</td>\n",
       "      <td>0.000000</td>\n",
       "      <td>0</td>\n",
       "      <td>...</td>\n",
       "      <td>461</td>\n",
       "      <td>5497</td>\n",
       "      <td>139</td>\n",
       "      <td>352</td>\n",
       "      <td>1</td>\n",
       "      <td>11</td>\n",
       "      <td>233</td>\n",
       "      <td>404</td>\n",
       "      <td>408</td>\n",
       "      <td>23</td>\n",
       "    </tr>\n",
       "    <tr>\n",
       "      <th>13905</th>\n",
       "      <td>11001000400</td>\n",
       "      <td>District of Columbia</td>\n",
       "      <td>District of Columbia</td>\n",
       "      <td>1</td>\n",
       "      <td>1455</td>\n",
       "      <td>636</td>\n",
       "      <td>0</td>\n",
       "      <td>6</td>\n",
       "      <td>0.004124</td>\n",
       "      <td>0</td>\n",
       "      <td>...</td>\n",
       "      <td>278</td>\n",
       "      <td>1247</td>\n",
       "      <td>50</td>\n",
       "      <td>103</td>\n",
       "      <td>0</td>\n",
       "      <td>2</td>\n",
       "      <td>53</td>\n",
       "      <td>123</td>\n",
       "      <td>51</td>\n",
       "      <td>0</td>\n",
       "    </tr>\n",
       "    <tr>\n",
       "      <th>...</th>\n",
       "      <td>...</td>\n",
       "      <td>...</td>\n",
       "      <td>...</td>\n",
       "      <td>...</td>\n",
       "      <td>...</td>\n",
       "      <td>...</td>\n",
       "      <td>...</td>\n",
       "      <td>...</td>\n",
       "      <td>...</td>\n",
       "      <td>...</td>\n",
       "      <td>...</td>\n",
       "      <td>...</td>\n",
       "      <td>...</td>\n",
       "      <td>...</td>\n",
       "      <td>...</td>\n",
       "      <td>...</td>\n",
       "      <td>...</td>\n",
       "      <td>...</td>\n",
       "      <td>...</td>\n",
       "      <td>...</td>\n",
       "      <td>...</td>\n",
       "    </tr>\n",
       "    <tr>\n",
       "      <th>14075</th>\n",
       "      <td>11001010700</td>\n",
       "      <td>District of Columbia</td>\n",
       "      <td>District of Columbia</td>\n",
       "      <td>1</td>\n",
       "      <td>1838</td>\n",
       "      <td>1244</td>\n",
       "      <td>0</td>\n",
       "      <td>192</td>\n",
       "      <td>0.104461</td>\n",
       "      <td>0</td>\n",
       "      <td>...</td>\n",
       "      <td>119</td>\n",
       "      <td>1442</td>\n",
       "      <td>89</td>\n",
       "      <td>209</td>\n",
       "      <td>0</td>\n",
       "      <td>6</td>\n",
       "      <td>92</td>\n",
       "      <td>137</td>\n",
       "      <td>730</td>\n",
       "      <td>0</td>\n",
       "    </tr>\n",
       "    <tr>\n",
       "      <th>14076</th>\n",
       "      <td>11001010800</td>\n",
       "      <td>District of Columbia</td>\n",
       "      <td>District of Columbia</td>\n",
       "      <td>1</td>\n",
       "      <td>6408</td>\n",
       "      <td>1034</td>\n",
       "      <td>1</td>\n",
       "      <td>5079</td>\n",
       "      <td>0.792603</td>\n",
       "      <td>0</td>\n",
       "      <td>...</td>\n",
       "      <td>65</td>\n",
       "      <td>5146</td>\n",
       "      <td>279</td>\n",
       "      <td>708</td>\n",
       "      <td>3</td>\n",
       "      <td>2</td>\n",
       "      <td>270</td>\n",
       "      <td>268</td>\n",
       "      <td>655</td>\n",
       "      <td>21</td>\n",
       "    </tr>\n",
       "    <tr>\n",
       "      <th>14077</th>\n",
       "      <td>11001010900</td>\n",
       "      <td>District of Columbia</td>\n",
       "      <td>District of Columbia</td>\n",
       "      <td>1</td>\n",
       "      <td>3211</td>\n",
       "      <td>1161</td>\n",
       "      <td>0</td>\n",
       "      <td>447</td>\n",
       "      <td>0.139209</td>\n",
       "      <td>0</td>\n",
       "      <td>...</td>\n",
       "      <td>147</td>\n",
       "      <td>58</td>\n",
       "      <td>3055</td>\n",
       "      <td>15</td>\n",
       "      <td>0</td>\n",
       "      <td>6</td>\n",
       "      <td>77</td>\n",
       "      <td>47</td>\n",
       "      <td>589</td>\n",
       "      <td>476</td>\n",
       "    </tr>\n",
       "    <tr>\n",
       "      <th>14078</th>\n",
       "      <td>11001011000</td>\n",
       "      <td>District of Columbia</td>\n",
       "      <td>District of Columbia</td>\n",
       "      <td>1</td>\n",
       "      <td>3715</td>\n",
       "      <td>2345</td>\n",
       "      <td>0</td>\n",
       "      <td>84</td>\n",
       "      <td>0.022611</td>\n",
       "      <td>0</td>\n",
       "      <td>...</td>\n",
       "      <td>803</td>\n",
       "      <td>1632</td>\n",
       "      <td>1712</td>\n",
       "      <td>140</td>\n",
       "      <td>3</td>\n",
       "      <td>29</td>\n",
       "      <td>199</td>\n",
       "      <td>183</td>\n",
       "      <td>568</td>\n",
       "      <td>74</td>\n",
       "    </tr>\n",
       "    <tr>\n",
       "      <th>14079</th>\n",
       "      <td>11001011100</td>\n",
       "      <td>District of Columbia</td>\n",
       "      <td>District of Columbia</td>\n",
       "      <td>1</td>\n",
       "      <td>4859</td>\n",
       "      <td>1727</td>\n",
       "      <td>0</td>\n",
       "      <td>564</td>\n",
       "      <td>0.116073</td>\n",
       "      <td>0</td>\n",
       "      <td>...</td>\n",
       "      <td>958</td>\n",
       "      <td>322</td>\n",
       "      <td>4192</td>\n",
       "      <td>15</td>\n",
       "      <td>1</td>\n",
       "      <td>24</td>\n",
       "      <td>305</td>\n",
       "      <td>337</td>\n",
       "      <td>349</td>\n",
       "      <td>299</td>\n",
       "    </tr>\n",
       "  </tbody>\n",
       "</table>\n",
       "<p>179 rows × 147 columns</p>\n",
       "</div>"
      ],
      "text/plain": [
       "       CensusTract                 State                County  Urban  \\\n",
       "13901  11001000100  District of Columbia  District of Columbia      1   \n",
       "13902  11001000201  District of Columbia  District of Columbia      1   \n",
       "13903  11001000202  District of Columbia  District of Columbia      1   \n",
       "13904  11001000300  District of Columbia  District of Columbia      1   \n",
       "13905  11001000400  District of Columbia  District of Columbia      1   \n",
       "...            ...                   ...                   ...    ...   \n",
       "14075  11001010700  District of Columbia  District of Columbia      1   \n",
       "14076  11001010800  District of Columbia  District of Columbia      1   \n",
       "14077  11001010900  District of Columbia  District of Columbia      1   \n",
       "14078  11001011000  District of Columbia  District of Columbia      1   \n",
       "14079  11001011100  District of Columbia  District of Columbia      1   \n",
       "\n",
       "       POP2010  OHU2010  GroupQuartersFlag  NUMGQTRS  PCTGQTRS  \\\n",
       "13901     4890     2686                  0        24  0.004908   \n",
       "13902     3916        2                  1      3908  0.997957   \n",
       "13903     5425     1933                  0      1135  0.209217   \n",
       "13904     6233     2754                  0         0  0.000000   \n",
       "13905     1455      636                  0         6  0.004124   \n",
       "...        ...      ...                ...       ...       ...   \n",
       "14075     1838     1244                  0       192  0.104461   \n",
       "14076     6408     1034                  1      5079  0.792603   \n",
       "14077     3211     1161                  0       447  0.139209   \n",
       "14078     3715     2345                  0        84  0.022611   \n",
       "14079     4859     1727                  0       564  0.116073   \n",
       "\n",
       "       LILATracts_1And10  ...  TractSeniors  TractWhite  TractBlack  \\\n",
       "13901                  0  ...           885        4444         105   \n",
       "13902                  0  ...            41        2940         259   \n",
       "13903                  0  ...           536        4705         159   \n",
       "13904                  0  ...           461        5497         139   \n",
       "13905                  0  ...           278        1247          50   \n",
       "...                  ...  ...           ...         ...         ...   \n",
       "14075                  0  ...           119        1442          89   \n",
       "14076                  0  ...            65        5146         279   \n",
       "14077                  0  ...           147          58        3055   \n",
       "14078                  0  ...           803        1632        1712   \n",
       "14079                  0  ...           958         322        4192   \n",
       "\n",
       "       TractAsian  TractNHOPI  TractAIAN  TractOMultir  TractHispanic  \\\n",
       "13901         201           2          9           129            296   \n",
       "13902         482           5          7           223            275   \n",
       "13903         375           3          5           178            343   \n",
       "13904         352           1         11           233            404   \n",
       "13905         103           0          2            53            123   \n",
       "...           ...         ...        ...           ...            ...   \n",
       "14075         209           0          6            92            137   \n",
       "14076         708           3          2           270            268   \n",
       "14077          15           0          6            77             47   \n",
       "14078         140           3         29           199            183   \n",
       "14079          15           1         24           305            337   \n",
       "\n",
       "       TractHUNV  TractSNAP  \n",
       "13901        634          0  \n",
       "13902          0          0  \n",
       "13903        332          0  \n",
       "13904        408         23  \n",
       "13905         51          0  \n",
       "...          ...        ...  \n",
       "14075        730          0  \n",
       "14076        655         21  \n",
       "14077        589        476  \n",
       "14078        568         74  \n",
       "14079        349        299  \n",
       "\n",
       "[179 rows x 147 columns]"
      ]
     },
     "execution_count": 12,
     "metadata": {},
     "output_type": "execute_result"
    }
   ],
   "source": [
    "data[data[\"State\"] == \"District of Columbia\" ] "
   ]
  },
  {
   "cell_type": "markdown",
   "id": "63cf8460",
   "metadata": {},
   "source": [
    "## Question 1.2"
   ]
  },
  {
   "cell_type": "code",
   "execution_count": 13,
   "id": "70eae295",
   "metadata": {},
   "outputs": [
    {
     "data": {
      "text/plain": [
       "0        0\n",
       "1        0\n",
       "2        0\n",
       "3        0\n",
       "4        0\n",
       "        ..\n",
       "72859    0\n",
       "72860    0\n",
       "72861    0\n",
       "72862    0\n",
       "72863    0\n",
       "Name: LILATracts_1And10, Length: 72864, dtype: int64"
      ]
     },
     "execution_count": 13,
     "metadata": {},
     "output_type": "execute_result"
    }
   ],
   "source": [
    "data[\"LILATracts_1And10\"]"
   ]
  },
  {
   "cell_type": "markdown",
   "id": "08cf8230",
   "metadata": {},
   "source": [
    "# Question 2"
   ]
  },
  {
   "cell_type": "code",
   "execution_count": 14,
   "id": "cc7aba96",
   "metadata": {},
   "outputs": [
    {
     "data": {
      "text/plain": [
       "1    55172\n",
       "0    17692\n",
       "Name: Urban, dtype: int64"
      ]
     },
     "execution_count": 14,
     "metadata": {},
     "output_type": "execute_result"
    }
   ],
   "source": [
    "data[\"Urban\"].value_counts()"
   ]
  },
  {
   "cell_type": "markdown",
   "id": "f2d8f7aa",
   "metadata": {},
   "source": [
    "75 % of the tracts are urban"
   ]
  },
  {
   "cell_type": "code",
   "execution_count": 15,
   "id": "80c3027f",
   "metadata": {},
   "outputs": [
    {
     "data": {
      "text/plain": [
       "0.757191480017567"
      ]
     },
     "execution_count": 15,
     "metadata": {},
     "output_type": "execute_result"
    }
   ],
   "source": [
    "55172 / (55172 + 17692)"
   ]
  },
  {
   "cell_type": "code",
   "execution_count": 16,
   "id": "e36fb4d5",
   "metadata": {},
   "outputs": [
    {
     "data": {
      "text/plain": [
       "Urban  LILATracts_1And10\n",
       "0      0                    16352\n",
       "       1                     1340\n",
       "1      0                    47267\n",
       "       1                     7905\n",
       "Name: LILATracts_1And10, dtype: int64"
      ]
     },
     "execution_count": 16,
     "metadata": {},
     "output_type": "execute_result"
    }
   ],
   "source": [
    "data.groupby(\"Urban\")[\"LILATracts_1And10\"].value_counts()"
   ]
  },
  {
   "cell_type": "markdown",
   "id": "fb1d924b",
   "metadata": {},
   "source": [
    "### Urban\n",
    "Out of the 75% urban tracts, 14% are food deserts"
   ]
  },
  {
   "cell_type": "code",
   "execution_count": 17,
   "id": "29e74362",
   "metadata": {},
   "outputs": [
    {
     "data": {
      "text/plain": [
       "14.327919959399695"
      ]
     },
     "execution_count": 17,
     "metadata": {},
     "output_type": "execute_result"
    }
   ],
   "source": [
    "(7905/(47267+7905))*100"
   ]
  },
  {
   "cell_type": "markdown",
   "id": "007352c8",
   "metadata": {},
   "source": [
    "### Rural\n",
    "Out of the 25% Rural tracts, 7% are food deserts"
   ]
  },
  {
   "cell_type": "code",
   "execution_count": 18,
   "id": "05d82001",
   "metadata": {},
   "outputs": [
    {
     "data": {
      "text/plain": [
       "7.57404476599593"
      ]
     },
     "execution_count": 18,
     "metadata": {},
     "output_type": "execute_result"
    }
   ],
   "source": [
    "(1340/(1340+16352))*100"
   ]
  },
  {
   "cell_type": "code",
   "execution_count": 19,
   "id": "9d32e996",
   "metadata": {},
   "outputs": [
    {
     "data": {
      "text/plain": [
       "CensusTract      72864\n",
       "State               51\n",
       "County            1837\n",
       "Urban                2\n",
       "POP2010           9123\n",
       "                 ...  \n",
       "TractAIAN          972\n",
       "TractOMultir      2979\n",
       "TractHispanic     5256\n",
       "TractHUNV         1601\n",
       "TractSNAP         1200\n",
       "Length: 147, dtype: int64"
      ]
     },
     "execution_count": 19,
     "metadata": {},
     "output_type": "execute_result"
    }
   ],
   "source": [
    "data.nunique()"
   ]
  },
  {
   "cell_type": "markdown",
   "id": "8717bcd0",
   "metadata": {},
   "source": [
    "CensusTract      72864\n",
    "State               51\n",
    "County            1837"
   ]
  },
  {
   "cell_type": "code",
   "execution_count": 20,
   "id": "ecec6d0e",
   "metadata": {},
   "outputs": [
    {
     "data": {
      "text/html": [
       "<div>\n",
       "<style scoped>\n",
       "    .dataframe tbody tr th:only-of-type {\n",
       "        vertical-align: middle;\n",
       "    }\n",
       "\n",
       "    .dataframe tbody tr th {\n",
       "        vertical-align: top;\n",
       "    }\n",
       "\n",
       "    .dataframe thead th {\n",
       "        text-align: right;\n",
       "    }\n",
       "</style>\n",
       "<table border=\"1\" class=\"dataframe\">\n",
       "  <thead>\n",
       "    <tr style=\"text-align: right;\">\n",
       "      <th></th>\n",
       "      <th>CensusTract</th>\n",
       "      <th>State</th>\n",
       "      <th>County</th>\n",
       "      <th>Urban</th>\n",
       "      <th>POP2010</th>\n",
       "      <th>OHU2010</th>\n",
       "      <th>GroupQuartersFlag</th>\n",
       "      <th>NUMGQTRS</th>\n",
       "      <th>PCTGQTRS</th>\n",
       "      <th>LILATracts_1And10</th>\n",
       "      <th>...</th>\n",
       "      <th>TractSeniors</th>\n",
       "      <th>TractWhite</th>\n",
       "      <th>TractBlack</th>\n",
       "      <th>TractAsian</th>\n",
       "      <th>TractNHOPI</th>\n",
       "      <th>TractAIAN</th>\n",
       "      <th>TractOMultir</th>\n",
       "      <th>TractHispanic</th>\n",
       "      <th>TractHUNV</th>\n",
       "      <th>TractSNAP</th>\n",
       "    </tr>\n",
       "  </thead>\n",
       "  <tbody>\n",
       "    <tr>\n",
       "      <th>1179</th>\n",
       "      <td>2013000100</td>\n",
       "      <td>Alaska</td>\n",
       "      <td>Aleutians East</td>\n",
       "      <td>0</td>\n",
       "      <td>3141</td>\n",
       "      <td>553</td>\n",
       "      <td>0</td>\n",
       "      <td>1726</td>\n",
       "      <td>0.549507</td>\n",
       "      <td>1</td>\n",
       "      <td>...</td>\n",
       "      <td>155</td>\n",
       "      <td>660</td>\n",
       "      <td>219</td>\n",
       "      <td>1130</td>\n",
       "      <td>19</td>\n",
       "      <td>876</td>\n",
       "      <td>237</td>\n",
       "      <td>385</td>\n",
       "      <td>124</td>\n",
       "      <td>84</td>\n",
       "    </tr>\n",
       "    <tr>\n",
       "      <th>1180</th>\n",
       "      <td>2016000100</td>\n",
       "      <td>Alaska</td>\n",
       "      <td>Aleutians West</td>\n",
       "      <td>0</td>\n",
       "      <td>1185</td>\n",
       "      <td>285</td>\n",
       "      <td>0</td>\n",
       "      <td>444</td>\n",
       "      <td>0.374684</td>\n",
       "      <td>1</td>\n",
       "      <td>...</td>\n",
       "      <td>75</td>\n",
       "      <td>289</td>\n",
       "      <td>32</td>\n",
       "      <td>178</td>\n",
       "      <td>7</td>\n",
       "      <td>589</td>\n",
       "      <td>90</td>\n",
       "      <td>60</td>\n",
       "      <td>88</td>\n",
       "      <td>31</td>\n",
       "    </tr>\n",
       "    <tr>\n",
       "      <th>1181</th>\n",
       "      <td>2016000200</td>\n",
       "      <td>Alaska</td>\n",
       "      <td>Aleutians West</td>\n",
       "      <td>0</td>\n",
       "      <td>4376</td>\n",
       "      <td>927</td>\n",
       "      <td>0</td>\n",
       "      <td>2099</td>\n",
       "      <td>0.479662</td>\n",
       "      <td>0</td>\n",
       "      <td>...</td>\n",
       "      <td>118</td>\n",
       "      <td>1715</td>\n",
       "      <td>300</td>\n",
       "      <td>1428</td>\n",
       "      <td>96</td>\n",
       "      <td>268</td>\n",
       "      <td>569</td>\n",
       "      <td>666</td>\n",
       "      <td>88</td>\n",
       "      <td>47</td>\n",
       "    </tr>\n",
       "    <tr>\n",
       "      <th>1182</th>\n",
       "      <td>2020000101</td>\n",
       "      <td>Alaska</td>\n",
       "      <td>Anchorage</td>\n",
       "      <td>1</td>\n",
       "      <td>5736</td>\n",
       "      <td>1946</td>\n",
       "      <td>0</td>\n",
       "      <td>139</td>\n",
       "      <td>0.024233</td>\n",
       "      <td>0</td>\n",
       "      <td>...</td>\n",
       "      <td>300</td>\n",
       "      <td>4951</td>\n",
       "      <td>57</td>\n",
       "      <td>73</td>\n",
       "      <td>4</td>\n",
       "      <td>295</td>\n",
       "      <td>356</td>\n",
       "      <td>209</td>\n",
       "      <td>21</td>\n",
       "      <td>65</td>\n",
       "    </tr>\n",
       "    <tr>\n",
       "      <th>1183</th>\n",
       "      <td>2020000102</td>\n",
       "      <td>Alaska</td>\n",
       "      <td>Anchorage</td>\n",
       "      <td>0</td>\n",
       "      <td>5259</td>\n",
       "      <td>2010</td>\n",
       "      <td>0</td>\n",
       "      <td>16</td>\n",
       "      <td>0.003042</td>\n",
       "      <td>0</td>\n",
       "      <td>...</td>\n",
       "      <td>479</td>\n",
       "      <td>4391</td>\n",
       "      <td>48</td>\n",
       "      <td>121</td>\n",
       "      <td>12</td>\n",
       "      <td>286</td>\n",
       "      <td>401</td>\n",
       "      <td>201</td>\n",
       "      <td>73</td>\n",
       "      <td>106</td>\n",
       "    </tr>\n",
       "    <tr>\n",
       "      <th>...</th>\n",
       "      <td>...</td>\n",
       "      <td>...</td>\n",
       "      <td>...</td>\n",
       "      <td>...</td>\n",
       "      <td>...</td>\n",
       "      <td>...</td>\n",
       "      <td>...</td>\n",
       "      <td>...</td>\n",
       "      <td>...</td>\n",
       "      <td>...</td>\n",
       "      <td>...</td>\n",
       "      <td>...</td>\n",
       "      <td>...</td>\n",
       "      <td>...</td>\n",
       "      <td>...</td>\n",
       "      <td>...</td>\n",
       "      <td>...</td>\n",
       "      <td>...</td>\n",
       "      <td>...</td>\n",
       "      <td>...</td>\n",
       "      <td>...</td>\n",
       "    </tr>\n",
       "    <tr>\n",
       "      <th>1341</th>\n",
       "      <td>2282000100</td>\n",
       "      <td>Alaska</td>\n",
       "      <td>Yakutat</td>\n",
       "      <td>0</td>\n",
       "      <td>662</td>\n",
       "      <td>270</td>\n",
       "      <td>0</td>\n",
       "      <td>18</td>\n",
       "      <td>0.027190</td>\n",
       "      <td>0</td>\n",
       "      <td>...</td>\n",
       "      <td>64</td>\n",
       "      <td>281</td>\n",
       "      <td>2</td>\n",
       "      <td>27</td>\n",
       "      <td>12</td>\n",
       "      <td>237</td>\n",
       "      <td>103</td>\n",
       "      <td>17</td>\n",
       "      <td>26</td>\n",
       "      <td>26</td>\n",
       "    </tr>\n",
       "    <tr>\n",
       "      <th>1342</th>\n",
       "      <td>2290000100</td>\n",
       "      <td>Alaska</td>\n",
       "      <td>Yukon-Koyukuk</td>\n",
       "      <td>0</td>\n",
       "      <td>1311</td>\n",
       "      <td>558</td>\n",
       "      <td>0</td>\n",
       "      <td>2</td>\n",
       "      <td>0.001526</td>\n",
       "      <td>1</td>\n",
       "      <td>...</td>\n",
       "      <td>117</td>\n",
       "      <td>185</td>\n",
       "      <td>3</td>\n",
       "      <td>2</td>\n",
       "      <td>3</td>\n",
       "      <td>1076</td>\n",
       "      <td>42</td>\n",
       "      <td>13</td>\n",
       "      <td>340</td>\n",
       "      <td>222</td>\n",
       "    </tr>\n",
       "    <tr>\n",
       "      <th>1343</th>\n",
       "      <td>2290000200</td>\n",
       "      <td>Alaska</td>\n",
       "      <td>Yukon-Koyukuk</td>\n",
       "      <td>0</td>\n",
       "      <td>1461</td>\n",
       "      <td>595</td>\n",
       "      <td>0</td>\n",
       "      <td>28</td>\n",
       "      <td>0.019165</td>\n",
       "      <td>1</td>\n",
       "      <td>...</td>\n",
       "      <td>172</td>\n",
       "      <td>640</td>\n",
       "      <td>5</td>\n",
       "      <td>4</td>\n",
       "      <td>0</td>\n",
       "      <td>713</td>\n",
       "      <td>99</td>\n",
       "      <td>27</td>\n",
       "      <td>130</td>\n",
       "      <td>134</td>\n",
       "    </tr>\n",
       "    <tr>\n",
       "      <th>1344</th>\n",
       "      <td>2290000300</td>\n",
       "      <td>Alaska</td>\n",
       "      <td>Yukon-Koyukuk</td>\n",
       "      <td>0</td>\n",
       "      <td>1758</td>\n",
       "      <td>658</td>\n",
       "      <td>0</td>\n",
       "      <td>0</td>\n",
       "      <td>0.000000</td>\n",
       "      <td>1</td>\n",
       "      <td>...</td>\n",
       "      <td>183</td>\n",
       "      <td>198</td>\n",
       "      <td>2</td>\n",
       "      <td>6</td>\n",
       "      <td>0</td>\n",
       "      <td>1495</td>\n",
       "      <td>57</td>\n",
       "      <td>14</td>\n",
       "      <td>330</td>\n",
       "      <td>208</td>\n",
       "    </tr>\n",
       "    <tr>\n",
       "      <th>1345</th>\n",
       "      <td>2290000400</td>\n",
       "      <td>Alaska</td>\n",
       "      <td>Yukon-Koyukuk</td>\n",
       "      <td>0</td>\n",
       "      <td>1058</td>\n",
       "      <td>406</td>\n",
       "      <td>0</td>\n",
       "      <td>1</td>\n",
       "      <td>0.000945</td>\n",
       "      <td>1</td>\n",
       "      <td>...</td>\n",
       "      <td>97</td>\n",
       "      <td>220</td>\n",
       "      <td>0</td>\n",
       "      <td>2</td>\n",
       "      <td>3</td>\n",
       "      <td>708</td>\n",
       "      <td>125</td>\n",
       "      <td>12</td>\n",
       "      <td>216</td>\n",
       "      <td>101</td>\n",
       "    </tr>\n",
       "  </tbody>\n",
       "</table>\n",
       "<p>167 rows × 147 columns</p>\n",
       "</div>"
      ],
      "text/plain": [
       "      CensusTract   State          County  Urban  POP2010  OHU2010  \\\n",
       "1179   2013000100  Alaska  Aleutians East      0     3141      553   \n",
       "1180   2016000100  Alaska  Aleutians West      0     1185      285   \n",
       "1181   2016000200  Alaska  Aleutians West      0     4376      927   \n",
       "1182   2020000101  Alaska       Anchorage      1     5736     1946   \n",
       "1183   2020000102  Alaska       Anchorage      0     5259     2010   \n",
       "...           ...     ...             ...    ...      ...      ...   \n",
       "1341   2282000100  Alaska         Yakutat      0      662      270   \n",
       "1342   2290000100  Alaska   Yukon-Koyukuk      0     1311      558   \n",
       "1343   2290000200  Alaska   Yukon-Koyukuk      0     1461      595   \n",
       "1344   2290000300  Alaska   Yukon-Koyukuk      0     1758      658   \n",
       "1345   2290000400  Alaska   Yukon-Koyukuk      0     1058      406   \n",
       "\n",
       "      GroupQuartersFlag  NUMGQTRS  PCTGQTRS  LILATracts_1And10  ...  \\\n",
       "1179                  0      1726  0.549507                  1  ...   \n",
       "1180                  0       444  0.374684                  1  ...   \n",
       "1181                  0      2099  0.479662                  0  ...   \n",
       "1182                  0       139  0.024233                  0  ...   \n",
       "1183                  0        16  0.003042                  0  ...   \n",
       "...                 ...       ...       ...                ...  ...   \n",
       "1341                  0        18  0.027190                  0  ...   \n",
       "1342                  0         2  0.001526                  1  ...   \n",
       "1343                  0        28  0.019165                  1  ...   \n",
       "1344                  0         0  0.000000                  1  ...   \n",
       "1345                  0         1  0.000945                  1  ...   \n",
       "\n",
       "      TractSeniors  TractWhite  TractBlack  TractAsian  TractNHOPI  TractAIAN  \\\n",
       "1179           155         660         219        1130          19        876   \n",
       "1180            75         289          32         178           7        589   \n",
       "1181           118        1715         300        1428          96        268   \n",
       "1182           300        4951          57          73           4        295   \n",
       "1183           479        4391          48         121          12        286   \n",
       "...            ...         ...         ...         ...         ...        ...   \n",
       "1341            64         281           2          27          12        237   \n",
       "1342           117         185           3           2           3       1076   \n",
       "1343           172         640           5           4           0        713   \n",
       "1344           183         198           2           6           0       1495   \n",
       "1345            97         220           0           2           3        708   \n",
       "\n",
       "      TractOMultir  TractHispanic  TractHUNV  TractSNAP  \n",
       "1179           237            385        124         84  \n",
       "1180            90             60         88         31  \n",
       "1181           569            666         88         47  \n",
       "1182           356            209         21         65  \n",
       "1183           401            201         73        106  \n",
       "...            ...            ...        ...        ...  \n",
       "1341           103             17         26         26  \n",
       "1342            42             13        340        222  \n",
       "1343            99             27        130        134  \n",
       "1344            57             14        330        208  \n",
       "1345           125             12        216        101  \n",
       "\n",
       "[167 rows x 147 columns]"
      ]
     },
     "execution_count": 20,
     "metadata": {},
     "output_type": "execute_result"
    }
   ],
   "source": [
    "data[data[\"State\"] == \"Alaska\"]"
   ]
  },
  {
   "cell_type": "code",
   "execution_count": 21,
   "id": "ce61c1f8",
   "metadata": {},
   "outputs": [
    {
     "data": {
      "text/html": [
       "<div>\n",
       "<style scoped>\n",
       "    .dataframe tbody tr th:only-of-type {\n",
       "        vertical-align: middle;\n",
       "    }\n",
       "\n",
       "    .dataframe tbody tr th {\n",
       "        vertical-align: top;\n",
       "    }\n",
       "\n",
       "    .dataframe thead th {\n",
       "        text-align: right;\n",
       "    }\n",
       "</style>\n",
       "<table border=\"1\" class=\"dataframe\">\n",
       "  <thead>\n",
       "    <tr style=\"text-align: right;\">\n",
       "      <th></th>\n",
       "      <th>CensusTract</th>\n",
       "      <th>Urban</th>\n",
       "      <th>POP2010</th>\n",
       "      <th>OHU2010</th>\n",
       "      <th>GroupQuartersFlag</th>\n",
       "      <th>NUMGQTRS</th>\n",
       "      <th>PCTGQTRS</th>\n",
       "      <th>LILATracts_1And10</th>\n",
       "      <th>LILATracts_halfAnd10</th>\n",
       "      <th>LILATracts_1And20</th>\n",
       "      <th>...</th>\n",
       "      <th>TractSeniors</th>\n",
       "      <th>TractWhite</th>\n",
       "      <th>TractBlack</th>\n",
       "      <th>TractAsian</th>\n",
       "      <th>TractNHOPI</th>\n",
       "      <th>TractAIAN</th>\n",
       "      <th>TractOMultir</th>\n",
       "      <th>TractHispanic</th>\n",
       "      <th>TractHUNV</th>\n",
       "      <th>TractSNAP</th>\n",
       "    </tr>\n",
       "  </thead>\n",
       "  <tbody>\n",
       "    <tr>\n",
       "      <th>count</th>\n",
       "      <td>7.286400e+04</td>\n",
       "      <td>72864.000000</td>\n",
       "      <td>72864.000000</td>\n",
       "      <td>72864.000000</td>\n",
       "      <td>72864.000000</td>\n",
       "      <td>72864.000000</td>\n",
       "      <td>72864.000000</td>\n",
       "      <td>72864.000000</td>\n",
       "      <td>72864.000000</td>\n",
       "      <td>72864.000000</td>\n",
       "      <td>...</td>\n",
       "      <td>72864.000000</td>\n",
       "      <td>72864.000000</td>\n",
       "      <td>72864.000000</td>\n",
       "      <td>72864.000000</td>\n",
       "      <td>72864.000000</td>\n",
       "      <td>72864.000000</td>\n",
       "      <td>72864.000000</td>\n",
       "      <td>72864.000000</td>\n",
       "      <td>72864.000000</td>\n",
       "      <td>72864.000000</td>\n",
       "    </tr>\n",
       "    <tr>\n",
       "      <th>mean</th>\n",
       "      <td>2.783045e+10</td>\n",
       "      <td>0.757191</td>\n",
       "      <td>4237.285052</td>\n",
       "      <td>1601.837560</td>\n",
       "      <td>0.007082</td>\n",
       "      <td>109.619606</td>\n",
       "      <td>0.026961</td>\n",
       "      <td>0.126880</td>\n",
       "      <td>0.282115</td>\n",
       "      <td>0.111235</td>\n",
       "      <td>...</td>\n",
       "      <td>552.645806</td>\n",
       "      <td>3068.089386</td>\n",
       "      <td>534.273702</td>\n",
       "      <td>201.392347</td>\n",
       "      <td>7.411246</td>\n",
       "      <td>40.242754</td>\n",
       "      <td>385.875618</td>\n",
       "      <td>692.764520</td>\n",
       "      <td>145.356239</td>\n",
       "      <td>207.022206</td>\n",
       "    </tr>\n",
       "    <tr>\n",
       "      <th>std</th>\n",
       "      <td>1.581256e+10</td>\n",
       "      <td>0.428783</td>\n",
       "      <td>1972.520112</td>\n",
       "      <td>732.106217</td>\n",
       "      <td>0.083855</td>\n",
       "      <td>442.922669</td>\n",
       "      <td>0.095494</td>\n",
       "      <td>0.332841</td>\n",
       "      <td>0.450032</td>\n",
       "      <td>0.314425</td>\n",
       "      <td>...</td>\n",
       "      <td>352.988078</td>\n",
       "      <td>1804.353298</td>\n",
       "      <td>887.806852</td>\n",
       "      <td>435.085612</td>\n",
       "      <td>45.084789</td>\n",
       "      <td>181.024758</td>\n",
       "      <td>528.776237</td>\n",
       "      <td>1117.876349</td>\n",
       "      <td>230.201932</td>\n",
       "      <td>187.188807</td>\n",
       "    </tr>\n",
       "    <tr>\n",
       "      <th>min</th>\n",
       "      <td>1.001020e+09</td>\n",
       "      <td>0.000000</td>\n",
       "      <td>0.000000</td>\n",
       "      <td>0.000000</td>\n",
       "      <td>0.000000</td>\n",
       "      <td>0.000000</td>\n",
       "      <td>0.000000</td>\n",
       "      <td>0.000000</td>\n",
       "      <td>0.000000</td>\n",
       "      <td>0.000000</td>\n",
       "      <td>...</td>\n",
       "      <td>0.000000</td>\n",
       "      <td>0.000000</td>\n",
       "      <td>0.000000</td>\n",
       "      <td>0.000000</td>\n",
       "      <td>0.000000</td>\n",
       "      <td>0.000000</td>\n",
       "      <td>0.000000</td>\n",
       "      <td>0.000000</td>\n",
       "      <td>0.000000</td>\n",
       "      <td>0.000000</td>\n",
       "    </tr>\n",
       "    <tr>\n",
       "      <th>25%</th>\n",
       "      <td>1.212708e+10</td>\n",
       "      <td>1.000000</td>\n",
       "      <td>2883.750000</td>\n",
       "      <td>1102.000000</td>\n",
       "      <td>0.000000</td>\n",
       "      <td>0.000000</td>\n",
       "      <td>0.000000</td>\n",
       "      <td>0.000000</td>\n",
       "      <td>0.000000</td>\n",
       "      <td>0.000000</td>\n",
       "      <td>...</td>\n",
       "      <td>318.000000</td>\n",
       "      <td>1832.000000</td>\n",
       "      <td>42.000000</td>\n",
       "      <td>17.000000</td>\n",
       "      <td>0.000000</td>\n",
       "      <td>7.000000</td>\n",
       "      <td>83.000000</td>\n",
       "      <td>87.000000</td>\n",
       "      <td>37.000000</td>\n",
       "      <td>69.000000</td>\n",
       "    </tr>\n",
       "    <tr>\n",
       "      <th>50%</th>\n",
       "      <td>2.712979e+10</td>\n",
       "      <td>1.000000</td>\n",
       "      <td>4002.000000</td>\n",
       "      <td>1521.000000</td>\n",
       "      <td>0.000000</td>\n",
       "      <td>7.000000</td>\n",
       "      <td>0.001779</td>\n",
       "      <td>0.000000</td>\n",
       "      <td>0.000000</td>\n",
       "      <td>0.000000</td>\n",
       "      <td>...</td>\n",
       "      <td>495.000000</td>\n",
       "      <td>2903.000000</td>\n",
       "      <td>158.000000</td>\n",
       "      <td>57.000000</td>\n",
       "      <td>1.000000</td>\n",
       "      <td>15.000000</td>\n",
       "      <td>184.000000</td>\n",
       "      <td>240.000000</td>\n",
       "      <td>84.000000</td>\n",
       "      <td>158.000000</td>\n",
       "    </tr>\n",
       "    <tr>\n",
       "      <th>75%</th>\n",
       "      <td>4.103900e+10</td>\n",
       "      <td>1.000000</td>\n",
       "      <td>5323.000000</td>\n",
       "      <td>2018.000000</td>\n",
       "      <td>0.000000</td>\n",
       "      <td>63.000000</td>\n",
       "      <td>0.015516</td>\n",
       "      <td>0.000000</td>\n",
       "      <td>1.000000</td>\n",
       "      <td>0.000000</td>\n",
       "      <td>...</td>\n",
       "      <td>716.000000</td>\n",
       "      <td>4111.000000</td>\n",
       "      <td>606.000000</td>\n",
       "      <td>188.000000</td>\n",
       "      <td>5.000000</td>\n",
       "      <td>33.000000</td>\n",
       "      <td>446.000000</td>\n",
       "      <td>746.000000</td>\n",
       "      <td>172.000000</td>\n",
       "      <td>293.000000</td>\n",
       "    </tr>\n",
       "    <tr>\n",
       "      <th>max</th>\n",
       "      <td>5.604595e+10</td>\n",
       "      <td>1.000000</td>\n",
       "      <td>37452.000000</td>\n",
       "      <td>16043.000000</td>\n",
       "      <td>1.000000</td>\n",
       "      <td>19496.000000</td>\n",
       "      <td>1.000000</td>\n",
       "      <td>1.000000</td>\n",
       "      <td>1.000000</td>\n",
       "      <td>1.000000</td>\n",
       "      <td>...</td>\n",
       "      <td>17271.000000</td>\n",
       "      <td>28983.000000</td>\n",
       "      <td>16804.000000</td>\n",
       "      <td>10485.000000</td>\n",
       "      <td>3491.000000</td>\n",
       "      <td>9009.000000</td>\n",
       "      <td>8839.000000</td>\n",
       "      <td>15420.000000</td>\n",
       "      <td>6176.000000</td>\n",
       "      <td>2152.000000</td>\n",
       "    </tr>\n",
       "  </tbody>\n",
       "</table>\n",
       "<p>8 rows × 145 columns</p>\n",
       "</div>"
      ],
      "text/plain": [
       "        CensusTract         Urban       POP2010       OHU2010  \\\n",
       "count  7.286400e+04  72864.000000  72864.000000  72864.000000   \n",
       "mean   2.783045e+10      0.757191   4237.285052   1601.837560   \n",
       "std    1.581256e+10      0.428783   1972.520112    732.106217   \n",
       "min    1.001020e+09      0.000000      0.000000      0.000000   \n",
       "25%    1.212708e+10      1.000000   2883.750000   1102.000000   \n",
       "50%    2.712979e+10      1.000000   4002.000000   1521.000000   \n",
       "75%    4.103900e+10      1.000000   5323.000000   2018.000000   \n",
       "max    5.604595e+10      1.000000  37452.000000  16043.000000   \n",
       "\n",
       "       GroupQuartersFlag      NUMGQTRS      PCTGQTRS  LILATracts_1And10  \\\n",
       "count       72864.000000  72864.000000  72864.000000       72864.000000   \n",
       "mean            0.007082    109.619606      0.026961           0.126880   \n",
       "std             0.083855    442.922669      0.095494           0.332841   \n",
       "min             0.000000      0.000000      0.000000           0.000000   \n",
       "25%             0.000000      0.000000      0.000000           0.000000   \n",
       "50%             0.000000      7.000000      0.001779           0.000000   \n",
       "75%             0.000000     63.000000      0.015516           0.000000   \n",
       "max             1.000000  19496.000000      1.000000           1.000000   \n",
       "\n",
       "       LILATracts_halfAnd10  LILATracts_1And20  ...  TractSeniors  \\\n",
       "count          72864.000000       72864.000000  ...  72864.000000   \n",
       "mean               0.282115           0.111235  ...    552.645806   \n",
       "std                0.450032           0.314425  ...    352.988078   \n",
       "min                0.000000           0.000000  ...      0.000000   \n",
       "25%                0.000000           0.000000  ...    318.000000   \n",
       "50%                0.000000           0.000000  ...    495.000000   \n",
       "75%                1.000000           0.000000  ...    716.000000   \n",
       "max                1.000000           1.000000  ...  17271.000000   \n",
       "\n",
       "         TractWhite    TractBlack    TractAsian    TractNHOPI     TractAIAN  \\\n",
       "count  72864.000000  72864.000000  72864.000000  72864.000000  72864.000000   \n",
       "mean    3068.089386    534.273702    201.392347      7.411246     40.242754   \n",
       "std     1804.353298    887.806852    435.085612     45.084789    181.024758   \n",
       "min        0.000000      0.000000      0.000000      0.000000      0.000000   \n",
       "25%     1832.000000     42.000000     17.000000      0.000000      7.000000   \n",
       "50%     2903.000000    158.000000     57.000000      1.000000     15.000000   \n",
       "75%     4111.000000    606.000000    188.000000      5.000000     33.000000   \n",
       "max    28983.000000  16804.000000  10485.000000   3491.000000   9009.000000   \n",
       "\n",
       "       TractOMultir  TractHispanic     TractHUNV     TractSNAP  \n",
       "count  72864.000000   72864.000000  72864.000000  72864.000000  \n",
       "mean     385.875618     692.764520    145.356239    207.022206  \n",
       "std      528.776237    1117.876349    230.201932    187.188807  \n",
       "min        0.000000       0.000000      0.000000      0.000000  \n",
       "25%       83.000000      87.000000     37.000000     69.000000  \n",
       "50%      184.000000     240.000000     84.000000    158.000000  \n",
       "75%      446.000000     746.000000    172.000000    293.000000  \n",
       "max     8839.000000   15420.000000   6176.000000   2152.000000  \n",
       "\n",
       "[8 rows x 145 columns]"
      ]
     },
     "execution_count": 21,
     "metadata": {},
     "output_type": "execute_result"
    }
   ],
   "source": [
    "data.describe()"
   ]
  },
  {
   "cell_type": "markdown",
   "id": "c6a43230",
   "metadata": {},
   "source": [
    "# Question 3\n",
    "\n",
    "* Do chi-square (GOF) between GroupQuartersFlag and LILATracts_1And10"
   ]
  },
  {
   "cell_type": "code",
   "execution_count": 22,
   "id": "a64182c9",
   "metadata": {},
   "outputs": [
    {
     "data": {
      "text/plain": [
       "GroupQuartersFlag  LILATracts_1And10\n",
       "0                  0                    63215\n",
       "                   1                     9133\n",
       "1                  0                      404\n",
       "                   1                      112\n",
       "Name: LILATracts_1And10, dtype: int64"
      ]
     },
     "execution_count": 22,
     "metadata": {},
     "output_type": "execute_result"
    }
   ],
   "source": [
    "data.groupby(\"GroupQuartersFlag\")[\"LILATracts_1And10\"].value_counts()"
   ]
  },
  {
   "cell_type": "code",
   "execution_count": 23,
   "id": "f0a0ed11",
   "metadata": {},
   "outputs": [],
   "source": [
    "# group quarters with food deserts"
   ]
  },
  {
   "cell_type": "code",
   "execution_count": 24,
   "id": "dbe7ecba",
   "metadata": {},
   "outputs": [
    {
     "data": {
      "text/plain": [
       "0.21705426356589147"
      ]
     },
     "execution_count": 24,
     "metadata": {},
     "output_type": "execute_result"
    }
   ],
   "source": [
    "112/(404 + 112)"
   ]
  },
  {
   "cell_type": "code",
   "execution_count": 25,
   "id": "cbd907f2",
   "metadata": {},
   "outputs": [],
   "source": [
    "# # group quarters without food deserts"
   ]
  },
  {
   "cell_type": "code",
   "execution_count": 26,
   "id": "303ccd90",
   "metadata": {},
   "outputs": [
    {
     "data": {
      "text/plain": [
       "0.12623707635318185"
      ]
     },
     "execution_count": 26,
     "metadata": {},
     "output_type": "execute_result"
    }
   ],
   "source": [
    "9133/(63215 +9133)"
   ]
  },
  {
   "cell_type": "code",
   "execution_count": 27,
   "id": "3af3a505",
   "metadata": {},
   "outputs": [],
   "source": [
    "# percentage of group quarters"
   ]
  },
  {
   "cell_type": "code",
   "execution_count": 28,
   "id": "b9d04b08",
   "metadata": {},
   "outputs": [
    {
     "data": {
      "text/plain": [
       "0    72348\n",
       "1      516\n",
       "Name: GroupQuartersFlag, dtype: int64"
      ]
     },
     "execution_count": 28,
     "metadata": {},
     "output_type": "execute_result"
    }
   ],
   "source": [
    "data[\"GroupQuartersFlag\"].value_counts()"
   ]
  },
  {
   "cell_type": "code",
   "execution_count": 29,
   "id": "f89df436",
   "metadata": {},
   "outputs": [
    {
     "data": {
      "text/plain": [
       "0.7081686429512516"
      ]
     },
     "execution_count": 29,
     "metadata": {},
     "output_type": "execute_result"
    }
   ],
   "source": [
    "(516/(516 + 72348) ) * 100"
   ]
  },
  {
   "cell_type": "markdown",
   "id": "e36bae71",
   "metadata": {},
   "source": [
    "The number of food deserts are high for urban group quarters tract"
   ]
  },
  {
   "cell_type": "code",
   "execution_count": 30,
   "id": "eba3c4a1",
   "metadata": {},
   "outputs": [
    {
     "data": {
      "text/plain": [
       "1    107\n",
       "0      5\n",
       "Name: Urban, dtype: int64"
      ]
     },
     "execution_count": 30,
     "metadata": {},
     "output_type": "execute_result"
    }
   ],
   "source": [
    "data[(data[\"GroupQuartersFlag\"] ==1) & (data[\"LILATracts_1And10\"]==1)][\"Urban\"].value_counts()"
   ]
  },
  {
   "cell_type": "code",
   "execution_count": 31,
   "id": "5e272645",
   "metadata": {},
   "outputs": [
    {
     "data": {
      "text/plain": [
       "0.9553571428571429"
      ]
     },
     "execution_count": 31,
     "metadata": {},
     "output_type": "execute_result"
    }
   ],
   "source": [
    "107/112\n"
   ]
  },
  {
   "cell_type": "code",
   "execution_count": 32,
   "id": "1738b829",
   "metadata": {},
   "outputs": [
    {
     "data": {
      "text/plain": [
       "63327"
      ]
     },
     "execution_count": 32,
     "metadata": {},
     "output_type": "execute_result"
    }
   ],
   "source": [
    "47038 + 16289"
   ]
  },
  {
   "cell_type": "code",
   "execution_count": 33,
   "id": "df708731",
   "metadata": {},
   "outputs": [],
   "source": [
    "# Ratio of group quarters in urban and rurla areas"
   ]
  },
  {
   "cell_type": "code",
   "execution_count": 34,
   "id": "beb7828e",
   "metadata": {},
   "outputs": [
    {
     "data": {
      "text/plain": [
       "Urban  GroupQuartersFlag\n",
       "0      0                    17619\n",
       "       1                       73\n",
       "1      0                    54729\n",
       "       1                      443\n",
       "Name: GroupQuartersFlag, dtype: int64"
      ]
     },
     "execution_count": 34,
     "metadata": {},
     "output_type": "execute_result"
    }
   ],
   "source": [
    "data.groupby(\"Urban\")[\"GroupQuartersFlag\"].value_counts()"
   ]
  },
  {
   "cell_type": "markdown",
   "id": "0013cb2c",
   "metadata": {},
   "source": [
    "#### Rural\n",
    "Percentage of rural people in group quarters"
   ]
  },
  {
   "cell_type": "code",
   "execution_count": 35,
   "id": "6ddbbf92",
   "metadata": {},
   "outputs": [
    {
     "data": {
      "text/plain": [
       "0.0041261587158037535"
      ]
     },
     "execution_count": 35,
     "metadata": {},
     "output_type": "execute_result"
    }
   ],
   "source": [
    "73/(17619 +73)"
   ]
  },
  {
   "cell_type": "markdown",
   "id": "33afbe2d",
   "metadata": {},
   "source": [
    "#### Urban\n",
    "Percentage of urban people in group quarters"
   ]
  },
  {
   "cell_type": "code",
   "execution_count": 36,
   "id": "e442d04a",
   "metadata": {},
   "outputs": [
    {
     "data": {
      "text/plain": [
       "0.008029435220764155"
      ]
     },
     "execution_count": 36,
     "metadata": {},
     "output_type": "execute_result"
    }
   ],
   "source": [
    "443/(443 + 54729)"
   ]
  },
  {
   "cell_type": "markdown",
   "id": "f846d170",
   "metadata": {},
   "source": [
    "### Poverty rate in group quarters"
   ]
  },
  {
   "cell_type": "code",
   "execution_count": 37,
   "id": "32625cd9",
   "metadata": {},
   "outputs": [],
   "source": [
    "# Poverty rate in group quarters\n",
    "# poverty rate is high in gq"
   ]
  },
  {
   "cell_type": "code",
   "execution_count": 38,
   "id": "9398f7e7",
   "metadata": {},
   "outputs": [
    {
     "data": {
      "text/plain": [
       "GroupQuartersFlag\n",
       "0    16.473564\n",
       "1    29.659302\n",
       "Name: PovertyRate, dtype: float64"
      ]
     },
     "execution_count": 38,
     "metadata": {},
     "output_type": "execute_result"
    }
   ],
   "source": [
    "data.groupby(\"GroupQuartersFlag\")[\"PovertyRate\"].mean()"
   ]
  },
  {
   "cell_type": "code",
   "execution_count": 39,
   "id": "6ce1644b",
   "metadata": {},
   "outputs": [
    {
     "data": {
      "text/plain": [
       "1.8004180516128752"
      ]
     },
     "execution_count": 39,
     "metadata": {},
     "output_type": "execute_result"
    }
   ],
   "source": [
    "\n",
    "29.659302/16.473564"
   ]
  },
  {
   "cell_type": "code",
   "execution_count": 40,
   "id": "f7da1f0a",
   "metadata": {
    "scrolled": true
   },
   "outputs": [
    {
     "data": {
      "text/plain": [
       "GroupQuartersFlag  LowIncomeTracts\n",
       "0                  0                  41750\n",
       "                   1                  30598\n",
       "1                  1                    272\n",
       "                   0                    244\n",
       "Name: LowIncomeTracts, dtype: int64"
      ]
     },
     "execution_count": 40,
     "metadata": {},
     "output_type": "execute_result"
    }
   ],
   "source": [
    "data.groupby(\"GroupQuartersFlag\")[\"LowIncomeTracts\"].value_counts()"
   ]
  },
  {
   "cell_type": "code",
   "execution_count": 41,
   "id": "f561aed6",
   "metadata": {},
   "outputs": [],
   "source": [
    "# Ratio of low income in group quarters"
   ]
  },
  {
   "cell_type": "code",
   "execution_count": 42,
   "id": "89590d05",
   "metadata": {},
   "outputs": [
    {
     "data": {
      "text/plain": [
       "0.5271317829457365"
      ]
     },
     "execution_count": 42,
     "metadata": {},
     "output_type": "execute_result"
    }
   ],
   "source": [
    "272/(272 + 244)"
   ]
  },
  {
   "cell_type": "code",
   "execution_count": 43,
   "id": "1ce222f1",
   "metadata": {},
   "outputs": [],
   "source": [
    "# Ratio of low income in non- group quarters"
   ]
  },
  {
   "cell_type": "code",
   "execution_count": 44,
   "id": "4eb88e3a",
   "metadata": {},
   "outputs": [
    {
     "data": {
      "text/plain": [
       "0.42292806988444737"
      ]
     },
     "execution_count": 44,
     "metadata": {},
     "output_type": "execute_result"
    }
   ],
   "source": [
    "30598/ (30598 + 41750)"
   ]
  },
  {
   "cell_type": "markdown",
   "id": "790a7913",
   "metadata": {},
   "source": [
    "# Question 4"
   ]
  },
  {
   "cell_type": "code",
   "execution_count": 45,
   "id": "427cc822",
   "metadata": {},
   "outputs": [],
   "source": [
    "# Low access is not correlated with low income"
   ]
  },
  {
   "cell_type": "code",
   "execution_count": 46,
   "id": "7a6a531f",
   "metadata": {},
   "outputs": [
    {
     "data": {
      "text/plain": [
       "0    23712\n",
       "1    21625\n",
       "Name: LowIncomeTracts, dtype: int64"
      ]
     },
     "execution_count": 46,
     "metadata": {},
     "output_type": "execute_result"
    }
   ],
   "source": [
    "data[data[\"LA1and10\"] == 0][\"LowIncomeTracts\"].value_counts()"
   ]
  },
  {
   "cell_type": "code",
   "execution_count": 47,
   "id": "693604d4",
   "metadata": {},
   "outputs": [],
   "source": [
    "# Low access people are rich, rich people wants to stay outside. we need to multivariate with urban, ethnicity."
   ]
  },
  {
   "cell_type": "code",
   "execution_count": 48,
   "id": "416ddc2e",
   "metadata": {},
   "outputs": [
    {
     "data": {
      "text/plain": [
       "0    18282\n",
       "1     9245\n",
       "Name: LowIncomeTracts, dtype: int64"
      ]
     },
     "execution_count": 48,
     "metadata": {},
     "output_type": "execute_result"
    }
   ],
   "source": [
    "data[data[\"LA1and10\"] == 1][\"LowIncomeTracts\"].value_counts()"
   ]
  },
  {
   "cell_type": "code",
   "execution_count": 49,
   "id": "a84aaf26",
   "metadata": {},
   "outputs": [],
   "source": [
    "value_counts = data[data[\"LA1and10\"] == 1][\"LowIncomeTracts\"].value_counts()"
   ]
  },
  {
   "cell_type": "code",
   "execution_count": 50,
   "id": "7af327b4",
   "metadata": {},
   "outputs": [
    {
     "data": {
      "text/plain": [
       "0    18282\n",
       "1     9245\n",
       "Name: LowIncomeTracts, dtype: int64"
      ]
     },
     "execution_count": 50,
     "metadata": {},
     "output_type": "execute_result"
    }
   ],
   "source": [
    "value_counts"
   ]
  },
  {
   "cell_type": "code",
   "execution_count": 51,
   "id": "0f2afaa4",
   "metadata": {},
   "outputs": [
    {
     "data": {
      "image/png": "[encoded data removed]",
      "text/plain": [
       "<Figure size 640x480 with 1 Axes>"
      ]
     },
     "metadata": {},
     "output_type": "display_data"
    }
   ],
   "source": [
    "value_counts.plot(kind='bar', color='skyblue', edgecolor='black')\n",
    "plt.title(\"Counts of LowIncomeTracts in low access areas \")\n",
    "plt.xlabel(\"LowIncomeTracts\")\n",
    "plt.ylabel(\"Counts\")\n",
    "plt.xticks(rotation=0)\n",
    "\n",
    "# Setting custom x-axis labels\n",
    "labels = [\"Not Low Income\" if value == 0 else \"Low Income\" if value == 1 else value for value in value_counts.index]\n",
    "plt.xticks(ticks=range(len(value_counts.index)), labels=labels)\n",
    "\n",
    "plt.tight_layout()\n",
    "plt.show()"
   ]
  },
  {
   "cell_type": "code",
   "execution_count": 52,
   "id": "91e5a060",
   "metadata": {},
   "outputs": [
    {
     "data": {
      "text/plain": [
       "0.6641479274893741"
      ]
     },
     "execution_count": 52,
     "metadata": {},
     "output_type": "execute_result"
    }
   ],
   "source": [
    "18282/(9245 + 18282)"
   ]
  },
  {
   "cell_type": "code",
   "execution_count": 53,
   "id": "9db3c486",
   "metadata": {},
   "outputs": [
    {
     "data": {
      "text/plain": [
       "LA1and10\n",
       "0    17.976803\n",
       "1    14.244898\n",
       "Name: PovertyRate, dtype: float64"
      ]
     },
     "execution_count": 53,
     "metadata": {},
     "output_type": "execute_result"
    }
   ],
   "source": [
    "data.groupby(\"LA1and10\")[\"PovertyRate\"].mean()"
   ]
  },
  {
   "cell_type": "code",
   "execution_count": 54,
   "id": "cf6344b3",
   "metadata": {},
   "outputs": [
    {
     "data": {
      "text/plain": [
       "LA1and20\n",
       "0    17.849840\n",
       "1    14.066872\n",
       "Name: PovertyRate, dtype: float64"
      ]
     },
     "execution_count": 54,
     "metadata": {},
     "output_type": "execute_result"
    }
   ],
   "source": [
    "data.groupby(\"LA1and20\")[\"PovertyRate\"].mean()"
   ]
  },
  {
   "cell_type": "code",
   "execution_count": 55,
   "id": "c861dc6d",
   "metadata": {},
   "outputs": [
    {
     "data": {
      "text/plain": [
       "1    24322\n",
       "0     3205\n",
       "Name: Urban, dtype: int64"
      ]
     },
     "execution_count": 55,
     "metadata": {},
     "output_type": "execute_result"
    }
   ],
   "source": [
    "data[data[\"LA1and10\"] == 1][\"Urban\"].value_counts()"
   ]
  },
  {
   "cell_type": "code",
   "execution_count": 56,
   "id": "03eaa1b1",
   "metadata": {},
   "outputs": [
    {
     "data": {
      "text/plain": [
       "1    30228\n",
       "0    11766\n",
       "Name: Urban, dtype: int64"
      ]
     },
     "execution_count": 56,
     "metadata": {},
     "output_type": "execute_result"
    }
   ],
   "source": [
    "data[data[\"LowIncomeTracts\"] == 0][\"Urban\"].value_counts()"
   ]
  },
  {
   "cell_type": "code",
   "execution_count": 57,
   "id": "966a128f",
   "metadata": {},
   "outputs": [],
   "source": [
    "# rich and urban"
   ]
  },
  {
   "cell_type": "code",
   "execution_count": 58,
   "id": "b86a3516",
   "metadata": {},
   "outputs": [
    {
     "data": {
      "text/plain": [
       "0.7198171167309616"
      ]
     },
     "execution_count": 58,
     "metadata": {},
     "output_type": "execute_result"
    }
   ],
   "source": [
    "30228/ (11766 + 30228) "
   ]
  },
  {
   "cell_type": "code",
   "execution_count": 59,
   "id": "5fad2d1f",
   "metadata": {},
   "outputs": [],
   "source": [
    "# rich and rural"
   ]
  },
  {
   "cell_type": "code",
   "execution_count": 60,
   "id": "7465cbbc",
   "metadata": {},
   "outputs": [
    {
     "data": {
      "text/plain": [
       "0.2801828832690384"
      ]
     },
     "execution_count": 60,
     "metadata": {},
     "output_type": "execute_result"
    }
   ],
   "source": [
    "1 - 0.7198171167309616\n"
   ]
  },
  {
   "cell_type": "code",
   "execution_count": 61,
   "id": "0e4a9d3c",
   "metadata": {},
   "outputs": [],
   "source": [
    "# poor and urban ?"
   ]
  },
  {
   "cell_type": "code",
   "execution_count": 62,
   "id": "6f956133",
   "metadata": {},
   "outputs": [
    {
     "data": {
      "text/plain": [
       "0.8080336896663427"
      ]
     },
     "execution_count": 62,
     "metadata": {},
     "output_type": "execute_result"
    }
   ],
   "source": [
    "24944/(5926 + 24944)"
   ]
  },
  {
   "cell_type": "code",
   "execution_count": 63,
   "id": "4f5ffa77",
   "metadata": {},
   "outputs": [
    {
     "data": {
      "text/plain": [
       "CensusTract      9245\n",
       "State            9245\n",
       "County           9245\n",
       "Urban            9245\n",
       "POP2010          9245\n",
       "                 ... \n",
       "TractAIAN        9245\n",
       "TractOMultir     9245\n",
       "TractHispanic    9245\n",
       "TractHUNV        9245\n",
       "TractSNAP        9245\n",
       "Length: 147, dtype: int64"
      ]
     },
     "execution_count": 63,
     "metadata": {},
     "output_type": "execute_result"
    }
   ],
   "source": [
    "data[(data[\"LILATracts_1And10\"] == 1 )&(data[\"LowIncomeTracts\"] == 1 )].count()"
   ]
  },
  {
   "cell_type": "code",
   "execution_count": 64,
   "id": "ccbd80d4",
   "metadata": {},
   "outputs": [
    {
     "data": {
      "text/plain": [
       "LILATracts_1And10\n",
       "0       0\n",
       "1    9245\n",
       "Name: LILATracts_1And10, dtype: int64"
      ]
     },
     "execution_count": 64,
     "metadata": {},
     "output_type": "execute_result"
    }
   ],
   "source": [
    "data.groupby(\"LILATracts_1And10\")[\"LILATracts_1And10\"].sum()"
   ]
  },
  {
   "cell_type": "markdown",
   "id": "bfff7d5f",
   "metadata": {},
   "source": [
    "## Question 4.1"
   ]
  },
  {
   "cell_type": "code",
   "execution_count": 65,
   "id": "53f07937",
   "metadata": {},
   "outputs": [],
   "source": [
    "## Poverty rate is high in food deserted areas"
   ]
  },
  {
   "cell_type": "code",
   "execution_count": 66,
   "id": "ac2f6de2",
   "metadata": {},
   "outputs": [
    {
     "data": {
      "text/plain": [
       "LILATracts_1And10\n",
       "0    15.125722\n",
       "1    26.484619\n",
       "Name: PovertyRate, dtype: float64"
      ]
     },
     "execution_count": 66,
     "metadata": {},
     "output_type": "execute_result"
    }
   ],
   "source": [
    "data.groupby(\"LILATracts_1And10\")[\"PovertyRate\"].mean()"
   ]
  },
  {
   "cell_type": "code",
   "execution_count": 67,
   "id": "0dfed224",
   "metadata": {},
   "outputs": [
    {
     "data": {
      "text/plain": [
       "1.7509656067988026"
      ]
     },
     "execution_count": 67,
     "metadata": {},
     "output_type": "execute_result"
    }
   ],
   "source": [
    "26.484619/(15.125722)"
   ]
  },
  {
   "cell_type": "code",
   "execution_count": 68,
   "id": "11b19bd0",
   "metadata": {},
   "outputs": [
    {
     "data": {
      "text/plain": [
       "LILATracts_1And20\n",
       "0    15.248630\n",
       "1    27.100259\n",
       "Name: PovertyRate, dtype: float64"
      ]
     },
     "execution_count": 68,
     "metadata": {},
     "output_type": "execute_result"
    }
   ],
   "source": [
    "data.groupby(\"LILATracts_1And20\")[\"PovertyRate\"].mean()"
   ]
  },
  {
   "cell_type": "code",
   "execution_count": 69,
   "id": "c3194244",
   "metadata": {},
   "outputs": [
    {
     "data": {
      "text/plain": [
       "LowIncomeTracts\n",
       "0     8.634436\n",
       "1    27.357924\n",
       "Name: PovertyRate, dtype: float64"
      ]
     },
     "execution_count": 69,
     "metadata": {},
     "output_type": "execute_result"
    }
   ],
   "source": [
    "data.groupby(\"LowIncomeTracts\")[\"PovertyRate\"].mean()"
   ]
  },
  {
   "cell_type": "code",
   "execution_count": 70,
   "id": "07c61d9a",
   "metadata": {},
   "outputs": [],
   "source": [
    "## Poverty rate is high in non low access areas"
   ]
  },
  {
   "cell_type": "code",
   "execution_count": 71,
   "id": "15632044",
   "metadata": {},
   "outputs": [
    {
     "data": {
      "text/plain": [
       "LA1and10\n",
       "0    17.976803\n",
       "1    14.244898\n",
       "Name: PovertyRate, dtype: float64"
      ]
     },
     "execution_count": 71,
     "metadata": {},
     "output_type": "execute_result"
    }
   ],
   "source": [
    "data.groupby(\"LA1and10\")[\"PovertyRate\"].mean()"
   ]
  },
  {
   "cell_type": "code",
   "execution_count": 72,
   "id": "8edf707c",
   "metadata": {},
   "outputs": [
    {
     "data": {
      "text/plain": [
       "1.261981868876843"
      ]
     },
     "execution_count": 72,
     "metadata": {},
     "output_type": "execute_result"
    }
   ],
   "source": [
    "17.976803/14.244898"
   ]
  },
  {
   "cell_type": "code",
   "execution_count": 73,
   "id": "b0bc77a1",
   "metadata": {},
   "outputs": [
    {
     "data": {
      "text/plain": [
       "LA1and20\n",
       "0    17.849840\n",
       "1    14.066872\n",
       "Name: PovertyRate, dtype: float64"
      ]
     },
     "execution_count": 73,
     "metadata": {},
     "output_type": "execute_result"
    }
   ],
   "source": [
    "data.groupby(\"LA1and20\")[\"PovertyRate\"].mean()"
   ]
  },
  {
   "cell_type": "code",
   "execution_count": 74,
   "id": "4a1c7b4f",
   "metadata": {},
   "outputs": [],
   "source": [
    "#data.groupby(\"State\").sort_values(by=\"PovertyRate\",ascending=False)"
   ]
  },
  {
   "cell_type": "code",
   "execution_count": 75,
   "id": "54baab75",
   "metadata": {},
   "outputs": [
    {
     "data": {
      "text/plain": [
       "22.7"
      ]
     },
     "execution_count": 75,
     "metadata": {},
     "output_type": "execute_result"
    }
   ],
   "source": [
    "data['PovertyRate'].quantile(0.75) "
   ]
  },
  {
   "cell_type": "code",
   "execution_count": 76,
   "id": "54019be9",
   "metadata": {},
   "outputs": [],
   "source": [
    "states_pov = pd.DataFrame(data.groupby(\"State\").mean(\"PovertyRate\")[\"PovertyRate\"])"
   ]
  },
  {
   "cell_type": "code",
   "execution_count": 77,
   "id": "34b77970",
   "metadata": {},
   "outputs": [
    {
     "data": {
      "text/html": [
       "<div>\n",
       "<style scoped>\n",
       "    .dataframe tbody tr th:only-of-type {\n",
       "        vertical-align: middle;\n",
       "    }\n",
       "\n",
       "    .dataframe tbody tr th {\n",
       "        vertical-align: top;\n",
       "    }\n",
       "\n",
       "    .dataframe thead th {\n",
       "        text-align: right;\n",
       "    }\n",
       "</style>\n",
       "<table border=\"1\" class=\"dataframe\">\n",
       "  <thead>\n",
       "    <tr style=\"text-align: right;\">\n",
       "      <th></th>\n",
       "      <th>PovertyRate</th>\n",
       "    </tr>\n",
       "    <tr>\n",
       "      <th>State</th>\n",
       "      <th></th>\n",
       "    </tr>\n",
       "  </thead>\n",
       "  <tbody>\n",
       "    <tr>\n",
       "      <th>Alabama</th>\n",
       "      <td>21.222053</td>\n",
       "    </tr>\n",
       "    <tr>\n",
       "      <th>Alaska</th>\n",
       "      <td>11.231737</td>\n",
       "    </tr>\n",
       "    <tr>\n",
       "      <th>Arizona</th>\n",
       "      <td>18.488663</td>\n",
       "    </tr>\n",
       "    <tr>\n",
       "      <th>Arkansas</th>\n",
       "      <td>20.350146</td>\n",
       "    </tr>\n",
       "    <tr>\n",
       "      <th>California</th>\n",
       "      <td>16.523695</td>\n",
       "    </tr>\n",
       "  </tbody>\n",
       "</table>\n",
       "</div>"
      ],
      "text/plain": [
       "            PovertyRate\n",
       "State                  \n",
       "Alabama       21.222053\n",
       "Alaska        11.231737\n",
       "Arizona       18.488663\n",
       "Arkansas      20.350146\n",
       "California    16.523695"
      ]
     },
     "execution_count": 77,
     "metadata": {},
     "output_type": "execute_result"
    }
   ],
   "source": [
    "states_pov.head()"
   ]
  },
  {
   "cell_type": "markdown",
   "id": "9a14a2c1",
   "metadata": {},
   "source": [
    "### Normalising the povertyrate count \n",
    "This is done before picking the high poverty states to have it normalised based on the overall data"
   ]
  },
  {
   "cell_type": "code",
   "execution_count": 78,
   "id": "6b6f4816",
   "metadata": {},
   "outputs": [],
   "source": [
    "scaler = MinMaxScaler()\n",
    "\n",
    "states_pov_nm = pd.DataFrame(scaler.fit_transform(states_pov), columns=[\"PovertyRate\"], index=states_pov.index)"
   ]
  },
  {
   "cell_type": "code",
   "execution_count": 79,
   "id": "ac050c21",
   "metadata": {},
   "outputs": [
    {
     "data": {
      "text/html": [
       "<div>\n",
       "<style scoped>\n",
       "    .dataframe tbody tr th:only-of-type {\n",
       "        vertical-align: middle;\n",
       "    }\n",
       "\n",
       "    .dataframe tbody tr th {\n",
       "        vertical-align: top;\n",
       "    }\n",
       "\n",
       "    .dataframe thead th {\n",
       "        text-align: right;\n",
       "    }\n",
       "</style>\n",
       "<table border=\"1\" class=\"dataframe\">\n",
       "  <thead>\n",
       "    <tr style=\"text-align: right;\">\n",
       "      <th></th>\n",
       "      <th>PovertyRate</th>\n",
       "    </tr>\n",
       "    <tr>\n",
       "      <th>State</th>\n",
       "      <th></th>\n",
       "    </tr>\n",
       "  </thead>\n",
       "  <tbody>\n",
       "    <tr>\n",
       "      <th>Alabama</th>\n",
       "      <td>0.773809</td>\n",
       "    </tr>\n",
       "    <tr>\n",
       "      <th>Alaska</th>\n",
       "      <td>0.112711</td>\n",
       "    </tr>\n",
       "    <tr>\n",
       "      <th>Arizona</th>\n",
       "      <td>0.592930</td>\n",
       "    </tr>\n",
       "    <tr>\n",
       "      <th>Arkansas</th>\n",
       "      <td>0.716112</td>\n",
       "    </tr>\n",
       "    <tr>\n",
       "      <th>California</th>\n",
       "      <td>0.462901</td>\n",
       "    </tr>\n",
       "    <tr>\n",
       "      <th>Colorado</th>\n",
       "      <td>0.263934</td>\n",
       "    </tr>\n",
       "    <tr>\n",
       "      <th>Connecticut</th>\n",
       "      <td>0.145297</td>\n",
       "    </tr>\n",
       "    <tr>\n",
       "      <th>Delaware</th>\n",
       "      <td>0.207535</td>\n",
       "    </tr>\n",
       "    <tr>\n",
       "      <th>District of Columbia</th>\n",
       "      <td>0.674124</td>\n",
       "    </tr>\n",
       "    <tr>\n",
       "      <th>Florida</th>\n",
       "      <td>0.503553</td>\n",
       "    </tr>\n",
       "    <tr>\n",
       "      <th>Georgia</th>\n",
       "      <td>0.726746</td>\n",
       "    </tr>\n",
       "    <tr>\n",
       "      <th>Hawaii</th>\n",
       "      <td>0.080953</td>\n",
       "    </tr>\n",
       "    <tr>\n",
       "      <th>Idaho</th>\n",
       "      <td>0.458046</td>\n",
       "    </tr>\n",
       "    <tr>\n",
       "      <th>Illinois</th>\n",
       "      <td>0.447909</td>\n",
       "    </tr>\n",
       "    <tr>\n",
       "      <th>Indiana</th>\n",
       "      <td>0.554305</td>\n",
       "    </tr>\n",
       "    <tr>\n",
       "      <th>Iowa</th>\n",
       "      <td>0.249215</td>\n",
       "    </tr>\n",
       "    <tr>\n",
       "      <th>Kansas</th>\n",
       "      <td>0.353504</td>\n",
       "    </tr>\n",
       "    <tr>\n",
       "      <th>Kentucky</th>\n",
       "      <td>0.700390</td>\n",
       "    </tr>\n",
       "    <tr>\n",
       "      <th>Louisiana</th>\n",
       "      <td>0.801888</td>\n",
       "    </tr>\n",
       "    <tr>\n",
       "      <th>Maine</th>\n",
       "      <td>0.340430</td>\n",
       "    </tr>\n",
       "    <tr>\n",
       "      <th>Maryland</th>\n",
       "      <td>0.095953</td>\n",
       "    </tr>\n",
       "    <tr>\n",
       "      <th>Massachusetts</th>\n",
       "      <td>0.214158</td>\n",
       "    </tr>\n",
       "    <tr>\n",
       "      <th>Michigan</th>\n",
       "      <td>0.606417</td>\n",
       "    </tr>\n",
       "    <tr>\n",
       "      <th>Minnesota</th>\n",
       "      <td>0.192734</td>\n",
       "    </tr>\n",
       "    <tr>\n",
       "      <th>Mississippi</th>\n",
       "      <td>1.000000</td>\n",
       "    </tr>\n",
       "    <tr>\n",
       "      <th>Missouri</th>\n",
       "      <td>0.518495</td>\n",
       "    </tr>\n",
       "    <tr>\n",
       "      <th>Montana</th>\n",
       "      <td>0.443776</td>\n",
       "    </tr>\n",
       "    <tr>\n",
       "      <th>Nebraska</th>\n",
       "      <td>0.265249</td>\n",
       "    </tr>\n",
       "    <tr>\n",
       "      <th>Nevada</th>\n",
       "      <td>0.422996</td>\n",
       "    </tr>\n",
       "    <tr>\n",
       "      <th>New Hampshire</th>\n",
       "      <td>0.000000</td>\n",
       "    </tr>\n",
       "    <tr>\n",
       "      <th>New Jersey</th>\n",
       "      <td>0.129966</td>\n",
       "    </tr>\n",
       "    <tr>\n",
       "      <th>New Mexico</th>\n",
       "      <td>0.743427</td>\n",
       "    </tr>\n",
       "    <tr>\n",
       "      <th>New York</th>\n",
       "      <td>0.420159</td>\n",
       "    </tr>\n",
       "    <tr>\n",
       "      <th>North Carolina</th>\n",
       "      <td>0.576896</td>\n",
       "    </tr>\n",
       "    <tr>\n",
       "      <th>North Dakota</th>\n",
       "      <td>0.169167</td>\n",
       "    </tr>\n",
       "    <tr>\n",
       "      <th>Ohio</th>\n",
       "      <td>0.616299</td>\n",
       "    </tr>\n",
       "    <tr>\n",
       "      <th>Oklahoma</th>\n",
       "      <td>0.577896</td>\n",
       "    </tr>\n",
       "    <tr>\n",
       "      <th>Oregon</th>\n",
       "      <td>0.481432</td>\n",
       "    </tr>\n",
       "    <tr>\n",
       "      <th>Pennsylvania</th>\n",
       "      <td>0.341488</td>\n",
       "    </tr>\n",
       "    <tr>\n",
       "      <th>Rhode Island</th>\n",
       "      <td>0.357834</td>\n",
       "    </tr>\n",
       "    <tr>\n",
       "      <th>South Carolina</th>\n",
       "      <td>0.663904</td>\n",
       "    </tr>\n",
       "    <tr>\n",
       "      <th>South Dakota</th>\n",
       "      <td>0.355663</td>\n",
       "    </tr>\n",
       "    <tr>\n",
       "      <th>Tennessee</th>\n",
       "      <td>0.631038</td>\n",
       "    </tr>\n",
       "    <tr>\n",
       "      <th>Texas</th>\n",
       "      <td>0.595956</td>\n",
       "    </tr>\n",
       "    <tr>\n",
       "      <th>Utah</th>\n",
       "      <td>0.260999</td>\n",
       "    </tr>\n",
       "    <tr>\n",
       "      <th>Vermont</th>\n",
       "      <td>0.188294</td>\n",
       "    </tr>\n",
       "    <tr>\n",
       "      <th>Virginia</th>\n",
       "      <td>0.190344</td>\n",
       "    </tr>\n",
       "    <tr>\n",
       "      <th>Washington</th>\n",
       "      <td>0.288830</td>\n",
       "    </tr>\n",
       "    <tr>\n",
       "      <th>West Virginia</th>\n",
       "      <td>0.666417</td>\n",
       "    </tr>\n",
       "    <tr>\n",
       "      <th>Wisconsin</th>\n",
       "      <td>0.354553</td>\n",
       "    </tr>\n",
       "    <tr>\n",
       "      <th>Wyoming</th>\n",
       "      <td>0.182199</td>\n",
       "    </tr>\n",
       "  </tbody>\n",
       "</table>\n",
       "</div>"
      ],
      "text/plain": [
       "                      PovertyRate\n",
       "State                            \n",
       "Alabama                  0.773809\n",
       "Alaska                   0.112711\n",
       "Arizona                  0.592930\n",
       "Arkansas                 0.716112\n",
       "California               0.462901\n",
       "Colorado                 0.263934\n",
       "Connecticut              0.145297\n",
       "Delaware                 0.207535\n",
       "District of Columbia     0.674124\n",
       "Florida                  0.503553\n",
       "Georgia                  0.726746\n",
       "Hawaii                   0.080953\n",
       "Idaho                    0.458046\n",
       "Illinois                 0.447909\n",
       "Indiana                  0.554305\n",
       "Iowa                     0.249215\n",
       "Kansas                   0.353504\n",
       "Kentucky                 0.700390\n",
       "Louisiana                0.801888\n",
       "Maine                    0.340430\n",
       "Maryland                 0.095953\n",
       "Massachusetts            0.214158\n",
       "Michigan                 0.606417\n",
       "Minnesota                0.192734\n",
       "Mississippi              1.000000\n",
       "Missouri                 0.518495\n",
       "Montana                  0.443776\n",
       "Nebraska                 0.265249\n",
       "Nevada                   0.422996\n",
       "New Hampshire            0.000000\n",
       "New Jersey               0.129966\n",
       "New Mexico               0.743427\n",
       "New York                 0.420159\n",
       "North Carolina           0.576896\n",
       "North Dakota             0.169167\n",
       "Ohio                     0.616299\n",
       "Oklahoma                 0.577896\n",
       "Oregon                   0.481432\n",
       "Pennsylvania             0.341488\n",
       "Rhode Island             0.357834\n",
       "South Carolina           0.663904\n",
       "South Dakota             0.355663\n",
       "Tennessee                0.631038\n",
       "Texas                    0.595956\n",
       "Utah                     0.260999\n",
       "Vermont                  0.188294\n",
       "Virginia                 0.190344\n",
       "Washington               0.288830\n",
       "West Virginia            0.666417\n",
       "Wisconsin                0.354553\n",
       "Wyoming                  0.182199"
      ]
     },
     "execution_count": 79,
     "metadata": {},
     "output_type": "execute_result"
    }
   ],
   "source": [
    "states_pov_nm"
   ]
  },
  {
   "cell_type": "code",
   "execution_count": 80,
   "id": "5f11e186",
   "metadata": {},
   "outputs": [],
   "source": [
    "states_high_pov =pd.DataFrame(states_pov_nm[ (states_pov_nm[\"PovertyRate\"] > states_pov_nm['PovertyRate'].quantile(0.85))])"
   ]
  },
  {
   "cell_type": "code",
   "execution_count": 81,
   "id": "29d8bb96",
   "metadata": {},
   "outputs": [
    {
     "data": {
      "text/html": [
       "<div>\n",
       "<style scoped>\n",
       "    .dataframe tbody tr th:only-of-type {\n",
       "        vertical-align: middle;\n",
       "    }\n",
       "\n",
       "    .dataframe tbody tr th {\n",
       "        vertical-align: top;\n",
       "    }\n",
       "\n",
       "    .dataframe thead th {\n",
       "        text-align: right;\n",
       "    }\n",
       "</style>\n",
       "<table border=\"1\" class=\"dataframe\">\n",
       "  <thead>\n",
       "    <tr style=\"text-align: right;\">\n",
       "      <th></th>\n",
       "      <th>PovertyRate</th>\n",
       "    </tr>\n",
       "    <tr>\n",
       "      <th>State</th>\n",
       "      <th></th>\n",
       "    </tr>\n",
       "  </thead>\n",
       "  <tbody>\n",
       "    <tr>\n",
       "      <th>Alabama</th>\n",
       "      <td>0.773809</td>\n",
       "    </tr>\n",
       "    <tr>\n",
       "      <th>Arkansas</th>\n",
       "      <td>0.716112</td>\n",
       "    </tr>\n",
       "    <tr>\n",
       "      <th>District of Columbia</th>\n",
       "      <td>0.674124</td>\n",
       "    </tr>\n",
       "    <tr>\n",
       "      <th>Georgia</th>\n",
       "      <td>0.726746</td>\n",
       "    </tr>\n",
       "    <tr>\n",
       "      <th>Kentucky</th>\n",
       "      <td>0.700390</td>\n",
       "    </tr>\n",
       "    <tr>\n",
       "      <th>Louisiana</th>\n",
       "      <td>0.801888</td>\n",
       "    </tr>\n",
       "    <tr>\n",
       "      <th>Mississippi</th>\n",
       "      <td>1.000000</td>\n",
       "    </tr>\n",
       "    <tr>\n",
       "      <th>New Mexico</th>\n",
       "      <td>0.743427</td>\n",
       "    </tr>\n",
       "  </tbody>\n",
       "</table>\n",
       "</div>"
      ],
      "text/plain": [
       "                      PovertyRate\n",
       "State                            \n",
       "Alabama                  0.773809\n",
       "Arkansas                 0.716112\n",
       "District of Columbia     0.674124\n",
       "Georgia                  0.726746\n",
       "Kentucky                 0.700390\n",
       "Louisiana                0.801888\n",
       "Mississippi              1.000000\n",
       "New Mexico               0.743427"
      ]
     },
     "execution_count": 81,
     "metadata": {},
     "output_type": "execute_result"
    }
   ],
   "source": [
    "states_high_pov"
   ]
  },
  {
   "cell_type": "markdown",
   "id": "0438bf15",
   "metadata": {},
   "source": [
    "## The statewise food desert count"
   ]
  },
  {
   "cell_type": "code",
   "execution_count": 82,
   "id": "efca5b02",
   "metadata": {},
   "outputs": [],
   "source": [
    "states_food_deserts = pd.DataFrame(data[data[\"LILATracts_1And10\"] ==1][\"State\"].value_counts())"
   ]
  },
  {
   "cell_type": "code",
   "execution_count": 83,
   "id": "0eaac504",
   "metadata": {},
   "outputs": [
    {
     "data": {
      "text/html": [
       "<div>\n",
       "<style scoped>\n",
       "    .dataframe tbody tr th:only-of-type {\n",
       "        vertical-align: middle;\n",
       "    }\n",
       "\n",
       "    .dataframe tbody tr th {\n",
       "        vertical-align: top;\n",
       "    }\n",
       "\n",
       "    .dataframe thead th {\n",
       "        text-align: right;\n",
       "    }\n",
       "</style>\n",
       "<table border=\"1\" class=\"dataframe\">\n",
       "  <thead>\n",
       "    <tr style=\"text-align: right;\">\n",
       "      <th></th>\n",
       "      <th>State</th>\n",
       "    </tr>\n",
       "  </thead>\n",
       "  <tbody>\n",
       "    <tr>\n",
       "      <th>Texas</th>\n",
       "      <td>1041</td>\n",
       "    </tr>\n",
       "    <tr>\n",
       "      <th>Florida</th>\n",
       "      <td>582</td>\n",
       "    </tr>\n",
       "    <tr>\n",
       "      <th>California</th>\n",
       "      <td>542</td>\n",
       "    </tr>\n",
       "    <tr>\n",
       "      <th>Ohio</th>\n",
       "      <td>447</td>\n",
       "    </tr>\n",
       "    <tr>\n",
       "      <th>Georgia</th>\n",
       "      <td>444</td>\n",
       "    </tr>\n",
       "  </tbody>\n",
       "</table>\n",
       "</div>"
      ],
      "text/plain": [
       "            State\n",
       "Texas        1041\n",
       "Florida       582\n",
       "California    542\n",
       "Ohio          447\n",
       "Georgia       444"
      ]
     },
     "execution_count": 83,
     "metadata": {},
     "output_type": "execute_result"
    }
   ],
   "source": [
    "states_food_deserts.head()"
   ]
  },
  {
   "cell_type": "markdown",
   "id": "38ab74c2",
   "metadata": {},
   "source": [
    "### Normalising the food desert count \n",
    "This is done before picking only the high poverty states to have it normalised based on the overall data"
   ]
  },
  {
   "cell_type": "code",
   "execution_count": 84,
   "id": "86cf6b27",
   "metadata": {},
   "outputs": [],
   "source": [
    "scaler = MinMaxScaler()\n",
    "\n",
    "states_food_deserts_nm = pd.DataFrame(scaler.fit_transform(states_food_deserts), columns=[\"food_desert_rate\"], index=states_food_deserts.index)"
   ]
  },
  {
   "cell_type": "code",
   "execution_count": 85,
   "id": "e772939f",
   "metadata": {},
   "outputs": [
    {
     "data": {
      "text/html": [
       "<div>\n",
       "<style scoped>\n",
       "    .dataframe tbody tr th:only-of-type {\n",
       "        vertical-align: middle;\n",
       "    }\n",
       "\n",
       "    .dataframe tbody tr th {\n",
       "        vertical-align: top;\n",
       "    }\n",
       "\n",
       "    .dataframe thead th {\n",
       "        text-align: right;\n",
       "    }\n",
       "</style>\n",
       "<table border=\"1\" class=\"dataframe\">\n",
       "  <thead>\n",
       "    <tr style=\"text-align: right;\">\n",
       "      <th></th>\n",
       "      <th>food_desert_rate</th>\n",
       "    </tr>\n",
       "  </thead>\n",
       "  <tbody>\n",
       "    <tr>\n",
       "      <th>Texas</th>\n",
       "      <td>1.000000</td>\n",
       "    </tr>\n",
       "    <tr>\n",
       "      <th>Florida</th>\n",
       "      <td>0.556522</td>\n",
       "    </tr>\n",
       "    <tr>\n",
       "      <th>California</th>\n",
       "      <td>0.517874</td>\n",
       "    </tr>\n",
       "    <tr>\n",
       "      <th>Ohio</th>\n",
       "      <td>0.426087</td>\n",
       "    </tr>\n",
       "    <tr>\n",
       "      <th>Georgia</th>\n",
       "      <td>0.423188</td>\n",
       "    </tr>\n",
       "  </tbody>\n",
       "</table>\n",
       "</div>"
      ],
      "text/plain": [
       "            food_desert_rate\n",
       "Texas               1.000000\n",
       "Florida             0.556522\n",
       "California          0.517874\n",
       "Ohio                0.426087\n",
       "Georgia             0.423188"
      ]
     },
     "execution_count": 85,
     "metadata": {},
     "output_type": "execute_result"
    }
   ],
   "source": [
    "states_food_deserts_nm.head()"
   ]
  },
  {
   "cell_type": "markdown",
   "id": "5de4cf32",
   "metadata": {},
   "source": [
    "#### Picking only the high poverty states from the food deserts"
   ]
  },
  {
   "cell_type": "code",
   "execution_count": 86,
   "id": "22763ecf",
   "metadata": {},
   "outputs": [
    {
     "data": {
      "text/plain": [
       "PovertyRate    8\n",
       "dtype: int64"
      ]
     },
     "execution_count": 86,
     "metadata": {},
     "output_type": "execute_result"
    }
   ],
   "source": [
    "states_high_pov.count()"
   ]
  },
  {
   "cell_type": "code",
   "execution_count": 87,
   "id": "a6ba07c8",
   "metadata": {},
   "outputs": [],
   "source": [
    "states_food_deserts_nm = states_food_deserts_nm.loc[states_high_pov.index]"
   ]
  },
  {
   "cell_type": "code",
   "execution_count": 88,
   "id": "8fb77c06",
   "metadata": {},
   "outputs": [
    {
     "data": {
      "text/html": [
       "<div>\n",
       "<style scoped>\n",
       "    .dataframe tbody tr th:only-of-type {\n",
       "        vertical-align: middle;\n",
       "    }\n",
       "\n",
       "    .dataframe tbody tr th {\n",
       "        vertical-align: top;\n",
       "    }\n",
       "\n",
       "    .dataframe thead th {\n",
       "        text-align: right;\n",
       "    }\n",
       "</style>\n",
       "<table border=\"1\" class=\"dataframe\">\n",
       "  <thead>\n",
       "    <tr style=\"text-align: right;\">\n",
       "      <th></th>\n",
       "      <th>food_desert_rate</th>\n",
       "    </tr>\n",
       "    <tr>\n",
       "      <th>State</th>\n",
       "      <th></th>\n",
       "    </tr>\n",
       "  </thead>\n",
       "  <tbody>\n",
       "    <tr>\n",
       "      <th>Alabama</th>\n",
       "      <td>0.231884</td>\n",
       "    </tr>\n",
       "    <tr>\n",
       "      <th>Arkansas</th>\n",
       "      <td>0.165217</td>\n",
       "    </tr>\n",
       "    <tr>\n",
       "      <th>District of Columbia</th>\n",
       "      <td>0.000000</td>\n",
       "    </tr>\n",
       "    <tr>\n",
       "      <th>Georgia</th>\n",
       "      <td>0.423188</td>\n",
       "    </tr>\n",
       "    <tr>\n",
       "      <th>Kentucky</th>\n",
       "      <td>0.120773</td>\n",
       "    </tr>\n",
       "    <tr>\n",
       "      <th>Louisiana</th>\n",
       "      <td>0.235749</td>\n",
       "    </tr>\n",
       "    <tr>\n",
       "      <th>Mississippi</th>\n",
       "      <td>0.194203</td>\n",
       "    </tr>\n",
       "    <tr>\n",
       "      <th>New Mexico</th>\n",
       "      <td>0.124638</td>\n",
       "    </tr>\n",
       "  </tbody>\n",
       "</table>\n",
       "</div>"
      ],
      "text/plain": [
       "                      food_desert_rate\n",
       "State                                 \n",
       "Alabama                       0.231884\n",
       "Arkansas                      0.165217\n",
       "District of Columbia          0.000000\n",
       "Georgia                       0.423188\n",
       "Kentucky                      0.120773\n",
       "Louisiana                     0.235749\n",
       "Mississippi                   0.194203\n",
       "New Mexico                    0.124638"
      ]
     },
     "execution_count": 88,
     "metadata": {},
     "output_type": "execute_result"
    }
   ],
   "source": [
    "states_food_deserts_nm"
   ]
  },
  {
   "cell_type": "code",
   "execution_count": 89,
   "id": "f4de87bb",
   "metadata": {},
   "outputs": [
    {
     "data": {
      "text/html": [
       "<div>\n",
       "<style scoped>\n",
       "    .dataframe tbody tr th:only-of-type {\n",
       "        vertical-align: middle;\n",
       "    }\n",
       "\n",
       "    .dataframe tbody tr th {\n",
       "        vertical-align: top;\n",
       "    }\n",
       "\n",
       "    .dataframe thead th {\n",
       "        text-align: right;\n",
       "    }\n",
       "</style>\n",
       "<table border=\"1\" class=\"dataframe\">\n",
       "  <thead>\n",
       "    <tr style=\"text-align: right;\">\n",
       "      <th></th>\n",
       "      <th>PovertyRate</th>\n",
       "    </tr>\n",
       "    <tr>\n",
       "      <th>State</th>\n",
       "      <th></th>\n",
       "    </tr>\n",
       "  </thead>\n",
       "  <tbody>\n",
       "    <tr>\n",
       "      <th>Alabama</th>\n",
       "      <td>0.773809</td>\n",
       "    </tr>\n",
       "    <tr>\n",
       "      <th>Arkansas</th>\n",
       "      <td>0.716112</td>\n",
       "    </tr>\n",
       "    <tr>\n",
       "      <th>District of Columbia</th>\n",
       "      <td>0.674124</td>\n",
       "    </tr>\n",
       "    <tr>\n",
       "      <th>Georgia</th>\n",
       "      <td>0.726746</td>\n",
       "    </tr>\n",
       "    <tr>\n",
       "      <th>Kentucky</th>\n",
       "      <td>0.700390</td>\n",
       "    </tr>\n",
       "    <tr>\n",
       "      <th>Louisiana</th>\n",
       "      <td>0.801888</td>\n",
       "    </tr>\n",
       "    <tr>\n",
       "      <th>Mississippi</th>\n",
       "      <td>1.000000</td>\n",
       "    </tr>\n",
       "    <tr>\n",
       "      <th>New Mexico</th>\n",
       "      <td>0.743427</td>\n",
       "    </tr>\n",
       "  </tbody>\n",
       "</table>\n",
       "</div>"
      ],
      "text/plain": [
       "                      PovertyRate\n",
       "State                            \n",
       "Alabama                  0.773809\n",
       "Arkansas                 0.716112\n",
       "District of Columbia     0.674124\n",
       "Georgia                  0.726746\n",
       "Kentucky                 0.700390\n",
       "Louisiana                0.801888\n",
       "Mississippi              1.000000\n",
       "New Mexico               0.743427"
      ]
     },
     "execution_count": 89,
     "metadata": {},
     "output_type": "execute_result"
    }
   ],
   "source": [
    "states_high_pov"
   ]
  },
  {
   "cell_type": "markdown",
   "id": "901310e4",
   "metadata": {},
   "source": [
    "### There is no correlation between poverty rates and food desert status\n",
    "The states with high poverty don't have high number of food deserts"
   ]
  },
  {
   "cell_type": "code",
   "execution_count": 90,
   "id": "3e23b902",
   "metadata": {},
   "outputs": [
    {
     "data": {
      "text/plain": [
       "0.21222172433329037"
      ]
     },
     "execution_count": 90,
     "metadata": {},
     "output_type": "execute_result"
    }
   ],
   "source": [
    "states_high_pov[\"PovertyRate\"].corr(states_food_deserts_nm[\"food_desert_rate\"])"
   ]
  },
  {
   "cell_type": "markdown",
   "id": "5a61d0a7",
   "metadata": {},
   "source": [
    "#### Checking correlation of poverty rate and food desert status of all the states "
   ]
  },
  {
   "cell_type": "code",
   "execution_count": 91,
   "id": "25d52de4",
   "metadata": {},
   "outputs": [],
   "source": [
    "scaler = MinMaxScaler()\n",
    "states_food_deserts_nm = pd.DataFrame(scaler.fit_transform(states_food_deserts), columns=[\"food_desert_rate\"], index=states_food_deserts.index)"
   ]
  },
  {
   "cell_type": "markdown",
   "id": "b28281fc",
   "metadata": {},
   "source": [
    "#### There is very less correlation between povery rate and food deserts in all states"
   ]
  },
  {
   "cell_type": "code",
   "execution_count": 92,
   "id": "13b25956",
   "metadata": {},
   "outputs": [
    {
     "data": {
      "text/plain": [
       "0.4098760019748423"
      ]
     },
     "execution_count": 92,
     "metadata": {},
     "output_type": "execute_result"
    }
   ],
   "source": [
    "states_pov_nm[\"PovertyRate\"].corr(states_food_deserts_nm[\"food_desert_rate\"])"
   ]
  },
  {
   "cell_type": "code",
   "execution_count": 93,
   "id": "f57ffdf6",
   "metadata": {},
   "outputs": [
    {
     "data": {
      "text/html": [
       "<div>\n",
       "<style scoped>\n",
       "    .dataframe tbody tr th:only-of-type {\n",
       "        vertical-align: middle;\n",
       "    }\n",
       "\n",
       "    .dataframe tbody tr th {\n",
       "        vertical-align: top;\n",
       "    }\n",
       "\n",
       "    .dataframe thead th {\n",
       "        text-align: right;\n",
       "    }\n",
       "</style>\n",
       "<table border=\"1\" class=\"dataframe\">\n",
       "  <thead>\n",
       "    <tr style=\"text-align: right;\">\n",
       "      <th></th>\n",
       "      <th>CensusTract</th>\n",
       "      <th>State</th>\n",
       "      <th>County</th>\n",
       "      <th>Urban</th>\n",
       "      <th>POP2010</th>\n",
       "      <th>OHU2010</th>\n",
       "      <th>GroupQuartersFlag</th>\n",
       "      <th>NUMGQTRS</th>\n",
       "      <th>PCTGQTRS</th>\n",
       "      <th>LILATracts_1And10</th>\n",
       "      <th>...</th>\n",
       "      <th>TractSeniors</th>\n",
       "      <th>TractWhite</th>\n",
       "      <th>TractBlack</th>\n",
       "      <th>TractAsian</th>\n",
       "      <th>TractNHOPI</th>\n",
       "      <th>TractAIAN</th>\n",
       "      <th>TractOMultir</th>\n",
       "      <th>TractHispanic</th>\n",
       "      <th>TractHUNV</th>\n",
       "      <th>TractSNAP</th>\n",
       "    </tr>\n",
       "  </thead>\n",
       "  <tbody>\n",
       "    <tr>\n",
       "      <th>6</th>\n",
       "      <td>1001020700</td>\n",
       "      <td>Alabama</td>\n",
       "      <td>Autauga</td>\n",
       "      <td>1</td>\n",
       "      <td>2891</td>\n",
       "      <td>1188</td>\n",
       "      <td>0</td>\n",
       "      <td>36</td>\n",
       "      <td>0.012452</td>\n",
       "      <td>1</td>\n",
       "      <td>...</td>\n",
       "      <td>360</td>\n",
       "      <td>2333</td>\n",
       "      <td>435</td>\n",
       "      <td>13</td>\n",
       "      <td>3</td>\n",
       "      <td>11</td>\n",
       "      <td>96</td>\n",
       "      <td>98</td>\n",
       "      <td>134</td>\n",
       "      <td>218</td>\n",
       "    </tr>\n",
       "    <tr>\n",
       "      <th>11</th>\n",
       "      <td>1001021100</td>\n",
       "      <td>Alabama</td>\n",
       "      <td>Autauga</td>\n",
       "      <td>0</td>\n",
       "      <td>3320</td>\n",
       "      <td>1306</td>\n",
       "      <td>0</td>\n",
       "      <td>33</td>\n",
       "      <td>0.009940</td>\n",
       "      <td>1</td>\n",
       "      <td>...</td>\n",
       "      <td>493</td>\n",
       "      <td>1441</td>\n",
       "      <td>1810</td>\n",
       "      <td>2</td>\n",
       "      <td>0</td>\n",
       "      <td>14</td>\n",
       "      <td>53</td>\n",
       "      <td>39</td>\n",
       "      <td>196</td>\n",
       "      <td>262</td>\n",
       "    </tr>\n",
       "    <tr>\n",
       "      <th>17</th>\n",
       "      <td>1003010600</td>\n",
       "      <td>Alabama</td>\n",
       "      <td>Baldwin</td>\n",
       "      <td>1</td>\n",
       "      <td>3325</td>\n",
       "      <td>1186</td>\n",
       "      <td>0</td>\n",
       "      <td>14</td>\n",
       "      <td>0.004210</td>\n",
       "      <td>1</td>\n",
       "      <td>...</td>\n",
       "      <td>305</td>\n",
       "      <td>1323</td>\n",
       "      <td>1851</td>\n",
       "      <td>3</td>\n",
       "      <td>0</td>\n",
       "      <td>30</td>\n",
       "      <td>118</td>\n",
       "      <td>92</td>\n",
       "      <td>156</td>\n",
       "      <td>311</td>\n",
       "    </tr>\n",
       "    <tr>\n",
       "      <th>37</th>\n",
       "      <td>1003011407</td>\n",
       "      <td>Alabama</td>\n",
       "      <td>Baldwin</td>\n",
       "      <td>1</td>\n",
       "      <td>4799</td>\n",
       "      <td>2161</td>\n",
       "      <td>0</td>\n",
       "      <td>4</td>\n",
       "      <td>0.000834</td>\n",
       "      <td>1</td>\n",
       "      <td>...</td>\n",
       "      <td>1040</td>\n",
       "      <td>4525</td>\n",
       "      <td>56</td>\n",
       "      <td>36</td>\n",
       "      <td>1</td>\n",
       "      <td>26</td>\n",
       "      <td>155</td>\n",
       "      <td>57</td>\n",
       "      <td>64</td>\n",
       "      <td>143</td>\n",
       "    </tr>\n",
       "    <tr>\n",
       "      <th>40</th>\n",
       "      <td>1003011502</td>\n",
       "      <td>Alabama</td>\n",
       "      <td>Baldwin</td>\n",
       "      <td>1</td>\n",
       "      <td>10534</td>\n",
       "      <td>4330</td>\n",
       "      <td>0</td>\n",
       "      <td>0</td>\n",
       "      <td>0.000000</td>\n",
       "      <td>1</td>\n",
       "      <td>...</td>\n",
       "      <td>1882</td>\n",
       "      <td>7818</td>\n",
       "      <td>1693</td>\n",
       "      <td>113</td>\n",
       "      <td>8</td>\n",
       "      <td>74</td>\n",
       "      <td>828</td>\n",
       "      <td>1314</td>\n",
       "      <td>245</td>\n",
       "      <td>613</td>\n",
       "    </tr>\n",
       "    <tr>\n",
       "      <th>...</th>\n",
       "      <td>...</td>\n",
       "      <td>...</td>\n",
       "      <td>...</td>\n",
       "      <td>...</td>\n",
       "      <td>...</td>\n",
       "      <td>...</td>\n",
       "      <td>...</td>\n",
       "      <td>...</td>\n",
       "      <td>...</td>\n",
       "      <td>...</td>\n",
       "      <td>...</td>\n",
       "      <td>...</td>\n",
       "      <td>...</td>\n",
       "      <td>...</td>\n",
       "      <td>...</td>\n",
       "      <td>...</td>\n",
       "      <td>...</td>\n",
       "      <td>...</td>\n",
       "      <td>...</td>\n",
       "      <td>...</td>\n",
       "      <td>...</td>\n",
       "    </tr>\n",
       "    <tr>\n",
       "      <th>72791</th>\n",
       "      <td>56021001100</td>\n",
       "      <td>Wyoming</td>\n",
       "      <td>Laramie</td>\n",
       "      <td>1</td>\n",
       "      <td>3072</td>\n",
       "      <td>794</td>\n",
       "      <td>0</td>\n",
       "      <td>503</td>\n",
       "      <td>0.163737</td>\n",
       "      <td>1</td>\n",
       "      <td>...</td>\n",
       "      <td>3</td>\n",
       "      <td>2431</td>\n",
       "      <td>233</td>\n",
       "      <td>72</td>\n",
       "      <td>10</td>\n",
       "      <td>21</td>\n",
       "      <td>305</td>\n",
       "      <td>347</td>\n",
       "      <td>6</td>\n",
       "      <td>4</td>\n",
       "    </tr>\n",
       "    <tr>\n",
       "      <th>72797</th>\n",
       "      <td>56021001502</td>\n",
       "      <td>Wyoming</td>\n",
       "      <td>Laramie</td>\n",
       "      <td>1</td>\n",
       "      <td>4899</td>\n",
       "      <td>2149</td>\n",
       "      <td>0</td>\n",
       "      <td>11</td>\n",
       "      <td>0.002245</td>\n",
       "      <td>1</td>\n",
       "      <td>...</td>\n",
       "      <td>684</td>\n",
       "      <td>4281</td>\n",
       "      <td>130</td>\n",
       "      <td>44</td>\n",
       "      <td>5</td>\n",
       "      <td>30</td>\n",
       "      <td>409</td>\n",
       "      <td>668</td>\n",
       "      <td>166</td>\n",
       "      <td>355</td>\n",
       "    </tr>\n",
       "    <tr>\n",
       "      <th>72806</th>\n",
       "      <td>56025000200</td>\n",
       "      <td>Wyoming</td>\n",
       "      <td>Natrona</td>\n",
       "      <td>1</td>\n",
       "      <td>4385</td>\n",
       "      <td>2050</td>\n",
       "      <td>0</td>\n",
       "      <td>187</td>\n",
       "      <td>0.042645</td>\n",
       "      <td>1</td>\n",
       "      <td>...</td>\n",
       "      <td>528</td>\n",
       "      <td>3631</td>\n",
       "      <td>128</td>\n",
       "      <td>36</td>\n",
       "      <td>1</td>\n",
       "      <td>90</td>\n",
       "      <td>499</td>\n",
       "      <td>753</td>\n",
       "      <td>339</td>\n",
       "      <td>482</td>\n",
       "    </tr>\n",
       "    <tr>\n",
       "      <th>72828</th>\n",
       "      <td>56029965400</td>\n",
       "      <td>Wyoming</td>\n",
       "      <td>Park</td>\n",
       "      <td>1</td>\n",
       "      <td>5769</td>\n",
       "      <td>2543</td>\n",
       "      <td>0</td>\n",
       "      <td>66</td>\n",
       "      <td>0.011440</td>\n",
       "      <td>1</td>\n",
       "      <td>...</td>\n",
       "      <td>975</td>\n",
       "      <td>5494</td>\n",
       "      <td>9</td>\n",
       "      <td>20</td>\n",
       "      <td>7</td>\n",
       "      <td>46</td>\n",
       "      <td>193</td>\n",
       "      <td>202</td>\n",
       "      <td>38</td>\n",
       "      <td>133</td>\n",
       "    </tr>\n",
       "    <tr>\n",
       "      <th>72831</th>\n",
       "      <td>56031959400</td>\n",
       "      <td>Wyoming</td>\n",
       "      <td>Platte</td>\n",
       "      <td>0</td>\n",
       "      <td>6575</td>\n",
       "      <td>2886</td>\n",
       "      <td>0</td>\n",
       "      <td>103</td>\n",
       "      <td>0.015665</td>\n",
       "      <td>1</td>\n",
       "      <td>...</td>\n",
       "      <td>1375</td>\n",
       "      <td>6273</td>\n",
       "      <td>25</td>\n",
       "      <td>24</td>\n",
       "      <td>4</td>\n",
       "      <td>30</td>\n",
       "      <td>219</td>\n",
       "      <td>408</td>\n",
       "      <td>69</td>\n",
       "      <td>273</td>\n",
       "    </tr>\n",
       "  </tbody>\n",
       "</table>\n",
       "<p>9245 rows × 147 columns</p>\n",
       "</div>"
      ],
      "text/plain": [
       "       CensusTract    State   County  Urban  POP2010  OHU2010  \\\n",
       "6       1001020700  Alabama  Autauga      1     2891     1188   \n",
       "11      1001021100  Alabama  Autauga      0     3320     1306   \n",
       "17      1003010600  Alabama  Baldwin      1     3325     1186   \n",
       "37      1003011407  Alabama  Baldwin      1     4799     2161   \n",
       "40      1003011502  Alabama  Baldwin      1    10534     4330   \n",
       "...            ...      ...      ...    ...      ...      ...   \n",
       "72791  56021001100  Wyoming  Laramie      1     3072      794   \n",
       "72797  56021001502  Wyoming  Laramie      1     4899     2149   \n",
       "72806  56025000200  Wyoming  Natrona      1     4385     2050   \n",
       "72828  56029965400  Wyoming     Park      1     5769     2543   \n",
       "72831  56031959400  Wyoming   Platte      0     6575     2886   \n",
       "\n",
       "       GroupQuartersFlag  NUMGQTRS  PCTGQTRS  LILATracts_1And10  ...  \\\n",
       "6                      0        36  0.012452                  1  ...   \n",
       "11                     0        33  0.009940                  1  ...   \n",
       "17                     0        14  0.004210                  1  ...   \n",
       "37                     0         4  0.000834                  1  ...   \n",
       "40                     0         0  0.000000                  1  ...   \n",
       "...                  ...       ...       ...                ...  ...   \n",
       "72791                  0       503  0.163737                  1  ...   \n",
       "72797                  0        11  0.002245                  1  ...   \n",
       "72806                  0       187  0.042645                  1  ...   \n",
       "72828                  0        66  0.011440                  1  ...   \n",
       "72831                  0       103  0.015665                  1  ...   \n",
       "\n",
       "       TractSeniors  TractWhite  TractBlack  TractAsian  TractNHOPI  \\\n",
       "6               360        2333         435          13           3   \n",
       "11              493        1441        1810           2           0   \n",
       "17              305        1323        1851           3           0   \n",
       "37             1040        4525          56          36           1   \n",
       "40             1882        7818        1693         113           8   \n",
       "...             ...         ...         ...         ...         ...   \n",
       "72791             3        2431         233          72          10   \n",
       "72797           684        4281         130          44           5   \n",
       "72806           528        3631         128          36           1   \n",
       "72828           975        5494           9          20           7   \n",
       "72831          1375        6273          25          24           4   \n",
       "\n",
       "       TractAIAN  TractOMultir  TractHispanic  TractHUNV  TractSNAP  \n",
       "6             11            96             98        134        218  \n",
       "11            14            53             39        196        262  \n",
       "17            30           118             92        156        311  \n",
       "37            26           155             57         64        143  \n",
       "40            74           828           1314        245        613  \n",
       "...          ...           ...            ...        ...        ...  \n",
       "72791         21           305            347          6          4  \n",
       "72797         30           409            668        166        355  \n",
       "72806         90           499            753        339        482  \n",
       "72828         46           193            202         38        133  \n",
       "72831         30           219            408         69        273  \n",
       "\n",
       "[9245 rows x 147 columns]"
      ]
     },
     "execution_count": 93,
     "metadata": {},
     "output_type": "execute_result"
    }
   ],
   "source": [
    "data[data[\"LILATracts_1And10\"] ==1]"
   ]
  },
  {
   "cell_type": "code",
   "execution_count": 94,
   "id": "458057b4",
   "metadata": {
    "scrolled": true
   },
   "outputs": [
    {
     "data": {
      "text/plain": [
       "California              8044\n",
       "Texas                   5258\n",
       "New York                4907\n",
       "Florida                 4214\n",
       "Pennsylvania            3218\n",
       "Illinois                3121\n",
       "Ohio                    2949\n",
       "Michigan                2774\n",
       "North Carolina          2192\n",
       "New Jersey              2007\n",
       "Georgia                 1965\n",
       "Virginia                1900\n",
       "Arizona                 1526\n",
       "Indiana                 1508\n",
       "Tennessee               1497\n",
       "Massachusetts           1476\n",
       "Washington              1455\n",
       "Maryland                1399\n",
       "Wisconsin               1395\n",
       "Missouri                1393\n",
       "Minnesota               1336\n",
       "Colorado                1249\n",
       "Alabama                 1179\n",
       "Louisiana               1143\n",
       "Kentucky                1115\n",
       "South Carolina          1103\n",
       "Oklahoma                1046\n",
       "Connecticut              832\n",
       "Oregon                   830\n",
       "Iowa                     825\n",
       "Kansas                   770\n",
       "Nevada                   687\n",
       "Arkansas                 686\n",
       "Mississippi              662\n",
       "Utah                     588\n",
       "Nebraska                 532\n",
       "New Mexico               499\n",
       "West Virginia            484\n",
       "Maine                    355\n",
       "Hawaii                   332\n",
       "Idaho                    298\n",
       "New Hampshire            295\n",
       "Montana                  271\n",
       "Rhode Island             242\n",
       "South Dakota             222\n",
       "Delaware                 218\n",
       "North Dakota             205\n",
       "Vermont                  184\n",
       "District of Columbia     179\n",
       "Alaska                   167\n",
       "Wyoming                  132\n",
       "Name: State, dtype: int64"
      ]
     },
     "execution_count": 94,
     "metadata": {},
     "output_type": "execute_result"
    }
   ],
   "source": [
    "data[\"State\"].value_counts()"
   ]
  },
  {
   "cell_type": "markdown",
   "id": "7e697ec4",
   "metadata": {},
   "source": [
    "## Countywise poverty and food desert relationship"
   ]
  },
  {
   "cell_type": "code",
   "execution_count": 95,
   "id": "d3050afd",
   "metadata": {},
   "outputs": [],
   "source": [
    "county_pov = pd.DataFrame(data.groupby(\"County\").mean(\"PovertyRate\")[\"PovertyRate\"])"
   ]
  },
  {
   "cell_type": "code",
   "execution_count": 96,
   "id": "5b02671c",
   "metadata": {},
   "outputs": [
    {
     "data": {
      "text/html": [
       "<div>\n",
       "<style scoped>\n",
       "    .dataframe tbody tr th:only-of-type {\n",
       "        vertical-align: middle;\n",
       "    }\n",
       "\n",
       "    .dataframe tbody tr th {\n",
       "        vertical-align: top;\n",
       "    }\n",
       "\n",
       "    .dataframe thead th {\n",
       "        text-align: right;\n",
       "    }\n",
       "</style>\n",
       "<table border=\"1\" class=\"dataframe\">\n",
       "  <thead>\n",
       "    <tr style=\"text-align: right;\">\n",
       "      <th></th>\n",
       "      <th>PovertyRate</th>\n",
       "    </tr>\n",
       "    <tr>\n",
       "      <th>County</th>\n",
       "      <th></th>\n",
       "    </tr>\n",
       "  </thead>\n",
       "  <tbody>\n",
       "    <tr>\n",
       "      <th>0</th>\n",
       "      <td>17.471429</td>\n",
       "    </tr>\n",
       "    <tr>\n",
       "      <th>Abbeville</th>\n",
       "      <td>22.250000</td>\n",
       "    </tr>\n",
       "    <tr>\n",
       "      <th>Acadia</th>\n",
       "      <td>19.758333</td>\n",
       "    </tr>\n",
       "    <tr>\n",
       "      <th>Accomack</th>\n",
       "      <td>24.090909</td>\n",
       "    </tr>\n",
       "    <tr>\n",
       "      <th>Ada</th>\n",
       "      <td>14.003390</td>\n",
       "    </tr>\n",
       "  </tbody>\n",
       "</table>\n",
       "</div>"
      ],
      "text/plain": [
       "           PovertyRate\n",
       "County                \n",
       "0            17.471429\n",
       "Abbeville    22.250000\n",
       "Acadia       19.758333\n",
       "Accomack     24.090909\n",
       "Ada          14.003390"
      ]
     },
     "execution_count": 96,
     "metadata": {},
     "output_type": "execute_result"
    }
   ],
   "source": [
    "county_pov.head()"
   ]
  },
  {
   "cell_type": "markdown",
   "id": "09526b40",
   "metadata": {},
   "source": [
    "### Normalising the povertyrate count \n",
    "This is done before picking the high poverty states to have it normalised based on the overall data"
   ]
  },
  {
   "cell_type": "code",
   "execution_count": 97,
   "id": "dc1422c4",
   "metadata": {},
   "outputs": [],
   "source": [
    "scaler = MinMaxScaler()\n",
    "\n",
    "county_pov_nm = pd.DataFrame(scaler.fit_transform(county_pov), columns=[\"PovertyRate\"], index= county_pov.index)"
   ]
  },
  {
   "cell_type": "code",
   "execution_count": 98,
   "id": "945754c0",
   "metadata": {},
   "outputs": [
    {
     "data": {
      "text/html": [
       "<div>\n",
       "<style scoped>\n",
       "    .dataframe tbody tr th:only-of-type {\n",
       "        vertical-align: middle;\n",
       "    }\n",
       "\n",
       "    .dataframe tbody tr th {\n",
       "        vertical-align: top;\n",
       "    }\n",
       "\n",
       "    .dataframe thead th {\n",
       "        text-align: right;\n",
       "    }\n",
       "</style>\n",
       "<table border=\"1\" class=\"dataframe\">\n",
       "  <thead>\n",
       "    <tr style=\"text-align: right;\">\n",
       "      <th></th>\n",
       "      <th>PovertyRate</th>\n",
       "    </tr>\n",
       "    <tr>\n",
       "      <th>County</th>\n",
       "      <th></th>\n",
       "    </tr>\n",
       "  </thead>\n",
       "  <tbody>\n",
       "    <tr>\n",
       "      <th>0</th>\n",
       "      <td>0.374121</td>\n",
       "    </tr>\n",
       "    <tr>\n",
       "      <th>Abbeville</th>\n",
       "      <td>0.476445</td>\n",
       "    </tr>\n",
       "    <tr>\n",
       "      <th>Acadia</th>\n",
       "      <td>0.423091</td>\n",
       "    </tr>\n",
       "    <tr>\n",
       "      <th>Accomack</th>\n",
       "      <td>0.515865</td>\n",
       "    </tr>\n",
       "    <tr>\n",
       "      <th>Ada</th>\n",
       "      <td>0.299858</td>\n",
       "    </tr>\n",
       "    <tr>\n",
       "      <th>...</th>\n",
       "      <td>...</td>\n",
       "    </tr>\n",
       "    <tr>\n",
       "      <th>Yukon-Koyukuk</th>\n",
       "      <td>0.516060</td>\n",
       "    </tr>\n",
       "    <tr>\n",
       "      <th>Yuma</th>\n",
       "      <td>0.399902</td>\n",
       "    </tr>\n",
       "    <tr>\n",
       "      <th>Zapata</th>\n",
       "      <td>0.766595</td>\n",
       "    </tr>\n",
       "    <tr>\n",
       "      <th>Zavala</th>\n",
       "      <td>0.707173</td>\n",
       "    </tr>\n",
       "    <tr>\n",
       "      <th>Ziebach</th>\n",
       "      <td>0.862955</td>\n",
       "    </tr>\n",
       "  </tbody>\n",
       "</table>\n",
       "<p>1837 rows × 1 columns</p>\n",
       "</div>"
      ],
      "text/plain": [
       "               PovertyRate\n",
       "County                    \n",
       "0                 0.374121\n",
       "Abbeville         0.476445\n",
       "Acadia            0.423091\n",
       "Accomack          0.515865\n",
       "Ada               0.299858\n",
       "...                    ...\n",
       "Yukon-Koyukuk     0.516060\n",
       "Yuma              0.399902\n",
       "Zapata            0.766595\n",
       "Zavala            0.707173\n",
       "Ziebach           0.862955\n",
       "\n",
       "[1837 rows x 1 columns]"
      ]
     },
     "execution_count": 98,
     "metadata": {},
     "output_type": "execute_result"
    }
   ],
   "source": [
    "county_pov_nm"
   ]
  },
  {
   "cell_type": "code",
   "execution_count": 99,
   "id": "00d61a2e",
   "metadata": {},
   "outputs": [],
   "source": [
    "county_high_pov =pd.DataFrame(county_pov_nm[ ( county_pov_nm[\"PovertyRate\"] > county_pov_nm['PovertyRate'].quantile(0.85))])"
   ]
  },
  {
   "cell_type": "code",
   "execution_count": 100,
   "id": "4851723f",
   "metadata": {},
   "outputs": [
    {
     "data": {
      "text/html": [
       "<div>\n",
       "<style scoped>\n",
       "    .dataframe tbody tr th:only-of-type {\n",
       "        vertical-align: middle;\n",
       "    }\n",
       "\n",
       "    .dataframe tbody tr th {\n",
       "        vertical-align: top;\n",
       "    }\n",
       "\n",
       "    .dataframe thead th {\n",
       "        text-align: right;\n",
       "    }\n",
       "</style>\n",
       "<table border=\"1\" class=\"dataframe\">\n",
       "  <thead>\n",
       "    <tr style=\"text-align: right;\">\n",
       "      <th></th>\n",
       "      <th>PovertyRate</th>\n",
       "    </tr>\n",
       "    <tr>\n",
       "      <th>County</th>\n",
       "      <th></th>\n",
       "    </tr>\n",
       "  </thead>\n",
       "  <tbody>\n",
       "    <tr>\n",
       "      <th>Accomack</th>\n",
       "      <td>0.515865</td>\n",
       "    </tr>\n",
       "    <tr>\n",
       "      <th>Adair</th>\n",
       "      <td>0.511680</td>\n",
       "    </tr>\n",
       "    <tr>\n",
       "      <th>Alachua</th>\n",
       "      <td>0.591198</td>\n",
       "    </tr>\n",
       "    <tr>\n",
       "      <th>Alamosa</th>\n",
       "      <td>0.532655</td>\n",
       "    </tr>\n",
       "    <tr>\n",
       "      <th>Alexander</th>\n",
       "      <td>0.534164</td>\n",
       "    </tr>\n",
       "    <tr>\n",
       "      <th>...</th>\n",
       "      <td>...</td>\n",
       "    </tr>\n",
       "    <tr>\n",
       "      <th>Yuba</th>\n",
       "      <td>0.512848</td>\n",
       "    </tr>\n",
       "    <tr>\n",
       "      <th>Yukon-Koyukuk</th>\n",
       "      <td>0.516060</td>\n",
       "    </tr>\n",
       "    <tr>\n",
       "      <th>Zapata</th>\n",
       "      <td>0.766595</td>\n",
       "    </tr>\n",
       "    <tr>\n",
       "      <th>Zavala</th>\n",
       "      <td>0.707173</td>\n",
       "    </tr>\n",
       "    <tr>\n",
       "      <th>Ziebach</th>\n",
       "      <td>0.862955</td>\n",
       "    </tr>\n",
       "  </tbody>\n",
       "</table>\n",
       "<p>276 rows × 1 columns</p>\n",
       "</div>"
      ],
      "text/plain": [
       "               PovertyRate\n",
       "County                    \n",
       "Accomack          0.515865\n",
       "Adair             0.511680\n",
       "Alachua           0.591198\n",
       "Alamosa           0.532655\n",
       "Alexander         0.534164\n",
       "...                    ...\n",
       "Yuba              0.512848\n",
       "Yukon-Koyukuk     0.516060\n",
       "Zapata            0.766595\n",
       "Zavala            0.707173\n",
       "Ziebach           0.862955\n",
       "\n",
       "[276 rows x 1 columns]"
      ]
     },
     "execution_count": 100,
     "metadata": {},
     "output_type": "execute_result"
    }
   ],
   "source": [
    "county_high_pov"
   ]
  },
  {
   "cell_type": "markdown",
   "id": "3cb5d34d",
   "metadata": {},
   "source": [
    "### The County wise food desert count"
   ]
  },
  {
   "cell_type": "code",
   "execution_count": 101,
   "id": "68e2aac0",
   "metadata": {},
   "outputs": [],
   "source": [
    "county_food_deserts = pd.DataFrame(data.groupby(\"County\")[\"LILATracts_1And10\"].sum())"
   ]
  },
  {
   "cell_type": "code",
   "execution_count": 102,
   "id": "bdf729d3",
   "metadata": {},
   "outputs": [
    {
     "data": {
      "text/html": [
       "<div>\n",
       "<style scoped>\n",
       "    .dataframe tbody tr th:only-of-type {\n",
       "        vertical-align: middle;\n",
       "    }\n",
       "\n",
       "    .dataframe tbody tr th {\n",
       "        vertical-align: top;\n",
       "    }\n",
       "\n",
       "    .dataframe thead th {\n",
       "        text-align: right;\n",
       "    }\n",
       "</style>\n",
       "<table border=\"1\" class=\"dataframe\">\n",
       "  <thead>\n",
       "    <tr style=\"text-align: right;\">\n",
       "      <th></th>\n",
       "      <th>LILATracts_1And10</th>\n",
       "    </tr>\n",
       "    <tr>\n",
       "      <th>County</th>\n",
       "      <th></th>\n",
       "    </tr>\n",
       "  </thead>\n",
       "  <tbody>\n",
       "    <tr>\n",
       "      <th>0</th>\n",
       "      <td>4</td>\n",
       "    </tr>\n",
       "    <tr>\n",
       "      <th>Abbeville</th>\n",
       "      <td>1</td>\n",
       "    </tr>\n",
       "    <tr>\n",
       "      <th>Acadia</th>\n",
       "      <td>4</td>\n",
       "    </tr>\n",
       "    <tr>\n",
       "      <th>Accomack</th>\n",
       "      <td>1</td>\n",
       "    </tr>\n",
       "    <tr>\n",
       "      <th>Ada</th>\n",
       "      <td>2</td>\n",
       "    </tr>\n",
       "  </tbody>\n",
       "</table>\n",
       "</div>"
      ],
      "text/plain": [
       "           LILATracts_1And10\n",
       "County                      \n",
       "0                          4\n",
       "Abbeville                  1\n",
       "Acadia                     4\n",
       "Accomack                   1\n",
       "Ada                        2"
      ]
     },
     "execution_count": 102,
     "metadata": {},
     "output_type": "execute_result"
    }
   ],
   "source": [
    "county_food_deserts.head()"
   ]
  },
  {
   "cell_type": "markdown",
   "id": "75695545",
   "metadata": {},
   "source": [
    "#### Normalising the food desert count \n",
    "This is done before picking only the high poverty states to have it normalised based on the overall data"
   ]
  },
  {
   "cell_type": "code",
   "execution_count": 103,
   "id": "ade809c7",
   "metadata": {},
   "outputs": [],
   "source": [
    "scaler = MinMaxScaler()\n",
    "\n",
    "county_food_deserts_nm = pd.DataFrame(scaler.fit_transform(county_food_deserts), columns=[\"food_desert_rate\"], index=county_food_deserts.index)"
   ]
  },
  {
   "cell_type": "code",
   "execution_count": 104,
   "id": "16a28d27",
   "metadata": {},
   "outputs": [
    {
     "data": {
      "text/html": [
       "<div>\n",
       "<style scoped>\n",
       "    .dataframe tbody tr th:only-of-type {\n",
       "        vertical-align: middle;\n",
       "    }\n",
       "\n",
       "    .dataframe tbody tr th {\n",
       "        vertical-align: top;\n",
       "    }\n",
       "\n",
       "    .dataframe thead th {\n",
       "        text-align: right;\n",
       "    }\n",
       "</style>\n",
       "<table border=\"1\" class=\"dataframe\">\n",
       "  <thead>\n",
       "    <tr style=\"text-align: right;\">\n",
       "      <th></th>\n",
       "      <th>food_desert_rate</th>\n",
       "    </tr>\n",
       "    <tr>\n",
       "      <th>County</th>\n",
       "      <th></th>\n",
       "    </tr>\n",
       "  </thead>\n",
       "  <tbody>\n",
       "    <tr>\n",
       "      <th>0</th>\n",
       "      <td>0.031008</td>\n",
       "    </tr>\n",
       "    <tr>\n",
       "      <th>Abbeville</th>\n",
       "      <td>0.007752</td>\n",
       "    </tr>\n",
       "    <tr>\n",
       "      <th>Acadia</th>\n",
       "      <td>0.031008</td>\n",
       "    </tr>\n",
       "    <tr>\n",
       "      <th>Accomack</th>\n",
       "      <td>0.007752</td>\n",
       "    </tr>\n",
       "    <tr>\n",
       "      <th>Ada</th>\n",
       "      <td>0.015504</td>\n",
       "    </tr>\n",
       "  </tbody>\n",
       "</table>\n",
       "</div>"
      ],
      "text/plain": [
       "           food_desert_rate\n",
       "County                     \n",
       "0                  0.031008\n",
       "Abbeville          0.007752\n",
       "Acadia             0.031008\n",
       "Accomack           0.007752\n",
       "Ada                0.015504"
      ]
     },
     "execution_count": 104,
     "metadata": {},
     "output_type": "execute_result"
    }
   ],
   "source": [
    "county_food_deserts_nm.head()"
   ]
  },
  {
   "cell_type": "markdown",
   "id": "59251dcb",
   "metadata": {},
   "source": [
    "#### Picking only the high poverty counties from the food deserts"
   ]
  },
  {
   "cell_type": "code",
   "execution_count": 105,
   "id": "ff848377",
   "metadata": {},
   "outputs": [
    {
     "data": {
      "text/plain": [
       "PovertyRate    276\n",
       "dtype: int64"
      ]
     },
     "execution_count": 105,
     "metadata": {},
     "output_type": "execute_result"
    }
   ],
   "source": [
    "county_high_pov.count()"
   ]
  },
  {
   "cell_type": "code",
   "execution_count": 106,
   "id": "84043076",
   "metadata": {},
   "outputs": [],
   "source": [
    "county_food_deserts_nm = county_food_deserts_nm.loc[county_high_pov.index]"
   ]
  },
  {
   "cell_type": "code",
   "execution_count": 107,
   "id": "5537382c",
   "metadata": {},
   "outputs": [
    {
     "data": {
      "text/html": [
       "<div>\n",
       "<style scoped>\n",
       "    .dataframe tbody tr th:only-of-type {\n",
       "        vertical-align: middle;\n",
       "    }\n",
       "\n",
       "    .dataframe tbody tr th {\n",
       "        vertical-align: top;\n",
       "    }\n",
       "\n",
       "    .dataframe thead th {\n",
       "        text-align: right;\n",
       "    }\n",
       "</style>\n",
       "<table border=\"1\" class=\"dataframe\">\n",
       "  <thead>\n",
       "    <tr style=\"text-align: right;\">\n",
       "      <th></th>\n",
       "      <th>food_desert_rate</th>\n",
       "    </tr>\n",
       "    <tr>\n",
       "      <th>County</th>\n",
       "      <th></th>\n",
       "    </tr>\n",
       "  </thead>\n",
       "  <tbody>\n",
       "    <tr>\n",
       "      <th>Accomack</th>\n",
       "      <td>0.007752</td>\n",
       "    </tr>\n",
       "    <tr>\n",
       "      <th>Adair</th>\n",
       "      <td>0.023256</td>\n",
       "    </tr>\n",
       "    <tr>\n",
       "      <th>Alachua</th>\n",
       "      <td>0.085271</td>\n",
       "    </tr>\n",
       "    <tr>\n",
       "      <th>Alamosa</th>\n",
       "      <td>0.023256</td>\n",
       "    </tr>\n",
       "    <tr>\n",
       "      <th>Alexander</th>\n",
       "      <td>0.023256</td>\n",
       "    </tr>\n",
       "    <tr>\n",
       "      <th>...</th>\n",
       "      <td>...</td>\n",
       "    </tr>\n",
       "    <tr>\n",
       "      <th>Yuba</th>\n",
       "      <td>0.031008</td>\n",
       "    </tr>\n",
       "    <tr>\n",
       "      <th>Yukon-Koyukuk</th>\n",
       "      <td>0.031008</td>\n",
       "    </tr>\n",
       "    <tr>\n",
       "      <th>Zapata</th>\n",
       "      <td>0.023256</td>\n",
       "    </tr>\n",
       "    <tr>\n",
       "      <th>Zavala</th>\n",
       "      <td>0.023256</td>\n",
       "    </tr>\n",
       "    <tr>\n",
       "      <th>Ziebach</th>\n",
       "      <td>0.007752</td>\n",
       "    </tr>\n",
       "  </tbody>\n",
       "</table>\n",
       "<p>276 rows × 1 columns</p>\n",
       "</div>"
      ],
      "text/plain": [
       "               food_desert_rate\n",
       "County                         \n",
       "Accomack               0.007752\n",
       "Adair                  0.023256\n",
       "Alachua                0.085271\n",
       "Alamosa                0.023256\n",
       "Alexander              0.023256\n",
       "...                         ...\n",
       "Yuba                   0.031008\n",
       "Yukon-Koyukuk          0.031008\n",
       "Zapata                 0.023256\n",
       "Zavala                 0.023256\n",
       "Ziebach                0.007752\n",
       "\n",
       "[276 rows x 1 columns]"
      ]
     },
     "execution_count": 107,
     "metadata": {},
     "output_type": "execute_result"
    }
   ],
   "source": [
    "county_food_deserts_nm"
   ]
  },
  {
   "cell_type": "code",
   "execution_count": 108,
   "id": "e720ac84",
   "metadata": {},
   "outputs": [
    {
     "data": {
      "text/html": [
       "<div>\n",
       "<style scoped>\n",
       "    .dataframe tbody tr th:only-of-type {\n",
       "        vertical-align: middle;\n",
       "    }\n",
       "\n",
       "    .dataframe tbody tr th {\n",
       "        vertical-align: top;\n",
       "    }\n",
       "\n",
       "    .dataframe thead th {\n",
       "        text-align: right;\n",
       "    }\n",
       "</style>\n",
       "<table border=\"1\" class=\"dataframe\">\n",
       "  <thead>\n",
       "    <tr style=\"text-align: right;\">\n",
       "      <th></th>\n",
       "      <th>PovertyRate</th>\n",
       "    </tr>\n",
       "    <tr>\n",
       "      <th>County</th>\n",
       "      <th></th>\n",
       "    </tr>\n",
       "  </thead>\n",
       "  <tbody>\n",
       "    <tr>\n",
       "      <th>Accomack</th>\n",
       "      <td>0.515865</td>\n",
       "    </tr>\n",
       "    <tr>\n",
       "      <th>Adair</th>\n",
       "      <td>0.511680</td>\n",
       "    </tr>\n",
       "    <tr>\n",
       "      <th>Alachua</th>\n",
       "      <td>0.591198</td>\n",
       "    </tr>\n",
       "    <tr>\n",
       "      <th>Alamosa</th>\n",
       "      <td>0.532655</td>\n",
       "    </tr>\n",
       "    <tr>\n",
       "      <th>Alexander</th>\n",
       "      <td>0.534164</td>\n",
       "    </tr>\n",
       "    <tr>\n",
       "      <th>...</th>\n",
       "      <td>...</td>\n",
       "    </tr>\n",
       "    <tr>\n",
       "      <th>Yuba</th>\n",
       "      <td>0.512848</td>\n",
       "    </tr>\n",
       "    <tr>\n",
       "      <th>Yukon-Koyukuk</th>\n",
       "      <td>0.516060</td>\n",
       "    </tr>\n",
       "    <tr>\n",
       "      <th>Zapata</th>\n",
       "      <td>0.766595</td>\n",
       "    </tr>\n",
       "    <tr>\n",
       "      <th>Zavala</th>\n",
       "      <td>0.707173</td>\n",
       "    </tr>\n",
       "    <tr>\n",
       "      <th>Ziebach</th>\n",
       "      <td>0.862955</td>\n",
       "    </tr>\n",
       "  </tbody>\n",
       "</table>\n",
       "<p>276 rows × 1 columns</p>\n",
       "</div>"
      ],
      "text/plain": [
       "               PovertyRate\n",
       "County                    \n",
       "Accomack          0.515865\n",
       "Adair             0.511680\n",
       "Alachua           0.591198\n",
       "Alamosa           0.532655\n",
       "Alexander         0.534164\n",
       "...                    ...\n",
       "Yuba              0.512848\n",
       "Yukon-Koyukuk     0.516060\n",
       "Zapata            0.766595\n",
       "Zavala            0.707173\n",
       "Ziebach           0.862955\n",
       "\n",
       "[276 rows x 1 columns]"
      ]
     },
     "execution_count": 108,
     "metadata": {},
     "output_type": "execute_result"
    }
   ],
   "source": [
    "county_high_pov"
   ]
  },
  {
   "cell_type": "markdown",
   "id": "b7bcba22",
   "metadata": {},
   "source": [
    "### There is no correlation between poverty rates and food desert status even in countywise\n",
    "The counties with high poverty don't have high number of food deserts"
   ]
  },
  {
   "cell_type": "code",
   "execution_count": 109,
   "id": "a60c6153",
   "metadata": {},
   "outputs": [
    {
     "data": {
      "text/plain": [
       "-0.011332335327506245"
      ]
     },
     "execution_count": 109,
     "metadata": {},
     "output_type": "execute_result"
    }
   ],
   "source": [
    "county_high_pov[\"PovertyRate\"].corr(county_food_deserts_nm[\"food_desert_rate\"])"
   ]
  },
  {
   "cell_type": "markdown",
   "id": "58cfc2f9",
   "metadata": {},
   "source": [
    "#### Checking correlation of poverty rate and food desert status of all the counties "
   ]
  },
  {
   "cell_type": "code",
   "execution_count": 110,
   "id": "2aa5a4e8",
   "metadata": {},
   "outputs": [],
   "source": [
    "scaler = MinMaxScaler()\n",
    "county_food_deserts_nm = pd.DataFrame(scaler.fit_transform(county_food_deserts), columns=[\"food_desert_rate\"], index=county_food_deserts.index)"
   ]
  },
  {
   "cell_type": "markdown",
   "id": "a63632c5",
   "metadata": {},
   "source": [
    "#### There is very less correlation between povery rate and food deserts in all counties"
   ]
  },
  {
   "cell_type": "code",
   "execution_count": 111,
   "id": "ae89ce36",
   "metadata": {},
   "outputs": [
    {
     "data": {
      "text/plain": [
       "0.08831953472995763"
      ]
     },
     "execution_count": 111,
     "metadata": {},
     "output_type": "execute_result"
    }
   ],
   "source": [
    "county_pov_nm[\"PovertyRate\"].corr(county_food_deserts_nm[\"food_desert_rate\"])"
   ]
  },
  {
   "cell_type": "markdown",
   "id": "feac2b3e",
   "metadata": {},
   "source": [
    "# Question 5 "
   ]
  },
  {
   "cell_type": "code",
   "execution_count": null,
   "id": "89fec0cd",
   "metadata": {},
   "outputs": [],
   "source": [
    "import seaborn as sns\n",
    "import matplotlib.pyplot as plt"
   ]
  },
  {
   "cell_type": "code",
   "execution_count": 74,
   "id": "1960ae9a",
   "metadata": {},
   "outputs": [
    {
     "data": {
      "image/png": "[encoded data removed]",
      "text/plain": [
       "<Figure size 640x480 with 1 Axes>"
      ]
     },
     "metadata": {},
     "output_type": "display_data"
    }
   ],
   "source": [
    "\n",
    "\n",
    "# Data\n",
    "percentages = [5.4, 4.1,90.5]\n",
    "labels = ['Urban', 'Rural','Urban and Rural areas With vehicles']\n",
    "colors = ['#66b2ff', '#ff9999', 'black']\n",
    "\n",
    "# Create Pie Chart\n",
    "fig, ax = plt.subplots()\n",
    "ax.pie(percentages, labels=labels, colors=colors, autopct='%1.1f%%', startangle=90)\n",
    "ax.axis('equal')  # Equal aspect ratio ensures the pie is circular.\n",
    "\n",
    "plt.title(\"The percentage of population with and without vehicles in Food deserts\")\n",
    "plt.show()\n"
   ]
  },
  {
   "cell_type": "markdown",
   "id": "f7eaaabf",
   "metadata": {},
   "source": [
    "Results :\n",
    "* By using LILATRACT_Vehicle we found that food desert people has less vehicle access and by using \"lahunv1share\" we found that percentage of people who doesn't have a vehicle is high for food deserts."
   ]
  },
  {
   "cell_type": "markdown",
   "id": "15b30aa4",
   "metadata": {},
   "source": [
    "\n",
    "Task : \n",
    "* Is there a significant difference in the prevalence of food deserts in areas with and without vehicle access issues?\n",
    "* The percentage of people who doesn't have a car for 10 miles in rural and 1 mile in urban for each state\n",
    "* Percentage of people who doesn't have a car in food desert both for urban and rural\n",
    "* Is the percentage low for urban areas? "
   ]
  },
  {
   "cell_type": "code",
   "execution_count": 120,
   "id": "b99dcbfa",
   "metadata": {},
   "outputs": [
    {
     "data": {
      "text/plain": [
       "6        0.062176\n",
       "17       0.047213\n",
       "37       0.018309\n",
       "40       0.022857\n",
       "51       0.007469\n",
       "           ...   \n",
       "72790    0.083430\n",
       "72791    0.009733\n",
       "72797    0.029439\n",
       "72806    0.155294\n",
       "72828    0.004485\n",
       "Name: lahunv1share, Length: 7905, dtype: float64"
      ]
     },
     "execution_count": 120,
     "metadata": {},
     "output_type": "execute_result"
    }
   ],
   "source": [
    "data[( data[\"LILATracts_1And10\"] ==1 ) & ( data[\"Urban\"] == 1)][\"lahunv1share\"]"
   ]
  },
  {
   "cell_type": "markdown",
   "id": "b5897bec",
   "metadata": {},
   "source": [
    "##### As expected the percentage of people who doesn't have a car is high for food deserts both in urban and rural areas"
   ]
  },
  {
   "cell_type": "code",
   "execution_count": null,
   "id": "4eeb57f3",
   "metadata": {},
   "outputs": [],
   "source": [
    "# Set the style for seaborn\n",
    "sns.set_style(\"whitegrid\")\n",
    "\n",
    "# Create a histogram\n",
    "sns.histplot(data=pd.DataFrame(data[( data[\"LILATracts_1And10\"] ==1 ) & ( data[\"Urban\"] == 1)][\"lahunv1share\"]), x =\"lahunv1share\", bins=50, kde=True)  # 'kde' adds a Kernel Density Estimate plot\n",
    "#\"Percentage of urban population who does not have vehicles in food desert\"\n",
    "# Show the plot\n",
    "plt.show()\n"
   ]
  },
  {
   "cell_type": "code",
   "execution_count": null,
   "id": "a34b1cf0",
   "metadata": {},
   "outputs": [],
   "source": [
    "# Create a histogram\n",
    "sns.histplot(data=pd.DataFrame(data[( data[\"LILATracts_1And10\"] ==0 ) & ( data[\"Urban\"] == 1)][\"lahunv1share\"]), x =\"lahunv1share\", bins=50, kde=True)  # 'kde' adds a Kernel Density Estimate plot\n",
    "#\"Percentage of urban population who does not have vehicles in food desert\"\n",
    "# Show the plot\n",
    "plt.show()"
   ]
  },
  {
   "cell_type": "code",
   "execution_count": null,
   "id": "8095b1a6",
   "metadata": {},
   "outputs": [],
   "source": [
    "# Create a histogram\n",
    "sns.histplot(data=pd.DataFrame(data[( data[\"LILATracts_1And10\"] ==1 ) & ( data[\"Urban\"] == 0)][\"lahunv10share\"]), x =\"lahunv10share\", bins=50, kde=True)  # 'kde' adds a Kernel Density Estimate plot\n",
    "#\"Percentage of urban population who does not have vehicles in food desert\"\n",
    "# Show the plot\n",
    "plt.show()"
   ]
  },
  {
   "cell_type": "code",
   "execution_count": null,
   "id": "9e68ad86",
   "metadata": {},
   "outputs": [],
   "source": [
    "# Create a histogram\n",
    "sns.histplot(data=pd.DataFrame(data[( data[\"LILATracts_1And10\"] ==0 ) & ( data[\"Urban\"] == 0)][\"lahunv10share\"]), x =\"lahunv10share\", bins=50, kde=True)  # 'kde' adds a Kernel Density Estimate plot\n",
    "#\"Percentage of urban population who does not have vehicles in food desert\"\n",
    "# Show the plot\n",
    "plt.show()"
   ]
  },
  {
   "cell_type": "code",
   "execution_count": null,
   "id": "945cc507",
   "metadata": {},
   "outputs": [],
   "source": [
    "# Create a histogram\n",
    "sns.histplot(data=pd.DataFrame(data[( data[\"LILATracts_1And10\"] ==1 )][\"lahunv10share\"]), x =\"lahunv10share\", bins=50, kde=True)  # 'kde' adds a Kernel Density Estimate plot\n",
    "#\"Percentage of urban population who does not have vehicles in food desert\"\n",
    "# Show the plot\n",
    "plt.show()"
   ]
  },
  {
   "cell_type": "markdown",
   "id": "817b854d",
   "metadata": {},
   "source": [
    "### The percentage of people who doesn't have a car for 10 miles in rural and 1 mile in urban for each state"
   ]
  },
  {
   "cell_type": "markdown",
   "id": "34f0a2f8",
   "metadata": {},
   "source": [
    "#### Is there a significant difference in the prevalence of food deserts in areas with and without vehicle access issues?"
   ]
  },
  {
   "cell_type": "markdown",
   "id": "a48818b7",
   "metadata": {},
   "source": [
    "Yes from the below analysis we find that food deserts are higher in areas without vehicles"
   ]
  },
  {
   "cell_type": "markdown",
   "id": "361c20fb",
   "metadata": {},
   "source": [
    "* The percentage of people who doesn't have a car in a food desert is higher than a non-food desert for urban population"
   ]
  },
  {
   "cell_type": "code",
   "execution_count": 119,
   "id": "d94e0b8a",
   "metadata": {},
   "outputs": [
    {
     "data": {
      "text/plain": [
       "LILATracts_1And10\n",
       "0    0.007168\n",
       "1    0.054564\n",
       "Name: lahunv1share, dtype: float64"
      ]
     },
     "execution_count": 119,
     "metadata": {},
     "output_type": "execute_result"
    }
   ],
   "source": [
    "data[( data[\"Urban\"] == 1)].groupby(\"LILATracts_1And10\")[\"lahunv1share\"].mean()"
   ]
  },
  {
   "cell_type": "code",
   "execution_count": 118,
   "id": "f275800c",
   "metadata": {},
   "outputs": [
    {
     "data": {
      "text/html": [
       "<div>\n",
       "<style scoped>\n",
       "    .dataframe tbody tr th:only-of-type {\n",
       "        vertical-align: middle;\n",
       "    }\n",
       "\n",
       "    .dataframe tbody tr th {\n",
       "        vertical-align: top;\n",
       "    }\n",
       "\n",
       "    .dataframe thead th {\n",
       "        text-align: right;\n",
       "    }\n",
       "</style>\n",
       "<table border=\"1\" class=\"dataframe\">\n",
       "  <thead>\n",
       "    <tr style=\"text-align: right;\">\n",
       "      <th></th>\n",
       "      <th>0</th>\n",
       "      <th>1</th>\n",
       "    </tr>\n",
       "  </thead>\n",
       "  <tbody>\n",
       "    <tr>\n",
       "      <th>0</th>\n",
       "      <td>0</td>\n",
       "      <td>0        0.014102\n",
       "1        0.029123\n",
       "2        0...</td>\n",
       "    </tr>\n",
       "    <tr>\n",
       "      <th>1</th>\n",
       "      <td>1</td>\n",
       "      <td>6        0.062176\n",
       "17       0.047213\n",
       "37       0...</td>\n",
       "    </tr>\n",
       "  </tbody>\n",
       "</table>\n",
       "</div>"
      ],
      "text/plain": [
       "   0                                                  1\n",
       "0  0  0        0.014102\n",
       "1        0.029123\n",
       "2        0...\n",
       "1  1  6        0.062176\n",
       "17       0.047213\n",
       "37       0..."
      ]
     },
     "execution_count": 118,
     "metadata": {},
     "output_type": "execute_result"
    }
   ],
   "source": [
    "pd.DataFrame(data[( data[\"Urban\"] == 1)].groupby(\"LILATracts_1And10\")[\"lahunv1share\"])"
   ]
  },
  {
   "cell_type": "markdown",
   "id": "3223bf2a",
   "metadata": {},
   "source": [
    "* The percentage of people who doesn't have a car in a food desert is higher than a non-food desert for rural population"
   ]
  },
  {
   "cell_type": "code",
   "execution_count": 117,
   "id": "0fb151df",
   "metadata": {},
   "outputs": [
    {
     "data": {
      "text/plain": [
       "LILATracts_1And10\n",
       "0    0.002321\n",
       "1    0.040797\n",
       "Name: lahunv10share, dtype: float64"
      ]
     },
     "execution_count": 117,
     "metadata": {},
     "output_type": "execute_result"
    }
   ],
   "source": [
    "data[( data[\"Urban\"] == 0)].groupby(\"LILATracts_1And10\")[\"lahunv10share\"].mean()"
   ]
  },
  {
   "cell_type": "markdown",
   "id": "fed16c52",
   "metadata": {},
   "source": [
    "* The percentage of people who doesn't have a car in both urban and rural is higher in food deserts compared to non-food deserts"
   ]
  },
  {
   "cell_type": "code",
   "execution_count": 116,
   "id": "63c2c6da",
   "metadata": {},
   "outputs": [
    {
     "data": {
      "text/plain": [
       "LILATracts_1And10\n",
       "0    0.013859\n",
       "1    0.056335\n",
       "Name: lahunv1share, dtype: float64"
      ]
     },
     "execution_count": 116,
     "metadata": {},
     "output_type": "execute_result"
    }
   ],
   "source": [
    "data.groupby(\"LILATracts_1And10\")[\"lahunv1share\"].mean()"
   ]
  },
  {
   "cell_type": "markdown",
   "id": "738e8c5a",
   "metadata": {},
   "source": [
    "* After 10 miles also the percentage of people The percentage of people who doesn't have a car is high in food deserts compared to non-food deserts"
   ]
  },
  {
   "cell_type": "code",
   "execution_count": 115,
   "id": "e4e9b1ea",
   "metadata": {},
   "outputs": [
    {
     "data": {
      "text/plain": [
       "LILATracts_1And10\n",
       "0    0.000607\n",
       "1    0.006052\n",
       "Name: lahunv10share, dtype: float64"
      ]
     },
     "execution_count": 115,
     "metadata": {},
     "output_type": "execute_result"
    }
   ],
   "source": [
    "data.groupby(\"LILATracts_1And10\")[\"lahunv10share\"].mean()"
   ]
  },
  {
   "cell_type": "markdown",
   "id": "41438086",
   "metadata": {},
   "source": [
    "* Genreally the Rural population don't have vehicles compared to urban population."
   ]
  },
  {
   "cell_type": "code",
   "execution_count": 113,
   "id": "308f546b",
   "metadata": {},
   "outputs": [
    {
     "data": {
      "text/plain": [
       "Urban\n",
       "0    0.035745\n",
       "1    0.013959\n",
       "Name: lahunv1share, dtype: float64"
      ]
     },
     "execution_count": 113,
     "metadata": {},
     "output_type": "execute_result"
    }
   ],
   "source": [
    "data.groupby(\"Urban\")[\"lahunv1share\"].mean()"
   ]
  },
  {
   "cell_type": "code",
   "execution_count": 114,
   "id": "0395ca97",
   "metadata": {},
   "outputs": [
    {
     "data": {
      "text/plain": [
       "Urban\n",
       "0    0.005235\n",
       "1    0.000036\n",
       "Name: lahunv10share, dtype: float64"
      ]
     },
     "execution_count": 114,
     "metadata": {},
     "output_type": "execute_result"
    }
   ],
   "source": [
    "data.groupby(\"Urban\")[\"lahunv10share\"].mean()"
   ]
  },
  {
   "cell_type": "markdown",
   "id": "fb3b15ea",
   "metadata": {},
   "source": [
    "### Percentage of people who doesn't have a car in food desert both for urban and rural\n",
    "#### Is the percentage low for urban areas?\n",
    "* Comparing the lahunv1share for urban \"0.054564\" and lahunv10share for rural \"0.040797\", the percentage of population who doesn't have vehicles is slightly more in urban food deserts "
   ]
  },
  {
   "cell_type": "code",
   "execution_count": 112,
   "id": "4f4056e7",
   "metadata": {},
   "outputs": [
    {
     "name": "stderr",
     "output_type": "stream",
     "text": [
      "/var/folders/6m/0w40n7p11jd2c0112ngdmyx40000gn/T/ipykernel_25998/2534779081.py:1: FutureWarning: Indexing with multiple keys (implicitly converted to a tuple of keys) will be deprecated, use a list instead.\n",
      "  data[( data[\"LILATracts_1And10\"] ==1 )].groupby(\"Urban\")[\"lahunv1share\",\"lahunv10share\"].mean()\n"
     ]
    },
    {
     "data": {
      "text/html": [
       "<div>\n",
       "<style scoped>\n",
       "    .dataframe tbody tr th:only-of-type {\n",
       "        vertical-align: middle;\n",
       "    }\n",
       "\n",
       "    .dataframe tbody tr th {\n",
       "        vertical-align: top;\n",
       "    }\n",
       "\n",
       "    .dataframe thead th {\n",
       "        text-align: right;\n",
       "    }\n",
       "</style>\n",
       "<table border=\"1\" class=\"dataframe\">\n",
       "  <thead>\n",
       "    <tr style=\"text-align: right;\">\n",
       "      <th></th>\n",
       "      <th>lahunv1share</th>\n",
       "      <th>lahunv10share</th>\n",
       "    </tr>\n",
       "    <tr>\n",
       "      <th>Urban</th>\n",
       "      <th></th>\n",
       "      <th></th>\n",
       "    </tr>\n",
       "  </thead>\n",
       "  <tbody>\n",
       "    <tr>\n",
       "      <th>0</th>\n",
       "      <td>0.066786</td>\n",
       "      <td>0.040797</td>\n",
       "    </tr>\n",
       "    <tr>\n",
       "      <th>1</th>\n",
       "      <td>0.054564</td>\n",
       "      <td>0.000162</td>\n",
       "    </tr>\n",
       "  </tbody>\n",
       "</table>\n",
       "</div>"
      ],
      "text/plain": [
       "       lahunv1share  lahunv10share\n",
       "Urban                             \n",
       "0          0.066786       0.040797\n",
       "1          0.054564       0.000162"
      ]
     },
     "execution_count": 112,
     "metadata": {},
     "output_type": "execute_result"
    }
   ],
   "source": [
    "data[( data[\"LILATracts_1And10\"] ==1 )].groupby(\"Urban\")[\"lahunv1share\",\"lahunv10share\"].mean()"
   ]
  },
  {
   "cell_type": "markdown",
   "id": "f15190eb",
   "metadata": {},
   "source": []
  },
  {
   "cell_type": "code",
   "execution_count": null,
   "id": "db2be4de",
   "metadata": {},
   "outputs": [],
   "source": [
    "data"
   ]
  },
  {
   "cell_type": "markdown",
   "id": "beabbcab",
   "metadata": {},
   "source": [
    "# Question 6 \n",
    " * How do income-related variables (MedianFamilyIncome, LowIncomeTracts) relate to food deserts? *\n",
    " * What is the median family income in food desert areas compared to non-food desert areas? \n",
    " * What percentage of low-income tracts are classified as food deserts ?\n",
    " * Create anova for this and poverty rate\n",
    " * Medianfamilyincome - confidence interval\n",
    " * Do anova between medianfamilyincome in Urban, rural, total and food desert, and then do posthoc if null is rejected\n"
   ]
  },
  {
   "cell_type": "code",
   "execution_count": null,
   "id": "b1cfc075",
   "metadata": {},
   "outputs": [],
   "source": [
    "pd.DataFrame(data[( data[\"LILATracts_1And10\"] ==1 ) & ( data[\"Urban\"] == 0)][\"MedianFamilyIncome\"])"
   ]
  },
  {
   "cell_type": "markdown",
   "id": "711e1b9c",
   "metadata": {},
   "source": [
    "### Median Income in food deserts\n",
    "Look how the graph is skewed.\n",
    "The urban population is skewing the data with high median family income, compared to the rural population"
   ]
  },
  {
   "cell_type": "code",
   "execution_count": null,
   "id": "04eb1e54",
   "metadata": {},
   "outputs": [],
   "source": [
    "# Create a histogram\n",
    "sns.histplot(data=pd.DataFrame(data[( data[\"LILATracts_1And10\"] ==1 )][\"MedianFamilyIncome\"]), x =\"MedianFamilyIncome\", bins=50, kde=True)  # 'kde' adds a Kernel Density Estimate plot\n",
    "#\"Percentage of urban population who does not have vehicles in food desert\"\n",
    "# Show the plot\n",
    "plt.show()"
   ]
  },
  {
   "cell_type": "code",
   "execution_count": null,
   "id": "233a10cd",
   "metadata": {},
   "outputs": [],
   "source": [
    "# Create a histogram\n",
    "sns.histplot(data=pd.DataFrame(data[( data[\"LILATracts_1And10\"] ==1 ) & ( data[\"Urban\"] == 0)][\"MedianFamilyIncome\"]), x =\"MedianFamilyIncome\", bins=50, kde=True)  # 'kde' adds a Kernel Density Estimate plot\n",
    "#\"Percentage of urban population who does not have vehicles in food desert\"\n",
    "# Show the plot\n",
    "plt.show()"
   ]
  },
  {
   "cell_type": "code",
   "execution_count": null,
   "id": "760b03d1",
   "metadata": {},
   "outputs": [],
   "source": [
    "# Create a histogram\n",
    "sns.histplot(data=pd.DataFrame(data[( data[\"LILATracts_1And10\"] ==1 ) & ( data[\"Urban\"] == 1)][\"MedianFamilyIncome\"]), x =\"MedianFamilyIncome\", bins=50, kde=True)  # 'kde' adds a Kernel Density Estimate plot\n",
    "#\"Percentage of urban population who does not have vehicles in food desert\"\n",
    "# Show the plot\n",
    "plt.show()"
   ]
  },
  {
   "cell_type": "markdown",
   "id": "b58877cf",
   "metadata": {},
   "source": [
    "### Median Income in non-food deserts\n",
    " * In non-food desert areas the rural population is more richer than the urban population."
   ]
  },
  {
   "cell_type": "code",
   "execution_count": null,
   "id": "a11fd87c",
   "metadata": {
    "scrolled": true
   },
   "outputs": [],
   "source": [
    "# Create a histogram\n",
    "sns.histplot(data=pd.DataFrame(data[( data[\"LILATracts_1And10\"] ==0 ) & ( data[\"Urban\"] == 1)][\"MedianFamilyIncome\"]), x =\"MedianFamilyIncome\", bins=50, kde=True)  # 'kde' adds a Kernel Density Estimate plot\n",
    "#\"Percentage of urban population who does not have vehicles in food desert\"\n",
    "# Show the plot\n",
    "plt.show()"
   ]
  },
  {
   "cell_type": "code",
   "execution_count": null,
   "id": "b1ffa315",
   "metadata": {},
   "outputs": [],
   "source": [
    "# Create a histogram\n",
    "sns.histplot(data=pd.DataFrame(data[( data[\"LILATracts_1And10\"] ==0 ) & ( data[\"Urban\"] == 0)][\"MedianFamilyIncome\"]), x =\"MedianFamilyIncome\", bins=50, kde=True)  # 'kde' adds a Kernel Density Estimate plot\n",
    "#\"Percentage of urban population who does not have vehicles in food desert\"\n",
    "# Show the plot\n",
    "plt.show()"
   ]
  },
  {
   "cell_type": "markdown",
   "id": "749817ff",
   "metadata": {},
   "source": [
    "#### Medianfamily income Between urban and rual"
   ]
  },
  {
   "cell_type": "code",
   "execution_count": null,
   "id": "14db38ba",
   "metadata": {},
   "outputs": [],
   "source": [
    "# Create a histogram\n",
    "sns.histplot(data=pd.DataFrame(data[ data[\"Urban\"] == 1][\"MedianFamilyIncome\"]), x =\"MedianFamilyIncome\", bins=50, kde=True)  # 'kde' adds a Kernel Density Estimate plot\n",
    "#\"Percentage of urban population who does not have vehicles in food desert\"\n",
    "# Show the plot\n",
    "plt.show()"
   ]
  },
  {
   "cell_type": "code",
   "execution_count": null,
   "id": "f96cb1cb",
   "metadata": {},
   "outputs": [],
   "source": [
    "# Create a histogram\n",
    "sns.histplot(data=pd.DataFrame(data[ data[\"Urban\"] == 0][\"MedianFamilyIncome\"]), x =\"MedianFamilyIncome\", bins=50, kde=True)  # 'kde' adds a Kernel Density Estimate plot\n",
    "#\"Percentage of urban population who does not have vehicles in food desert\"\n",
    "# Show the plot\n",
    "plt.show()"
   ]
  },
  {
   "cell_type": "markdown",
   "id": "98b5a131",
   "metadata": {},
   "source": [
    "#### Medianfamily income Between food desert and non-food desert\n",
    "* Non-food desert areas is more richer than food-desert tracts"
   ]
  },
  {
   "cell_type": "code",
   "execution_count": null,
   "id": "742a9da8",
   "metadata": {},
   "outputs": [],
   "source": [
    "# Create a histogram\n",
    "sns.histplot(data=pd.DataFrame(data[ data[\"LILATracts_1And10\"] == 0][\"MedianFamilyIncome\"]), x =\"MedianFamilyIncome\", bins=50, kde=True)  # 'kde' adds a Kernel Density Estimate plot\n",
    "#\"Percentage of urban population who does not have vehicles in food desert\"\n",
    "# Show the plot\n",
    "plt.show()"
   ]
  },
  {
   "cell_type": "code",
   "execution_count": null,
   "id": "a4564bf9",
   "metadata": {},
   "outputs": [],
   "source": [
    "# Create a histogram\n",
    "sns.histplot(data=pd.DataFrame(data[ data[\"LILATracts_1And10\"] == 1][\"MedianFamilyIncome\"]), x =\"MedianFamilyIncome\", bins=50, kde=True)  # 'kde' adds a Kernel Density Estimate plot\n",
    "#\"Percentage of urban population who does not have vehicles in food desert\"\n",
    "# Show the plot\n",
    "plt.show()"
   ]
  },
  {
   "cell_type": "markdown",
   "id": "5744b168",
   "metadata": {},
   "source": [
    "### What percentage of low-income tracts are classified as food deserts ?"
   ]
  },
  {
   "cell_type": "code",
   "execution_count": null,
   "id": "c659aad5",
   "metadata": {},
   "outputs": [],
   "source": [
    "data[(data[\"LILATracts_1And10\"] == 1 )&(data[\"LowIncomeTracts\"] == 1 )].sum()"
   ]
  },
  {
   "cell_type": "code",
   "execution_count": null,
   "id": "a94172ae",
   "metadata": {},
   "outputs": [],
   "source": [
    "(data[(data[\"LILATracts_1And10\"] == 1 )&(data[\"LowIncomeTracts\"] == 1 )][\"LILATracts_1And10\"].count())/(data[data[\"LowIncomeTracts\"]==1][\"LowIncomeTracts\"].count())"
   ]
  },
  {
   "cell_type": "code",
   "execution_count": null,
   "id": "884a2479",
   "metadata": {},
   "outputs": [],
   "source": [
    "# Plotting\n",
    "plt.figure(figsize=(8,8))\n",
    "plt.pie(counts, labels=labels, colors=colors, autopct='%1.1f%%', startangle=140)\n",
    "plt.axis('equal')  # Equal aspect ratio ensures that pie is drawn as a circle.\n",
    "plt.title(\"Pie chart for Two Variables\")\n",
    "plt.show()"
   ]
  },
  {
   "cell_type": "markdown",
   "id": "ffbc9acc",
   "metadata": {},
   "source": [
    "# Question 7a\n",
    "more work needed"
   ]
  },
  {
   "cell_type": "code",
   "execution_count": null,
   "id": "19d7afab",
   "metadata": {},
   "outputs": [],
   "source": [
    "data[\"LILATracts_1And10\"].value_counts()"
   ]
  },
  {
   "cell_type": "code",
   "execution_count": null,
   "id": "8b46c4d6",
   "metadata": {},
   "outputs": [],
   "source": [
    "9245/(9245 + 63619)"
   ]
  },
  {
   "cell_type": "code",
   "execution_count": null,
   "id": "3cbc9326",
   "metadata": {},
   "outputs": [],
   "source": [
    "data[\"LILATracts_1And20\"].value_counts()"
   ]
  },
  {
   "cell_type": "code",
   "execution_count": null,
   "id": "febbcafc",
   "metadata": {},
   "outputs": [],
   "source": [
    "8105/(8105 +64759 )"
   ]
  },
  {
   "cell_type": "code",
   "execution_count": null,
   "id": "5c3f12e1",
   "metadata": {},
   "outputs": [],
   "source": [
    "data[\"LILATracts_1And20\"].value_counts()"
   ]
  },
  {
   "cell_type": "code",
   "execution_count": null,
   "id": "f55f79b2",
   "metadata": {},
   "outputs": [],
   "source": [
    "data[\"LILATracts_halfAnd10\"].value_counts()"
   ]
  },
  {
   "cell_type": "code",
   "execution_count": null,
   "id": "6be600af",
   "metadata": {},
   "outputs": [],
   "source": [
    "20556/(20556+52308)"
   ]
  },
  {
   "cell_type": "code",
   "execution_count": null,
   "id": "65d10c47",
   "metadata": {},
   "outputs": [],
   "source": [
    "data[(data[\"LILATracts_1And10\"] ==1) & (data)"
   ]
  },
  {
   "cell_type": "markdown",
   "id": "4ba1b558",
   "metadata": {},
   "source": [
    "# question 8 :\n",
    "\n",
    "*  Are there specific areas with a high prevalence of food deserts that require targeted interventions?\n",
    "    - highest state and highest count of food desert\n",
    "    \n",
    "* What factors are strongly associated with the presence of food deserts and can be addressed to alleviate the issue? \n",
    "    - snap and food desert\n",
    "    - vehicle and food desert\n"
   ]
  },
  {
   "cell_type": "markdown",
   "id": "4ad8d75f",
   "metadata": {},
   "source": [
    "Question 9 :\n",
    "**Relevant**:\n",
    " **How do food deserts impact different demographic groups (e.g., racial and ethnic populations, age groups)?**\n",
    "- Are there disparities in food desert prevalence among different racial or ethnic groups?\n",
    "- How does the presence of food deserts affect children (TractKids) and seniors (TractSeniors) in the population?\n",
    "* calcualte 1share and urban = 1 likewise do 10share =1 and urban =0\n",
    "* results from keerthana: \n",
    "    - white population is more in food desert both in urban and rural"
   ]
  },
  {
   "cell_type": "markdown",
   "id": "5b96ca5c",
   "metadata": {},
   "source": [
    "# Misc "
   ]
  },
  {
   "cell_type": "code",
   "execution_count": null,
   "id": "2b7172f6",
   "metadata": {},
   "outputs": [],
   "source": [
    "data[(data[\"LA1and10\"]==1) & (data[\"Urban\"]== 1)][\"lapop1share\"]"
   ]
  },
  {
   "cell_type": "code",
   "execution_count": null,
   "id": "aaa9ab1a",
   "metadata": {},
   "outputs": [],
   "source": [
    "data[(data[\"LA1and10\"]==1) & (data[\"Urban\"]== 1) & (data[\"lapop1share\"] < 0.33)][\"lapop1share\"]"
   ]
  },
  {
   "cell_type": "markdown",
   "id": "99b54001",
   "metadata": {},
   "source": [
    "* find flag for tract where there is less no of supermarkets within 1 miles of access. \n",
    "* is LILATracts_1And10 a flag for food desert considering the super market or the accessibility of the tract?\n",
    "* According to the USDA website LILATracts_1And10 is the flag.\n",
    "* Low-income and low-access tract measured at 1 mile and 10 miles\n",
    "Definition: A low-income tract with at least 500 people, or 33 percent of the population, living more than 1 mile (urban areas) or more than 10 miles (rural areas) from the nearest supermarket, supercenter, or large grocery store."
   ]
  },
  {
   "cell_type": "markdown",
   "id": "7004efa6",
   "metadata": {},
   "source": [
    "* No vehicle, low access, share of housing units at 1 mile\n",
    " **Definition**: Percentage of housing units more than 1 mile from the nearest supermarket, supercenter, or large grocery store without access to a vehicle.\n",
    "* No vehicle, low access, share of housing units at 10 miles\n",
    "Definition: Percentage of housing units located more than 10 miles from the nearest supermarket, supercenter, or large grocery store without access to a vehicle. I think this is the variable \"lahunv10share\"\n",
    "* Out of the 33% population living outside 1 mile in urban, the above variable will tell us how many didn't have vehicles.\n",
    " * lahunv1share - this will tell us Percentage of housing units more than 1 mile from the nearest supermarket, supercenter, or large grocery store without access to a vehicle. But we need to use with filter urban = 1 to calculate only the urban share"
   ]
  },
  {
   "cell_type": "markdown",
   "id": "1688b3fd",
   "metadata": {},
   "source": [
    "* OHU2010 - Occupied housing unit count from 2010 census\n",
    "* TractHUNV - Total count of housing units without a vehicle in tract \n",
    "* If we divide TractHUNV by OHU2010, we should get the share of housing units without vehicles but it does not give us \"lahunv10share\" as  OHU2010 and TractHUNV don't consider the 1 or 10 miles within supermarket"
   ]
  },
  {
   "cell_type": "code",
   "execution_count": null,
   "id": "65686453",
   "metadata": {},
   "outputs": [],
   "source": []
  }
 ],
 "metadata": {
  "kernelspec": {
   "display_name": "Python 3 (ipykernel)",
   "language": "python",
   "name": "python3"
  },
  "language_info": {
   "codemirror_mode": {
    "name": "ipython",
    "version": 3
   },
   "file_extension": ".py",
   "mimetype": "text/x-python",
   "name": "python",
   "nbconvert_exporter": "python",
   "pygments_lexer": "ipython3",
   "version": "3.9.13"
  }
 },
 "nbformat": 4,
 "nbformat_minor": 5
}
